{
 "cells": [
  {
   "cell_type": "code",
   "execution_count": 3,
   "metadata": {},
   "outputs": [],
   "source": [
    "from sklearn.cluster import DBSCAN\n",
    "from sklearn import metrics\n",
    "import pandas as pd\n",
    "import matplotlib.pyplot as plt\n",
    "import datetime\n",
    "import numpy as np"
   ]
  },
  {
   "cell_type": "code",
   "execution_count": 4,
   "metadata": {},
   "outputs": [],
   "source": [
    "log_data=pd.read_csv('../Datas/log4.csv',header=None)"
   ]
  },
  {
   "cell_type": "code",
   "execution_count": 5,
   "metadata": {
    "scrolled": false
   },
   "outputs": [
    {
     "data": {
      "text/html": [
       "<div>\n",
       "<style scoped>\n",
       "    .dataframe tbody tr th:only-of-type {\n",
       "        vertical-align: middle;\n",
       "    }\n",
       "\n",
       "    .dataframe tbody tr th {\n",
       "        vertical-align: top;\n",
       "    }\n",
       "\n",
       "    .dataframe thead th {\n",
       "        text-align: right;\n",
       "    }\n",
       "</style>\n",
       "<table border=\"1\" class=\"dataframe\">\n",
       "  <thead>\n",
       "    <tr style=\"text-align: right;\">\n",
       "      <th></th>\n",
       "      <th>0</th>\n",
       "      <th>1</th>\n",
       "      <th>2</th>\n",
       "      <th>3</th>\n",
       "    </tr>\n",
       "  </thead>\n",
       "  <tbody>\n",
       "    <tr>\n",
       "      <th>0</th>\n",
       "      <td>roadkillstatus</td>\n",
       "      <td>1592058252564</td>\n",
       "      <td>2451238500</td>\n",
       "      <td>...</td>\n",
       "    </tr>\n",
       "    <tr>\n",
       "      <th>1</th>\n",
       "      <td>research2</td>\n",
       "      <td>1592058256043</td>\n",
       "      <td>46586900</td>\n",
       "      <td>...</td>\n",
       "    </tr>\n",
       "    <tr>\n",
       "      <th>2</th>\n",
       "      <td>busanmovie13</td>\n",
       "      <td>1592058256261</td>\n",
       "      <td>264503400</td>\n",
       "      <td>...</td>\n",
       "    </tr>\n",
       "    <tr>\n",
       "      <th>3</th>\n",
       "      <td>busanmovie5</td>\n",
       "      <td>1592058256666</td>\n",
       "      <td>29178500</td>\n",
       "      <td>...</td>\n",
       "    </tr>\n",
       "    <tr>\n",
       "      <th>4</th>\n",
       "      <td>busanmovie2</td>\n",
       "      <td>1592058256851</td>\n",
       "      <td>38638700</td>\n",
       "      <td>...</td>\n",
       "    </tr>\n",
       "    <tr>\n",
       "      <th>...</th>\n",
       "      <td>...</td>\n",
       "      <td>...</td>\n",
       "      <td>...</td>\n",
       "      <td>...</td>\n",
       "    </tr>\n",
       "    <tr>\n",
       "      <th>18795</th>\n",
       "      <td>TouristAtt</td>\n",
       "      <td>1592061570528</td>\n",
       "      <td>36693600</td>\n",
       "      <td>...</td>\n",
       "    </tr>\n",
       "    <tr>\n",
       "      <th>18796</th>\n",
       "      <td>ThemeTour_Subway</td>\n",
       "      <td>1592061570690</td>\n",
       "      <td>31064100</td>\n",
       "      <td>...</td>\n",
       "    </tr>\n",
       "    <tr>\n",
       "      <th>18797</th>\n",
       "      <td>research2</td>\n",
       "      <td>1592061570867</td>\n",
       "      <td>31363000</td>\n",
       "      <td>...</td>\n",
       "    </tr>\n",
       "    <tr>\n",
       "      <th>18798</th>\n",
       "      <td>research10</td>\n",
       "      <td>1592061571022</td>\n",
       "      <td>29779100</td>\n",
       "      <td>...</td>\n",
       "    </tr>\n",
       "    <tr>\n",
       "      <th>18799</th>\n",
       "      <td>research5</td>\n",
       "      <td>1592061571178</td>\n",
       "      <td>28255400</td>\n",
       "      <td>...</td>\n",
       "    </tr>\n",
       "  </tbody>\n",
       "</table>\n",
       "<p>18800 rows × 4 columns</p>\n",
       "</div>"
      ],
      "text/plain": [
       "                      0              1           2    3\n",
       "0        roadkillstatus  1592058252564  2451238500  ...\n",
       "1             research2  1592058256043    46586900  ...\n",
       "2          busanmovie13  1592058256261   264503400  ...\n",
       "3           busanmovie5  1592058256666    29178500  ...\n",
       "4           busanmovie2  1592058256851    38638700  ...\n",
       "...                 ...            ...         ...  ...\n",
       "18795        TouristAtt  1592061570528    36693600  ...\n",
       "18796  ThemeTour_Subway  1592061570690    31064100  ...\n",
       "18797         research2  1592061570867    31363000  ...\n",
       "18798        research10  1592061571022    29779100  ...\n",
       "18799         research5  1592061571178    28255400  ...\n",
       "\n",
       "[18800 rows x 4 columns]"
      ]
     },
     "execution_count": 5,
     "metadata": {},
     "output_type": "execute_result"
    }
   ],
   "source": [
    "log_data"
   ]
  },
  {
   "cell_type": "code",
   "execution_count": 6,
   "metadata": {},
   "outputs": [],
   "source": [
    "log_data.columns=['Dataset','Query Time','Execution Time','ManagerId']"
   ]
  },
  {
   "cell_type": "code",
   "execution_count": 7,
   "metadata": {},
   "outputs": [
    {
     "data": {
      "text/plain": [
       "<bound method DataFrame.info of                 Dataset     Query Time  Execution Time ManagerId\n",
       "0        roadkillstatus  1592058252564      2451238500       ...\n",
       "1             research2  1592058256043        46586900       ...\n",
       "2          busanmovie13  1592058256261       264503400       ...\n",
       "3           busanmovie5  1592058256666        29178500       ...\n",
       "4           busanmovie2  1592058256851        38638700       ...\n",
       "...                 ...            ...             ...       ...\n",
       "18795        TouristAtt  1592061570528        36693600       ...\n",
       "18796  ThemeTour_Subway  1592061570690        31064100       ...\n",
       "18797         research2  1592061570867        31363000       ...\n",
       "18798        research10  1592061571022        29779100       ...\n",
       "18799         research5  1592061571178        28255400       ...\n",
       "\n",
       "[18800 rows x 4 columns]>"
      ]
     },
     "execution_count": 7,
     "metadata": {},
     "output_type": "execute_result"
    }
   ],
   "source": [
    "log_data.info"
   ]
  },
  {
   "cell_type": "code",
   "execution_count": 8,
   "metadata": {
    "scrolled": true
   },
   "outputs": [
    {
     "data": {
      "text/html": [
       "<div>\n",
       "<style scoped>\n",
       "    .dataframe tbody tr th:only-of-type {\n",
       "        vertical-align: middle;\n",
       "    }\n",
       "\n",
       "    .dataframe tbody tr th {\n",
       "        vertical-align: top;\n",
       "    }\n",
       "\n",
       "    .dataframe thead th {\n",
       "        text-align: right;\n",
       "    }\n",
       "</style>\n",
       "<table border=\"1\" class=\"dataframe\">\n",
       "  <thead>\n",
       "    <tr style=\"text-align: right;\">\n",
       "      <th></th>\n",
       "      <th>Query Time</th>\n",
       "      <th>Execution Time</th>\n",
       "    </tr>\n",
       "  </thead>\n",
       "  <tbody>\n",
       "    <tr>\n",
       "      <th>count</th>\n",
       "      <td>1.880000e+04</td>\n",
       "      <td>1.880000e+04</td>\n",
       "    </tr>\n",
       "    <tr>\n",
       "      <th>mean</th>\n",
       "      <td>1.592060e+12</td>\n",
       "      <td>3.596896e+07</td>\n",
       "    </tr>\n",
       "    <tr>\n",
       "      <th>std</th>\n",
       "      <td>9.601152e+05</td>\n",
       "      <td>4.605090e+07</td>\n",
       "    </tr>\n",
       "    <tr>\n",
       "      <th>min</th>\n",
       "      <td>1.592058e+12</td>\n",
       "      <td>1.802540e+07</td>\n",
       "    </tr>\n",
       "    <tr>\n",
       "      <th>25%</th>\n",
       "      <td>1.592059e+12</td>\n",
       "      <td>2.605915e+07</td>\n",
       "    </tr>\n",
       "    <tr>\n",
       "      <th>50%</th>\n",
       "      <td>1.592060e+12</td>\n",
       "      <td>2.866610e+07</td>\n",
       "    </tr>\n",
       "    <tr>\n",
       "      <th>75%</th>\n",
       "      <td>1.592061e+12</td>\n",
       "      <td>3.082942e+07</td>\n",
       "    </tr>\n",
       "    <tr>\n",
       "      <th>max</th>\n",
       "      <td>1.592062e+12</td>\n",
       "      <td>2.728199e+09</td>\n",
       "    </tr>\n",
       "  </tbody>\n",
       "</table>\n",
       "</div>"
      ],
      "text/plain": [
       "         Query Time  Execution Time\n",
       "count  1.880000e+04    1.880000e+04\n",
       "mean   1.592060e+12    3.596896e+07\n",
       "std    9.601152e+05    4.605090e+07\n",
       "min    1.592058e+12    1.802540e+07\n",
       "25%    1.592059e+12    2.605915e+07\n",
       "50%    1.592060e+12    2.866610e+07\n",
       "75%    1.592061e+12    3.082942e+07\n",
       "max    1.592062e+12    2.728199e+09"
      ]
     },
     "execution_count": 8,
     "metadata": {},
     "output_type": "execute_result"
    }
   ],
   "source": [
    "log_data.describe()"
   ]
  },
  {
   "cell_type": "code",
   "execution_count": 9,
   "metadata": {},
   "outputs": [],
   "source": [
    "X=log_data[['Dataset','Query Time','Execution Time']]"
   ]
  },
  {
   "cell_type": "code",
   "execution_count": 10,
   "metadata": {},
   "outputs": [
    {
     "data": {
      "text/html": [
       "<div>\n",
       "<style scoped>\n",
       "    .dataframe tbody tr th:only-of-type {\n",
       "        vertical-align: middle;\n",
       "    }\n",
       "\n",
       "    .dataframe tbody tr th {\n",
       "        vertical-align: top;\n",
       "    }\n",
       "\n",
       "    .dataframe thead th {\n",
       "        text-align: right;\n",
       "    }\n",
       "</style>\n",
       "<table border=\"1\" class=\"dataframe\">\n",
       "  <thead>\n",
       "    <tr style=\"text-align: right;\">\n",
       "      <th></th>\n",
       "      <th>Dataset</th>\n",
       "      <th>Query Time</th>\n",
       "      <th>Execution Time</th>\n",
       "    </tr>\n",
       "  </thead>\n",
       "  <tbody>\n",
       "    <tr>\n",
       "      <th>0</th>\n",
       "      <td>roadkillstatus</td>\n",
       "      <td>1592058252564</td>\n",
       "      <td>2451238500</td>\n",
       "    </tr>\n",
       "    <tr>\n",
       "      <th>1</th>\n",
       "      <td>research2</td>\n",
       "      <td>1592058256043</td>\n",
       "      <td>46586900</td>\n",
       "    </tr>\n",
       "    <tr>\n",
       "      <th>2</th>\n",
       "      <td>busanmovie13</td>\n",
       "      <td>1592058256261</td>\n",
       "      <td>264503400</td>\n",
       "    </tr>\n",
       "    <tr>\n",
       "      <th>3</th>\n",
       "      <td>busanmovie5</td>\n",
       "      <td>1592058256666</td>\n",
       "      <td>29178500</td>\n",
       "    </tr>\n",
       "    <tr>\n",
       "      <th>4</th>\n",
       "      <td>busanmovie2</td>\n",
       "      <td>1592058256851</td>\n",
       "      <td>38638700</td>\n",
       "    </tr>\n",
       "    <tr>\n",
       "      <th>...</th>\n",
       "      <td>...</td>\n",
       "      <td>...</td>\n",
       "      <td>...</td>\n",
       "    </tr>\n",
       "    <tr>\n",
       "      <th>18795</th>\n",
       "      <td>TouristAtt</td>\n",
       "      <td>1592061570528</td>\n",
       "      <td>36693600</td>\n",
       "    </tr>\n",
       "    <tr>\n",
       "      <th>18796</th>\n",
       "      <td>ThemeTour_Subway</td>\n",
       "      <td>1592061570690</td>\n",
       "      <td>31064100</td>\n",
       "    </tr>\n",
       "    <tr>\n",
       "      <th>18797</th>\n",
       "      <td>research2</td>\n",
       "      <td>1592061570867</td>\n",
       "      <td>31363000</td>\n",
       "    </tr>\n",
       "    <tr>\n",
       "      <th>18798</th>\n",
       "      <td>research10</td>\n",
       "      <td>1592061571022</td>\n",
       "      <td>29779100</td>\n",
       "    </tr>\n",
       "    <tr>\n",
       "      <th>18799</th>\n",
       "      <td>research5</td>\n",
       "      <td>1592061571178</td>\n",
       "      <td>28255400</td>\n",
       "    </tr>\n",
       "  </tbody>\n",
       "</table>\n",
       "<p>18800 rows × 3 columns</p>\n",
       "</div>"
      ],
      "text/plain": [
       "                Dataset     Query Time  Execution Time\n",
       "0        roadkillstatus  1592058252564      2451238500\n",
       "1             research2  1592058256043        46586900\n",
       "2          busanmovie13  1592058256261       264503400\n",
       "3           busanmovie5  1592058256666        29178500\n",
       "4           busanmovie2  1592058256851        38638700\n",
       "...                 ...            ...             ...\n",
       "18795        TouristAtt  1592061570528        36693600\n",
       "18796  ThemeTour_Subway  1592061570690        31064100\n",
       "18797         research2  1592061570867        31363000\n",
       "18798        research10  1592061571022        29779100\n",
       "18799         research5  1592061571178        28255400\n",
       "\n",
       "[18800 rows x 3 columns]"
      ]
     },
     "execution_count": 10,
     "metadata": {},
     "output_type": "execute_result"
    }
   ],
   "source": [
    "X"
   ]
  },
  {
   "cell_type": "code",
   "execution_count": 11,
   "metadata": {},
   "outputs": [
    {
     "data": {
      "text/html": [
       "<div>\n",
       "<style scoped>\n",
       "    .dataframe tbody tr th:only-of-type {\n",
       "        vertical-align: middle;\n",
       "    }\n",
       "\n",
       "    .dataframe tbody tr th {\n",
       "        vertical-align: top;\n",
       "    }\n",
       "\n",
       "    .dataframe thead th {\n",
       "        text-align: right;\n",
       "    }\n",
       "</style>\n",
       "<table border=\"1\" class=\"dataframe\">\n",
       "  <thead>\n",
       "    <tr style=\"text-align: right;\">\n",
       "      <th></th>\n",
       "      <th>Query Time</th>\n",
       "      <th>Execution Time</th>\n",
       "    </tr>\n",
       "  </thead>\n",
       "  <tbody>\n",
       "    <tr>\n",
       "      <th>count</th>\n",
       "      <td>1.880000e+04</td>\n",
       "      <td>1.880000e+04</td>\n",
       "    </tr>\n",
       "    <tr>\n",
       "      <th>mean</th>\n",
       "      <td>1.592060e+12</td>\n",
       "      <td>3.596896e+07</td>\n",
       "    </tr>\n",
       "    <tr>\n",
       "      <th>std</th>\n",
       "      <td>9.601152e+05</td>\n",
       "      <td>4.605090e+07</td>\n",
       "    </tr>\n",
       "    <tr>\n",
       "      <th>min</th>\n",
       "      <td>1.592058e+12</td>\n",
       "      <td>1.802540e+07</td>\n",
       "    </tr>\n",
       "    <tr>\n",
       "      <th>25%</th>\n",
       "      <td>1.592059e+12</td>\n",
       "      <td>2.605915e+07</td>\n",
       "    </tr>\n",
       "    <tr>\n",
       "      <th>50%</th>\n",
       "      <td>1.592060e+12</td>\n",
       "      <td>2.866610e+07</td>\n",
       "    </tr>\n",
       "    <tr>\n",
       "      <th>75%</th>\n",
       "      <td>1.592061e+12</td>\n",
       "      <td>3.082942e+07</td>\n",
       "    </tr>\n",
       "    <tr>\n",
       "      <th>max</th>\n",
       "      <td>1.592062e+12</td>\n",
       "      <td>2.728199e+09</td>\n",
       "    </tr>\n",
       "  </tbody>\n",
       "</table>\n",
       "</div>"
      ],
      "text/plain": [
       "         Query Time  Execution Time\n",
       "count  1.880000e+04    1.880000e+04\n",
       "mean   1.592060e+12    3.596896e+07\n",
       "std    9.601152e+05    4.605090e+07\n",
       "min    1.592058e+12    1.802540e+07\n",
       "25%    1.592059e+12    2.605915e+07\n",
       "50%    1.592060e+12    2.866610e+07\n",
       "75%    1.592061e+12    3.082942e+07\n",
       "max    1.592062e+12    2.728199e+09"
      ]
     },
     "execution_count": 11,
     "metadata": {},
     "output_type": "execute_result"
    }
   ],
   "source": [
    "X.describe()"
   ]
  },
  {
   "cell_type": "code",
   "execution_count": 12,
   "metadata": {},
   "outputs": [
    {
     "name": "stderr",
     "output_type": "stream",
     "text": [
      "C:\\Users\\jhyun\\Anaconda3\\envs\\MLDL\\lib\\site-packages\\pandas\\core\\frame.py:2963: SettingWithCopyWarning: \n",
      "A value is trying to be set on a copy of a slice from a DataFrame.\n",
      "Try using .loc[row_indexer,col_indexer] = value instead\n",
      "\n",
      "See the caveats in the documentation: https://pandas.pydata.org/pandas-docs/stable/user_guide/indexing.html#returning-a-view-versus-a-copy\n",
      "  self[k1] = value[k2]\n"
     ]
    }
   ],
   "source": [
    "execute_mean=X[['Execution Time']].mean()\n",
    "execute_std=X[['Execution Time']].std()\n",
    "X[['Execution Time']]=(X[['Execution Time']]-execute_mean)/execute_std * 10"
   ]
  },
  {
   "cell_type": "code",
   "execution_count": 13,
   "metadata": {},
   "outputs": [],
   "source": [
    "query_mean=X[['Query Time']].mean()\n",
    "query_std=X[['Query Time']].std()\n",
    "X[['Query Time']]=(X[['Query Time']]-query_mean)/query_std"
   ]
  },
  {
   "cell_type": "code",
   "execution_count": 14,
   "metadata": {},
   "outputs": [],
   "source": [
    "outliar_removed_index=X[X[['Execution Time']]<2]['Execution Time'].dropna().index\n",
    "X=X.iloc[outliar_removed_index]"
   ]
  },
  {
   "cell_type": "code",
   "execution_count": 15,
   "metadata": {
    "scrolled": false
   },
   "outputs": [],
   "source": [
    "Dataset_Query=X.groupby('Dataset')['Query Time'].mean().to_frame().reset_index()"
   ]
  },
  {
   "cell_type": "code",
   "execution_count": 16,
   "metadata": {
    "scrolled": true
   },
   "outputs": [],
   "source": [
    "Dataset_Execution=X.groupby('Dataset')['Execution Time'].mean().to_frame().reset_index()"
   ]
  },
  {
   "cell_type": "code",
   "execution_count": 17,
   "metadata": {},
   "outputs": [],
   "source": [
    "Dataset_Query_Frequency=X.groupby('Dataset')['Query Time'].count().to_frame().reset_index()\n",
    "Dataset_Query_Frequency.rename(columns = {'Query Time' : 'Query Count'}, inplace = True)"
   ]
  },
  {
   "cell_type": "code",
   "execution_count": 18,
   "metadata": {},
   "outputs": [],
   "source": [
    "X=pd.merge(Dataset_Query,Dataset_Execution,on='Dataset')\n",
    "X=pd.merge(X,Dataset_Query_Frequency,on='Dataset')"
   ]
  },
  {
   "cell_type": "code",
   "execution_count": 19,
   "metadata": {},
   "outputs": [],
   "source": [
    "count_mean=X[['Query Count']].mean()\n",
    "count_std=X[['Query Count']].std()\n",
    "X[['Query Count']]=(X[['Query Count']]-count_mean)/count_std"
   ]
  },
  {
   "cell_type": "code",
   "execution_count": 20,
   "metadata": {
    "scrolled": true
   },
   "outputs": [
    {
     "data": {
      "text/html": [
       "<div>\n",
       "<style scoped>\n",
       "    .dataframe tbody tr th:only-of-type {\n",
       "        vertical-align: middle;\n",
       "    }\n",
       "\n",
       "    .dataframe tbody tr th {\n",
       "        vertical-align: top;\n",
       "    }\n",
       "\n",
       "    .dataframe thead th {\n",
       "        text-align: right;\n",
       "    }\n",
       "</style>\n",
       "<table border=\"1\" class=\"dataframe\">\n",
       "  <thead>\n",
       "    <tr style=\"text-align: right;\">\n",
       "      <th></th>\n",
       "      <th>Dataset</th>\n",
       "      <th>Query Time</th>\n",
       "      <th>Execution Time</th>\n",
       "      <th>Query Count</th>\n",
       "    </tr>\n",
       "  </thead>\n",
       "  <tbody>\n",
       "    <tr>\n",
       "      <th>0</th>\n",
       "      <td>CinemaMap</td>\n",
       "      <td>0.115276</td>\n",
       "      <td>-1.764432</td>\n",
       "      <td>-0.780450</td>\n",
       "    </tr>\n",
       "    <tr>\n",
       "      <th>1</th>\n",
       "      <td>Cinemap</td>\n",
       "      <td>-0.100628</td>\n",
       "      <td>-1.018976</td>\n",
       "      <td>-0.610090</td>\n",
       "    </tr>\n",
       "    <tr>\n",
       "      <th>2</th>\n",
       "      <td>CulturalAssets</td>\n",
       "      <td>-0.112342</td>\n",
       "      <td>0.408128</td>\n",
       "      <td>-0.595893</td>\n",
       "    </tr>\n",
       "    <tr>\n",
       "      <th>3</th>\n",
       "      <td>DureraumMovie3</td>\n",
       "      <td>0.251200</td>\n",
       "      <td>-0.945762</td>\n",
       "      <td>-0.832505</td>\n",
       "    </tr>\n",
       "    <tr>\n",
       "      <th>4</th>\n",
       "      <td>DureraumMovie4</td>\n",
       "      <td>-0.154003</td>\n",
       "      <td>-1.773979</td>\n",
       "      <td>-0.780450</td>\n",
       "    </tr>\n",
       "    <tr>\n",
       "      <th>...</th>\n",
       "      <td>...</td>\n",
       "      <td>...</td>\n",
       "      <td>...</td>\n",
       "      <td>...</td>\n",
       "    </tr>\n",
       "    <tr>\n",
       "      <th>85</th>\n",
       "      <td>research9</td>\n",
       "      <td>0.060087</td>\n",
       "      <td>-1.925823</td>\n",
       "      <td>1.268607</td>\n",
       "    </tr>\n",
       "    <tr>\n",
       "      <th>86</th>\n",
       "      <td>roadkillstatus</td>\n",
       "      <td>-0.000113</td>\n",
       "      <td>-1.744095</td>\n",
       "      <td>1.784420</td>\n",
       "    </tr>\n",
       "    <tr>\n",
       "      <th>87</th>\n",
       "      <td>roadkillstatus1</td>\n",
       "      <td>-0.016978</td>\n",
       "      <td>-1.738817</td>\n",
       "      <td>1.770223</td>\n",
       "    </tr>\n",
       "    <tr>\n",
       "      <th>88</th>\n",
       "      <td>tourguide</td>\n",
       "      <td>0.025619</td>\n",
       "      <td>-1.293794</td>\n",
       "      <td>0.894760</td>\n",
       "    </tr>\n",
       "    <tr>\n",
       "      <th>89</th>\n",
       "      <td>tourguide1</td>\n",
       "      <td>-0.075349</td>\n",
       "      <td>-1.090473</td>\n",
       "      <td>0.866367</td>\n",
       "    </tr>\n",
       "  </tbody>\n",
       "</table>\n",
       "<p>90 rows × 4 columns</p>\n",
       "</div>"
      ],
      "text/plain": [
       "            Dataset  Query Time  Execution Time  Query Count\n",
       "0         CinemaMap    0.115276       -1.764432    -0.780450\n",
       "1           Cinemap   -0.100628       -1.018976    -0.610090\n",
       "2    CulturalAssets   -0.112342        0.408128    -0.595893\n",
       "3    DureraumMovie3    0.251200       -0.945762    -0.832505\n",
       "4    DureraumMovie4   -0.154003       -1.773979    -0.780450\n",
       "..              ...         ...             ...          ...\n",
       "85        research9    0.060087       -1.925823     1.268607\n",
       "86   roadkillstatus   -0.000113       -1.744095     1.784420\n",
       "87  roadkillstatus1   -0.016978       -1.738817     1.770223\n",
       "88        tourguide    0.025619       -1.293794     0.894760\n",
       "89       tourguide1   -0.075349       -1.090473     0.866367\n",
       "\n",
       "[90 rows x 4 columns]"
      ]
     },
     "execution_count": 20,
     "metadata": {},
     "output_type": "execute_result"
    }
   ],
   "source": [
    "X"
   ]
  },
  {
   "cell_type": "code",
   "execution_count": 21,
   "metadata": {
    "scrolled": false
   },
   "outputs": [
    {
     "data": {
      "text/plain": [
       "array([[<matplotlib.axes._subplots.AxesSubplot object at 0x000001B7CDD0B488>]],\n",
       "      dtype=object)"
      ]
     },
     "execution_count": 21,
     "metadata": {},
     "output_type": "execute_result"
    },
    {
     "data": {
      "image/png": "[encoded data removed]",
      "text/plain": [
       "<Figure size 432x288 with 1 Axes>"
      ]
     },
     "metadata": {
      "needs_background": "light"
     },
     "output_type": "display_data"
    }
   ],
   "source": [
    "X[['Query Time']].hist()"
   ]
  },
  {
   "cell_type": "code",
   "execution_count": 22,
   "metadata": {},
   "outputs": [],
   "source": [
    "hot_execution_index=X[X[['Execution Time']]>X[['Execution Time']].mean()]['Execution Time'].dropna().index"
   ]
  },
  {
   "cell_type": "code",
   "execution_count": 23,
   "metadata": {},
   "outputs": [
    {
     "data": {
      "text/plain": [
       "Int64Index([ 1,  2,  3,  5,  6,  7, 17, 18, 19, 23, 24, 25, 26, 30, 31, 32, 34,\n",
       "            38, 39, 41, 55, 72, 73, 88, 89],\n",
       "           dtype='int64')"
      ]
     },
     "execution_count": 23,
     "metadata": {},
     "output_type": "execute_result"
    }
   ],
   "source": [
    "hot_execution_index"
   ]
  },
  {
   "cell_type": "code",
   "execution_count": 24,
   "metadata": {},
   "outputs": [],
   "source": [
    "hot_query_index=X[X[['Query Time']]>X[['Query Time']].mean()]['Query Time'].dropna().index"
   ]
  },
  {
   "cell_type": "code",
   "execution_count": 25,
   "metadata": {
    "scrolled": false
   },
   "outputs": [
    {
     "data": {
      "text/plain": [
       "Int64Index([ 0,  3,  9, 10, 11, 14, 15, 16, 17, 18, 19, 21, 25, 29, 31, 32, 36,\n",
       "            37, 39, 40, 41, 50, 52, 55, 57, 59, 60, 61, 62, 65, 66, 68, 69, 70,\n",
       "            76, 77, 84, 85],\n",
       "           dtype='int64')"
      ]
     },
     "execution_count": 25,
     "metadata": {},
     "output_type": "execute_result"
    }
   ],
   "source": [
    "hot_query_index"
   ]
  },
  {
   "cell_type": "code",
   "execution_count": 26,
   "metadata": {},
   "outputs": [],
   "source": [
    "hot_count_index=X[X[['Query Count']]>X[['Query Count']].mean()]['Query Count'].dropna().index"
   ]
  },
  {
   "cell_type": "code",
   "execution_count": 27,
   "metadata": {},
   "outputs": [
    {
     "data": {
      "text/plain": [
       "Int64Index([42, 43, 44, 45, 46, 47, 48, 49, 50, 51, 52, 53, 54, 56, 57, 72, 73,\n",
       "            74, 75, 76, 77, 78, 79, 80, 81, 82, 83, 84, 85, 86, 87, 88, 89],\n",
       "           dtype='int64')"
      ]
     },
     "execution_count": 27,
     "metadata": {},
     "output_type": "execute_result"
    }
   ],
   "source": [
    "hot_count_index"
   ]
  },
  {
   "cell_type": "code",
   "execution_count": 28,
   "metadata": {
    "scrolled": true
   },
   "outputs": [
    {
     "data": {
      "text/plain": [
       "array([[<matplotlib.axes._subplots.AxesSubplot object at 0x000001B7CE121848>]],\n",
       "      dtype=object)"
      ]
     },
     "execution_count": 28,
     "metadata": {},
     "output_type": "execute_result"
    },
    {
     "data": {
      "image/png": "[encoded data removed]",
      "text/plain": [
       "<Figure size 432x288 with 1 Axes>"
      ]
     },
     "metadata": {
      "needs_background": "light"
     },
     "output_type": "display_data"
    }
   ],
   "source": [
    "X[['Execution Time']].hist()"
   ]
  },
  {
   "cell_type": "code",
   "execution_count": 29,
   "metadata": {
    "scrolled": true
   },
   "outputs": [
    {
     "data": {
      "text/plain": [
       "array([[<matplotlib.axes._subplots.AxesSubplot object at 0x000001B7CE165908>]],\n",
       "      dtype=object)"
      ]
     },
     "execution_count": 29,
     "metadata": {},
     "output_type": "execute_result"
    },
    {
     "data": {
      "image/png": "[encoded data removed]",
      "text/plain": [
       "<Figure size 432x288 with 1 Axes>"
      ]
     },
     "metadata": {
      "needs_background": "light"
     },
     "output_type": "display_data"
    }
   ],
   "source": [
    "X[['Query Count']].hist()"
   ]
  },
  {
   "cell_type": "code",
   "execution_count": 30,
   "metadata": {
    "scrolled": true
   },
   "outputs": [
    {
     "data": {
      "image/png": "[encoded data removed]",
      "text/plain": [
       "<Figure size 432x432 with 1 Axes>"
      ]
     },
     "metadata": {
      "needs_background": "light"
     },
     "output_type": "display_data"
    }
   ],
   "source": [
    "fig=plt.figure(figsize=(6,6))\n",
    "ax = fig.add_subplot(111, projection='3d')\n",
    "ax.scatter(X[[\"Query Time\"]],X[[\"Execution Time\"]],X[[\"Query Count\"]])\n",
    "plt.show()"
   ]
  },
  {
   "cell_type": "code",
   "execution_count": 32,
   "metadata": {
    "scrolled": false
   },
   "outputs": [
    {
     "data": {
      "text/html": [
       "<div>\n",
       "<style scoped>\n",
       "    .dataframe tbody tr th:only-of-type {\n",
       "        vertical-align: middle;\n",
       "    }\n",
       "\n",
       "    .dataframe tbody tr th {\n",
       "        vertical-align: top;\n",
       "    }\n",
       "\n",
       "    .dataframe thead th {\n",
       "        text-align: right;\n",
       "    }\n",
       "</style>\n",
       "<table border=\"1\" class=\"dataframe\">\n",
       "  <thead>\n",
       "    <tr style=\"text-align: right;\">\n",
       "      <th></th>\n",
       "      <th>Dataset</th>\n",
       "      <th>Query Time</th>\n",
       "      <th>Execution Time</th>\n",
       "      <th>Query Count</th>\n",
       "    </tr>\n",
       "  </thead>\n",
       "  <tbody>\n",
       "    <tr>\n",
       "      <th>0</th>\n",
       "      <td>CinemaMap</td>\n",
       "      <td>0.115276</td>\n",
       "      <td>-1.764432</td>\n",
       "      <td>-0.780450</td>\n",
       "    </tr>\n",
       "    <tr>\n",
       "      <th>1</th>\n",
       "      <td>Cinemap</td>\n",
       "      <td>-0.100628</td>\n",
       "      <td>-1.018976</td>\n",
       "      <td>-0.610090</td>\n",
       "    </tr>\n",
       "    <tr>\n",
       "      <th>2</th>\n",
       "      <td>CulturalAssets</td>\n",
       "      <td>-0.112342</td>\n",
       "      <td>0.408128</td>\n",
       "      <td>-0.595893</td>\n",
       "    </tr>\n",
       "    <tr>\n",
       "      <th>3</th>\n",
       "      <td>DureraumMovie3</td>\n",
       "      <td>0.251200</td>\n",
       "      <td>-0.945762</td>\n",
       "      <td>-0.832505</td>\n",
       "    </tr>\n",
       "    <tr>\n",
       "      <th>4</th>\n",
       "      <td>DureraumMovie4</td>\n",
       "      <td>-0.154003</td>\n",
       "      <td>-1.773979</td>\n",
       "      <td>-0.780450</td>\n",
       "    </tr>\n",
       "    <tr>\n",
       "      <th>...</th>\n",
       "      <td>...</td>\n",
       "      <td>...</td>\n",
       "      <td>...</td>\n",
       "      <td>...</td>\n",
       "    </tr>\n",
       "    <tr>\n",
       "      <th>85</th>\n",
       "      <td>research9</td>\n",
       "      <td>0.060087</td>\n",
       "      <td>-1.925823</td>\n",
       "      <td>1.268607</td>\n",
       "    </tr>\n",
       "    <tr>\n",
       "      <th>86</th>\n",
       "      <td>roadkillstatus</td>\n",
       "      <td>-0.000113</td>\n",
       "      <td>-1.744095</td>\n",
       "      <td>1.784420</td>\n",
       "    </tr>\n",
       "    <tr>\n",
       "      <th>87</th>\n",
       "      <td>roadkillstatus1</td>\n",
       "      <td>-0.016978</td>\n",
       "      <td>-1.738817</td>\n",
       "      <td>1.770223</td>\n",
       "    </tr>\n",
       "    <tr>\n",
       "      <th>88</th>\n",
       "      <td>tourguide</td>\n",
       "      <td>0.025619</td>\n",
       "      <td>-1.293794</td>\n",
       "      <td>0.894760</td>\n",
       "    </tr>\n",
       "    <tr>\n",
       "      <th>89</th>\n",
       "      <td>tourguide1</td>\n",
       "      <td>-0.075349</td>\n",
       "      <td>-1.090473</td>\n",
       "      <td>0.866367</td>\n",
       "    </tr>\n",
       "  </tbody>\n",
       "</table>\n",
       "<p>90 rows × 4 columns</p>\n",
       "</div>"
      ],
      "text/plain": [
       "            Dataset  Query Time  Execution Time  Query Count\n",
       "0         CinemaMap    0.115276       -1.764432    -0.780450\n",
       "1           Cinemap   -0.100628       -1.018976    -0.610090\n",
       "2    CulturalAssets   -0.112342        0.408128    -0.595893\n",
       "3    DureraumMovie3    0.251200       -0.945762    -0.832505\n",
       "4    DureraumMovie4   -0.154003       -1.773979    -0.780450\n",
       "..              ...         ...             ...          ...\n",
       "85        research9    0.060087       -1.925823     1.268607\n",
       "86   roadkillstatus   -0.000113       -1.744095     1.784420\n",
       "87  roadkillstatus1   -0.016978       -1.738817     1.770223\n",
       "88        tourguide    0.025619       -1.293794     0.894760\n",
       "89       tourguide1   -0.075349       -1.090473     0.866367\n",
       "\n",
       "[90 rows x 4 columns]"
      ]
     },
     "execution_count": 32,
     "metadata": {},
     "output_type": "execute_result"
    }
   ],
   "source": [
    "X"
   ]
  },
  {
   "cell_type": "code",
   "execution_count": 33,
   "metadata": {},
   "outputs": [],
   "source": [
    "Train_X=X[[\"Query Time\", \"Execution Time\", \"Query Count\"]]"
   ]
  },
  {
   "cell_type": "code",
   "execution_count": 80,
   "metadata": {
    "scrolled": false
   },
   "outputs": [
    {
     "name": "stdout",
     "output_type": "stream",
     "text": [
      "{0, -1}\n",
      "[ 0 -1 -1 -1  0 -1 -1 -1  0  0 -1 -1  0  0  0  0  0 -1 -1 -1  0  0  0 -1\n",
      " -1 -1 -1  0  0  0 -1 -1 -1  0 -1  0  0  0 -1 -1  0 -1 -1 -1 -1 -1 -1 -1\n",
      " -1 -1 -1 -1 -1 -1 -1 -1 -1 -1  0  0  0  0  0  0  0  0  0  0  0  0  0  0\n",
      " -1 -1 -1 -1 -1 -1 -1 -1 -1 -1 -1 -1 -1 -1 -1 -1 -1 -1]\n"
     ]
    },
    {
     "data": {
      "image/png": "[encoded data removed]",
      "text/plain": [
       "<Figure size 432x432 with 1 Axes>"
      ]
     },
     "metadata": {
      "needs_background": "light"
     },
     "output_type": "display_data"
    }
   ],
   "source": [
    "db = DBSCAN(eps=0.3, min_samples=17).fit(Train_X)\n",
    "core_samples_mask = np.zeros_like(db.labels_, dtype=bool)\n",
    "core_samples_mask[db.core_sample_indices_] = True\n",
    "labels = db.labels_\n",
    "print(set(labels))\n",
    "n_clusters_ = len(set(labels))\n",
    "print(labels)\n",
    "\n",
    "groups={}\n",
    "\n",
    "for label in set(labels):\n",
    "    groups[label]=[];\n",
    "\n",
    "for index in range(len(Train_X)):\n",
    "    groups[labels[index]].append(index) \n",
    "\n",
    "# #############################################################################\n",
    "# Plot result\n",
    "import matplotlib.pyplot as plt\n",
    "fig=plt.figure(figsize=(6,6))\n",
    "ax = fig.add_subplot(111, projection='3d')\n",
    "color=['b','r','g']\n",
    "for index, group in enumerate(groups.values()):\n",
    "    xy=Train_X.loc[group]\n",
    "    ax.scatter(xy[[\"Query Time\"]],xy[[\"Execution Time\"]],xy[[\"Query Count\"]], 'o',c=color[index])\n",
    "\n",
    "    \n",
    "ax.set_xlabel(\"Query Time\");\n",
    "ax.set_ylabel(\"Execution Time\");\n",
    "ax.set_zlabel(\"Query Count\");\n",
    "ax.set_title(\"K-means result\");\n",
    "plt.title('Estimated number of clusters: %d' % n_clusters_)\n",
    "plt.show()"
   ]
  },
  {
   "cell_type": "code",
   "execution_count": null,
   "metadata": {},
   "outputs": [],
   "source": []
  }
 ],
 "metadata": {
  "kernelspec": {
   "display_name": "Python 3",
   "language": "python",
   "name": "python3"
  },
  "language_info": {
   "codemirror_mode": {
    "name": "ipython",
    "version": 3
   },
   "file_extension": ".py",
   "mimetype": "text/x-python",
   "name": "python",
   "nbconvert_exporter": "python",
   "pygments_lexer": "ipython3",
   "version": "3.7.7"
  }
 },
 "nbformat": 4,
 "nbformat_minor": 4
}
