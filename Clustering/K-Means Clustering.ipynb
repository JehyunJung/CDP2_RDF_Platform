{
 "cells": [
  {
   "cell_type": "code",
   "execution_count": 4,
   "metadata": {},
   "outputs": [],
   "source": [
    "from sklearn.cluster import KMeans\n",
    "import pandas as pd\n",
    "import matplotlib.pyplot as plt\n",
    "import datetime\n",
    "import numpy as np"
   ]
  },
  {
   "cell_type": "code",
   "execution_count": 5,
   "metadata": {},
   "outputs": [],
   "source": [
    "log_data=pd.read_csv('../Datas/log_final.csv',header=None)"
   ]
  },
  {
   "cell_type": "code",
   "execution_count": 6,
   "metadata": {
    "scrolled": false
   },
   "outputs": [
    {
     "data": {
      "text/html": [
       "<div>\n",
       "<style scoped>\n",
       "    .dataframe tbody tr th:only-of-type {\n",
       "        vertical-align: middle;\n",
       "    }\n",
       "\n",
       "    .dataframe tbody tr th {\n",
       "        vertical-align: top;\n",
       "    }\n",
       "\n",
       "    .dataframe thead th {\n",
       "        text-align: right;\n",
       "    }\n",
       "</style>\n",
       "<table border=\"1\" class=\"dataframe\">\n",
       "  <thead>\n",
       "    <tr style=\"text-align: right;\">\n",
       "      <th></th>\n",
       "      <th>0</th>\n",
       "      <th>1</th>\n",
       "      <th>2</th>\n",
       "      <th>3</th>\n",
       "    </tr>\n",
       "  </thead>\n",
       "  <tbody>\n",
       "    <tr>\n",
       "      <th>0</th>\n",
       "      <td>research1</td>\n",
       "      <td>1592584549387</td>\n",
       "      <td>2466395400</td>\n",
       "      <td>...</td>\n",
       "    </tr>\n",
       "    <tr>\n",
       "      <th>1</th>\n",
       "      <td>busanmovie3</td>\n",
       "      <td>1592584552882</td>\n",
       "      <td>60429700</td>\n",
       "      <td>...</td>\n",
       "    </tr>\n",
       "    <tr>\n",
       "      <th>2</th>\n",
       "      <td>research5</td>\n",
       "      <td>1592584553081</td>\n",
       "      <td>47762700</td>\n",
       "      <td>...</td>\n",
       "    </tr>\n",
       "    <tr>\n",
       "      <th>3</th>\n",
       "      <td>research9</td>\n",
       "      <td>1592584553282</td>\n",
       "      <td>45952100</td>\n",
       "      <td>...</td>\n",
       "    </tr>\n",
       "    <tr>\n",
       "      <th>4</th>\n",
       "      <td>research1</td>\n",
       "      <td>1592584553459</td>\n",
       "      <td>30488300</td>\n",
       "      <td>...</td>\n",
       "    </tr>\n",
       "    <tr>\n",
       "      <th>...</th>\n",
       "      <td>...</td>\n",
       "      <td>...</td>\n",
       "      <td>...</td>\n",
       "      <td>...</td>\n",
       "    </tr>\n",
       "    <tr>\n",
       "      <th>3995</th>\n",
       "      <td>endangeredanimals1</td>\n",
       "      <td>1592585230710</td>\n",
       "      <td>26005400</td>\n",
       "      <td>...</td>\n",
       "    </tr>\n",
       "    <tr>\n",
       "      <th>3996</th>\n",
       "      <td>CulturalAssets</td>\n",
       "      <td>1592585230884</td>\n",
       "      <td>35342200</td>\n",
       "      <td>...</td>\n",
       "    </tr>\n",
       "    <tr>\n",
       "      <th>3997</th>\n",
       "      <td>busanmovie8</td>\n",
       "      <td>1592585231057</td>\n",
       "      <td>117666200</td>\n",
       "      <td>...</td>\n",
       "    </tr>\n",
       "    <tr>\n",
       "      <th>3998</th>\n",
       "      <td>tourguide</td>\n",
       "      <td>1592585231304</td>\n",
       "      <td>27038400</td>\n",
       "      <td>...</td>\n",
       "    </tr>\n",
       "    <tr>\n",
       "      <th>3999</th>\n",
       "      <td>endangeredanimals1</td>\n",
       "      <td>1592585231474</td>\n",
       "      <td>25015300</td>\n",
       "      <td>...</td>\n",
       "    </tr>\n",
       "  </tbody>\n",
       "</table>\n",
       "<p>4000 rows × 4 columns</p>\n",
       "</div>"
      ],
      "text/plain": [
       "                       0              1           2    3\n",
       "0              research1  1592584549387  2466395400  ...\n",
       "1            busanmovie3  1592584552882    60429700  ...\n",
       "2              research5  1592584553081    47762700  ...\n",
       "3              research9  1592584553282    45952100  ...\n",
       "4              research1  1592584553459    30488300  ...\n",
       "...                  ...            ...         ...  ...\n",
       "3995  endangeredanimals1  1592585230710    26005400  ...\n",
       "3996      CulturalAssets  1592585230884    35342200  ...\n",
       "3997         busanmovie8  1592585231057   117666200  ...\n",
       "3998           tourguide  1592585231304    27038400  ...\n",
       "3999  endangeredanimals1  1592585231474    25015300  ...\n",
       "\n",
       "[4000 rows x 4 columns]"
      ]
     },
     "execution_count": 6,
     "metadata": {},
     "output_type": "execute_result"
    }
   ],
   "source": [
    "log_data"
   ]
  },
  {
   "cell_type": "code",
   "execution_count": 7,
   "metadata": {},
   "outputs": [],
   "source": [
    "log_data.columns=['Dataset','Query Time','Execution Time','ManagerId']"
   ]
  },
  {
   "cell_type": "code",
   "execution_count": 8,
   "metadata": {},
   "outputs": [
    {
     "data": {
      "text/plain": [
       "<bound method DataFrame.info of                  Dataset     Query Time  Execution Time ManagerId\n",
       "0              research1  1592584549387      2466395400       ...\n",
       "1            busanmovie3  1592584552882        60429700       ...\n",
       "2              research5  1592584553081        47762700       ...\n",
       "3              research9  1592584553282        45952100       ...\n",
       "4              research1  1592584553459        30488300       ...\n",
       "...                  ...            ...             ...       ...\n",
       "3995  endangeredanimals1  1592585230710        26005400       ...\n",
       "3996      CulturalAssets  1592585230884        35342200       ...\n",
       "3997         busanmovie8  1592585231057       117666200       ...\n",
       "3998           tourguide  1592585231304        27038400       ...\n",
       "3999  endangeredanimals1  1592585231474        25015300       ...\n",
       "\n",
       "[4000 rows x 4 columns]>"
      ]
     },
     "execution_count": 8,
     "metadata": {},
     "output_type": "execute_result"
    }
   ],
   "source": [
    "log_data.info"
   ]
  },
  {
   "cell_type": "code",
   "execution_count": 9,
   "metadata": {
    "scrolled": true
   },
   "outputs": [
    {
     "data": {
      "text/html": [
       "<div>\n",
       "<style scoped>\n",
       "    .dataframe tbody tr th:only-of-type {\n",
       "        vertical-align: middle;\n",
       "    }\n",
       "\n",
       "    .dataframe tbody tr th {\n",
       "        vertical-align: top;\n",
       "    }\n",
       "\n",
       "    .dataframe thead th {\n",
       "        text-align: right;\n",
       "    }\n",
       "</style>\n",
       "<table border=\"1\" class=\"dataframe\">\n",
       "  <thead>\n",
       "    <tr style=\"text-align: right;\">\n",
       "      <th></th>\n",
       "      <th>Query Time</th>\n",
       "      <th>Execution Time</th>\n",
       "    </tr>\n",
       "  </thead>\n",
       "  <tbody>\n",
       "    <tr>\n",
       "      <th>count</th>\n",
       "      <td>4.000000e+03</td>\n",
       "      <td>4.000000e+03</td>\n",
       "    </tr>\n",
       "    <tr>\n",
       "      <th>mean</th>\n",
       "      <td>1.592585e+12</td>\n",
       "      <td>3.859154e+07</td>\n",
       "    </tr>\n",
       "    <tr>\n",
       "      <th>std</th>\n",
       "      <td>1.955934e+05</td>\n",
       "      <td>7.410277e+07</td>\n",
       "    </tr>\n",
       "    <tr>\n",
       "      <th>min</th>\n",
       "      <td>1.592585e+12</td>\n",
       "      <td>1.964520e+07</td>\n",
       "    </tr>\n",
       "    <tr>\n",
       "      <th>25%</th>\n",
       "      <td>1.592585e+12</td>\n",
       "      <td>2.721360e+07</td>\n",
       "    </tr>\n",
       "    <tr>\n",
       "      <th>50%</th>\n",
       "      <td>1.592585e+12</td>\n",
       "      <td>2.899590e+07</td>\n",
       "    </tr>\n",
       "    <tr>\n",
       "      <th>75%</th>\n",
       "      <td>1.592585e+12</td>\n",
       "      <td>3.109592e+07</td>\n",
       "    </tr>\n",
       "    <tr>\n",
       "      <th>max</th>\n",
       "      <td>1.592585e+12</td>\n",
       "      <td>2.466395e+09</td>\n",
       "    </tr>\n",
       "  </tbody>\n",
       "</table>\n",
       "</div>"
      ],
      "text/plain": [
       "         Query Time  Execution Time\n",
       "count  4.000000e+03    4.000000e+03\n",
       "mean   1.592585e+12    3.859154e+07\n",
       "std    1.955934e+05    7.410277e+07\n",
       "min    1.592585e+12    1.964520e+07\n",
       "25%    1.592585e+12    2.721360e+07\n",
       "50%    1.592585e+12    2.899590e+07\n",
       "75%    1.592585e+12    3.109592e+07\n",
       "max    1.592585e+12    2.466395e+09"
      ]
     },
     "execution_count": 9,
     "metadata": {},
     "output_type": "execute_result"
    }
   ],
   "source": [
    "log_data.describe()"
   ]
  },
  {
   "cell_type": "code",
   "execution_count": 10,
   "metadata": {},
   "outputs": [],
   "source": [
    "X=log_data[['Dataset','Query Time','Execution Time']]"
   ]
  },
  {
   "cell_type": "code",
   "execution_count": 11,
   "metadata": {},
   "outputs": [
    {
     "data": {
      "text/html": [
       "<div>\n",
       "<style scoped>\n",
       "    .dataframe tbody tr th:only-of-type {\n",
       "        vertical-align: middle;\n",
       "    }\n",
       "\n",
       "    .dataframe tbody tr th {\n",
       "        vertical-align: top;\n",
       "    }\n",
       "\n",
       "    .dataframe thead th {\n",
       "        text-align: right;\n",
       "    }\n",
       "</style>\n",
       "<table border=\"1\" class=\"dataframe\">\n",
       "  <thead>\n",
       "    <tr style=\"text-align: right;\">\n",
       "      <th></th>\n",
       "      <th>Dataset</th>\n",
       "      <th>Query Time</th>\n",
       "      <th>Execution Time</th>\n",
       "    </tr>\n",
       "  </thead>\n",
       "  <tbody>\n",
       "    <tr>\n",
       "      <th>0</th>\n",
       "      <td>research1</td>\n",
       "      <td>1592584549387</td>\n",
       "      <td>2466395400</td>\n",
       "    </tr>\n",
       "    <tr>\n",
       "      <th>1</th>\n",
       "      <td>busanmovie3</td>\n",
       "      <td>1592584552882</td>\n",
       "      <td>60429700</td>\n",
       "    </tr>\n",
       "    <tr>\n",
       "      <th>2</th>\n",
       "      <td>research5</td>\n",
       "      <td>1592584553081</td>\n",
       "      <td>47762700</td>\n",
       "    </tr>\n",
       "    <tr>\n",
       "      <th>3</th>\n",
       "      <td>research9</td>\n",
       "      <td>1592584553282</td>\n",
       "      <td>45952100</td>\n",
       "    </tr>\n",
       "    <tr>\n",
       "      <th>4</th>\n",
       "      <td>research1</td>\n",
       "      <td>1592584553459</td>\n",
       "      <td>30488300</td>\n",
       "    </tr>\n",
       "    <tr>\n",
       "      <th>...</th>\n",
       "      <td>...</td>\n",
       "      <td>...</td>\n",
       "      <td>...</td>\n",
       "    </tr>\n",
       "    <tr>\n",
       "      <th>3995</th>\n",
       "      <td>endangeredanimals1</td>\n",
       "      <td>1592585230710</td>\n",
       "      <td>26005400</td>\n",
       "    </tr>\n",
       "    <tr>\n",
       "      <th>3996</th>\n",
       "      <td>CulturalAssets</td>\n",
       "      <td>1592585230884</td>\n",
       "      <td>35342200</td>\n",
       "    </tr>\n",
       "    <tr>\n",
       "      <th>3997</th>\n",
       "      <td>busanmovie8</td>\n",
       "      <td>1592585231057</td>\n",
       "      <td>117666200</td>\n",
       "    </tr>\n",
       "    <tr>\n",
       "      <th>3998</th>\n",
       "      <td>tourguide</td>\n",
       "      <td>1592585231304</td>\n",
       "      <td>27038400</td>\n",
       "    </tr>\n",
       "    <tr>\n",
       "      <th>3999</th>\n",
       "      <td>endangeredanimals1</td>\n",
       "      <td>1592585231474</td>\n",
       "      <td>25015300</td>\n",
       "    </tr>\n",
       "  </tbody>\n",
       "</table>\n",
       "<p>4000 rows × 3 columns</p>\n",
       "</div>"
      ],
      "text/plain": [
       "                 Dataset     Query Time  Execution Time\n",
       "0              research1  1592584549387      2466395400\n",
       "1            busanmovie3  1592584552882        60429700\n",
       "2              research5  1592584553081        47762700\n",
       "3              research9  1592584553282        45952100\n",
       "4              research1  1592584553459        30488300\n",
       "...                  ...            ...             ...\n",
       "3995  endangeredanimals1  1592585230710        26005400\n",
       "3996      CulturalAssets  1592585230884        35342200\n",
       "3997         busanmovie8  1592585231057       117666200\n",
       "3998           tourguide  1592585231304        27038400\n",
       "3999  endangeredanimals1  1592585231474        25015300\n",
       "\n",
       "[4000 rows x 3 columns]"
      ]
     },
     "execution_count": 11,
     "metadata": {},
     "output_type": "execute_result"
    }
   ],
   "source": [
    "X"
   ]
  },
  {
   "cell_type": "code",
   "execution_count": 12,
   "metadata": {},
   "outputs": [
    {
     "data": {
      "text/html": [
       "<div>\n",
       "<style scoped>\n",
       "    .dataframe tbody tr th:only-of-type {\n",
       "        vertical-align: middle;\n",
       "    }\n",
       "\n",
       "    .dataframe tbody tr th {\n",
       "        vertical-align: top;\n",
       "    }\n",
       "\n",
       "    .dataframe thead th {\n",
       "        text-align: right;\n",
       "    }\n",
       "</style>\n",
       "<table border=\"1\" class=\"dataframe\">\n",
       "  <thead>\n",
       "    <tr style=\"text-align: right;\">\n",
       "      <th></th>\n",
       "      <th>Query Time</th>\n",
       "      <th>Execution Time</th>\n",
       "    </tr>\n",
       "  </thead>\n",
       "  <tbody>\n",
       "    <tr>\n",
       "      <th>count</th>\n",
       "      <td>4.000000e+03</td>\n",
       "      <td>4.000000e+03</td>\n",
       "    </tr>\n",
       "    <tr>\n",
       "      <th>mean</th>\n",
       "      <td>1.592585e+12</td>\n",
       "      <td>3.859154e+07</td>\n",
       "    </tr>\n",
       "    <tr>\n",
       "      <th>std</th>\n",
       "      <td>1.955934e+05</td>\n",
       "      <td>7.410277e+07</td>\n",
       "    </tr>\n",
       "    <tr>\n",
       "      <th>min</th>\n",
       "      <td>1.592585e+12</td>\n",
       "      <td>1.964520e+07</td>\n",
       "    </tr>\n",
       "    <tr>\n",
       "      <th>25%</th>\n",
       "      <td>1.592585e+12</td>\n",
       "      <td>2.721360e+07</td>\n",
       "    </tr>\n",
       "    <tr>\n",
       "      <th>50%</th>\n",
       "      <td>1.592585e+12</td>\n",
       "      <td>2.899590e+07</td>\n",
       "    </tr>\n",
       "    <tr>\n",
       "      <th>75%</th>\n",
       "      <td>1.592585e+12</td>\n",
       "      <td>3.109592e+07</td>\n",
       "    </tr>\n",
       "    <tr>\n",
       "      <th>max</th>\n",
       "      <td>1.592585e+12</td>\n",
       "      <td>2.466395e+09</td>\n",
       "    </tr>\n",
       "  </tbody>\n",
       "</table>\n",
       "</div>"
      ],
      "text/plain": [
       "         Query Time  Execution Time\n",
       "count  4.000000e+03    4.000000e+03\n",
       "mean   1.592585e+12    3.859154e+07\n",
       "std    1.955934e+05    7.410277e+07\n",
       "min    1.592585e+12    1.964520e+07\n",
       "25%    1.592585e+12    2.721360e+07\n",
       "50%    1.592585e+12    2.899590e+07\n",
       "75%    1.592585e+12    3.109592e+07\n",
       "max    1.592585e+12    2.466395e+09"
      ]
     },
     "execution_count": 12,
     "metadata": {},
     "output_type": "execute_result"
    }
   ],
   "source": [
    "X.describe()"
   ]
  },
  {
   "cell_type": "code",
   "execution_count": 13,
   "metadata": {},
   "outputs": [
    {
     "name": "stderr",
     "output_type": "stream",
     "text": [
      "C:\\Users\\jhyun\\Anaconda3\\envs\\MLDL\\lib\\site-packages\\pandas\\core\\frame.py:2963: SettingWithCopyWarning: \n",
      "A value is trying to be set on a copy of a slice from a DataFrame.\n",
      "Try using .loc[row_indexer,col_indexer] = value instead\n",
      "\n",
      "See the caveats in the documentation: https://pandas.pydata.org/pandas-docs/stable/user_guide/indexing.html#returning-a-view-versus-a-copy\n",
      "  self[k1] = value[k2]\n"
     ]
    }
   ],
   "source": [
    "execute_mean=X[['Execution Time']].mean()\n",
    "execute_std=X[['Execution Time']].std()\n",
    "X[['Execution Time']]=(X[['Execution Time']]-execute_mean)/execute_std"
   ]
  },
  {
   "cell_type": "code",
   "execution_count": 14,
   "metadata": {},
   "outputs": [],
   "source": [
    "query_mean=X[['Query Time']].mean()\n",
    "query_std=X[['Query Time']].std()\n",
    "X[['Query Time']]=(X[['Query Time']]-query_mean)/query_std"
   ]
  },
  {
   "cell_type": "code",
   "execution_count": 15,
   "metadata": {},
   "outputs": [],
   "source": [
    "outliar_removed_index=X[X[['Execution Time']]<2]['Execution Time'].dropna().index\n",
    "X=X.iloc[outliar_removed_index]"
   ]
  },
  {
   "cell_type": "code",
   "execution_count": 16,
   "metadata": {
    "scrolled": false
   },
   "outputs": [],
   "source": [
    "Dataset_Query=X.groupby('Dataset')['Query Time'].mean().to_frame().reset_index()"
   ]
  },
  {
   "cell_type": "code",
   "execution_count": 17,
   "metadata": {
    "scrolled": true
   },
   "outputs": [],
   "source": [
    "Dataset_Execution=X.groupby('Dataset')['Execution Time'].mean().to_frame().reset_index()"
   ]
  },
  {
   "cell_type": "code",
   "execution_count": 18,
   "metadata": {},
   "outputs": [],
   "source": [
    "Dataset_Query_Frequency=X.groupby('Dataset')['Query Time'].count().to_frame().reset_index()\n",
    "Dataset_Query_Frequency.rename(columns = {'Query Time' : 'Query Count'}, inplace = True)"
   ]
  },
  {
   "cell_type": "code",
   "execution_count": 19,
   "metadata": {},
   "outputs": [],
   "source": [
    "X=pd.merge(Dataset_Query,Dataset_Execution,on='Dataset')\n",
    "X=pd.merge(X,Dataset_Query_Frequency,on='Dataset')"
   ]
  },
  {
   "cell_type": "code",
   "execution_count": 20,
   "metadata": {},
   "outputs": [],
   "source": [
    "count_mean=X[['Query Count']].mean()\n",
    "count_std=X[['Query Count']].std()\n",
    "X[['Query Count']]=(X[['Query Count']]-count_mean)/count_std"
   ]
  },
  {
   "cell_type": "code",
   "execution_count": 21,
   "metadata": {
    "scrolled": true
   },
   "outputs": [
    {
     "data": {
      "text/html": [
       "<div>\n",
       "<style scoped>\n",
       "    .dataframe tbody tr th:only-of-type {\n",
       "        vertical-align: middle;\n",
       "    }\n",
       "\n",
       "    .dataframe tbody tr th {\n",
       "        vertical-align: top;\n",
       "    }\n",
       "\n",
       "    .dataframe thead th {\n",
       "        text-align: right;\n",
       "    }\n",
       "</style>\n",
       "<table border=\"1\" class=\"dataframe\">\n",
       "  <thead>\n",
       "    <tr style=\"text-align: right;\">\n",
       "      <th></th>\n",
       "      <th>Dataset</th>\n",
       "      <th>Query Time</th>\n",
       "      <th>Execution Time</th>\n",
       "      <th>Query Count</th>\n",
       "    </tr>\n",
       "  </thead>\n",
       "  <tbody>\n",
       "    <tr>\n",
       "      <th>0</th>\n",
       "      <td>CinemaMap</td>\n",
       "      <td>0.123626</td>\n",
       "      <td>-0.156107</td>\n",
       "      <td>-0.903562</td>\n",
       "    </tr>\n",
       "    <tr>\n",
       "      <th>1</th>\n",
       "      <td>Cinemap</td>\n",
       "      <td>0.303268</td>\n",
       "      <td>-0.105673</td>\n",
       "      <td>-0.340218</td>\n",
       "    </tr>\n",
       "    <tr>\n",
       "      <th>2</th>\n",
       "      <td>CulturalAssets</td>\n",
       "      <td>0.317496</td>\n",
       "      <td>-0.003003</td>\n",
       "      <td>-0.340218</td>\n",
       "    </tr>\n",
       "    <tr>\n",
       "      <th>3</th>\n",
       "      <td>ETCCutSlope</td>\n",
       "      <td>-0.168982</td>\n",
       "      <td>0.075982</td>\n",
       "      <td>-0.903562</td>\n",
       "    </tr>\n",
       "    <tr>\n",
       "      <th>4</th>\n",
       "      <td>Exhibit</td>\n",
       "      <td>0.136785</td>\n",
       "      <td>0.206433</td>\n",
       "      <td>-0.903562</td>\n",
       "    </tr>\n",
       "    <tr>\n",
       "      <th>5</th>\n",
       "      <td>ExhibitionArea</td>\n",
       "      <td>-0.094992</td>\n",
       "      <td>-0.130481</td>\n",
       "      <td>-0.369867</td>\n",
       "    </tr>\n",
       "    <tr>\n",
       "      <th>6</th>\n",
       "      <td>ExperienceTour</td>\n",
       "      <td>-0.404879</td>\n",
       "      <td>1.105542</td>\n",
       "      <td>-0.903562</td>\n",
       "    </tr>\n",
       "    <tr>\n",
       "      <th>7</th>\n",
       "      <td>Gallery</td>\n",
       "      <td>0.302616</td>\n",
       "      <td>-0.156528</td>\n",
       "      <td>-0.903562</td>\n",
       "    </tr>\n",
       "    <tr>\n",
       "      <th>8</th>\n",
       "      <td>GeneralStructureCutSlope</td>\n",
       "      <td>-0.557785</td>\n",
       "      <td>-0.110505</td>\n",
       "      <td>-0.933212</td>\n",
       "    </tr>\n",
       "    <tr>\n",
       "      <th>9</th>\n",
       "      <td>GenreClassificationRule</td>\n",
       "      <td>0.543691</td>\n",
       "      <td>-0.185324</td>\n",
       "      <td>-0.933212</td>\n",
       "    </tr>\n",
       "    <tr>\n",
       "      <th>10</th>\n",
       "      <td>LocationInBusan1</td>\n",
       "      <td>0.310104</td>\n",
       "      <td>0.473680</td>\n",
       "      <td>-0.340218</td>\n",
       "    </tr>\n",
       "    <tr>\n",
       "      <th>11</th>\n",
       "      <td>LocationInBusan2</td>\n",
       "      <td>-0.101782</td>\n",
       "      <td>-0.118611</td>\n",
       "      <td>-0.369867</td>\n",
       "    </tr>\n",
       "    <tr>\n",
       "      <th>12</th>\n",
       "      <td>LuxuryTour</td>\n",
       "      <td>0.151293</td>\n",
       "      <td>-0.125438</td>\n",
       "      <td>-0.280918</td>\n",
       "    </tr>\n",
       "    <tr>\n",
       "      <th>13</th>\n",
       "      <td>MemorialHall</td>\n",
       "      <td>0.130224</td>\n",
       "      <td>-0.161611</td>\n",
       "      <td>-0.903562</td>\n",
       "    </tr>\n",
       "    <tr>\n",
       "      <th>14</th>\n",
       "      <td>Museum</td>\n",
       "      <td>-1.072703</td>\n",
       "      <td>-0.137855</td>\n",
       "      <td>-0.458817</td>\n",
       "    </tr>\n",
       "    <tr>\n",
       "      <th>15</th>\n",
       "      <td>Museum1</td>\n",
       "      <td>-0.417109</td>\n",
       "      <td>-0.161439</td>\n",
       "      <td>-0.903562</td>\n",
       "    </tr>\n",
       "    <tr>\n",
       "      <th>16</th>\n",
       "      <td>MusicDance1</td>\n",
       "      <td>-0.086363</td>\n",
       "      <td>1.179768</td>\n",
       "      <td>-0.933212</td>\n",
       "    </tr>\n",
       "    <tr>\n",
       "      <th>17</th>\n",
       "      <td>MusicDance2</td>\n",
       "      <td>0.500923</td>\n",
       "      <td>0.475670</td>\n",
       "      <td>-0.429167</td>\n",
       "    </tr>\n",
       "    <tr>\n",
       "      <th>18</th>\n",
       "      <td>Musical</td>\n",
       "      <td>0.295248</td>\n",
       "      <td>1.531598</td>\n",
       "      <td>-0.903562</td>\n",
       "    </tr>\n",
       "    <tr>\n",
       "      <th>19</th>\n",
       "      <td>Musical1</td>\n",
       "      <td>0.143633</td>\n",
       "      <td>-0.143812</td>\n",
       "      <td>-0.903562</td>\n",
       "    </tr>\n",
       "    <tr>\n",
       "      <th>20</th>\n",
       "      <td>RailwayRetainingWall</td>\n",
       "      <td>0.527358</td>\n",
       "      <td>0.091058</td>\n",
       "      <td>-0.903562</td>\n",
       "    </tr>\n",
       "    <tr>\n",
       "      <th>21</th>\n",
       "      <td>RecommendTour</td>\n",
       "      <td>-0.075860</td>\n",
       "      <td>-0.121916</td>\n",
       "      <td>-0.399517</td>\n",
       "    </tr>\n",
       "    <tr>\n",
       "      <th>22</th>\n",
       "      <td>RecommendTour1</td>\n",
       "      <td>0.013575</td>\n",
       "      <td>0.057180</td>\n",
       "      <td>-0.844263</td>\n",
       "    </tr>\n",
       "    <tr>\n",
       "      <th>23</th>\n",
       "      <td>Sports</td>\n",
       "      <td>-0.927537</td>\n",
       "      <td>-0.115559</td>\n",
       "      <td>-0.903562</td>\n",
       "    </tr>\n",
       "    <tr>\n",
       "      <th>24</th>\n",
       "      <td>Stay</td>\n",
       "      <td>0.116963</td>\n",
       "      <td>-0.110699</td>\n",
       "      <td>-0.903562</td>\n",
       "    </tr>\n",
       "    <tr>\n",
       "      <th>25</th>\n",
       "      <td>Theater</td>\n",
       "      <td>0.144464</td>\n",
       "      <td>-0.134231</td>\n",
       "      <td>-0.280918</td>\n",
       "    </tr>\n",
       "    <tr>\n",
       "      <th>26</th>\n",
       "      <td>TouristAtt</td>\n",
       "      <td>-0.180173</td>\n",
       "      <td>-0.042338</td>\n",
       "      <td>-0.888737</td>\n",
       "    </tr>\n",
       "    <tr>\n",
       "      <th>27</th>\n",
       "      <td>WalkingTour</td>\n",
       "      <td>0.044355</td>\n",
       "      <td>1.909626</td>\n",
       "      <td>-0.784963</td>\n",
       "    </tr>\n",
       "    <tr>\n",
       "      <th>28</th>\n",
       "      <td>busanfestival</td>\n",
       "      <td>-0.192009</td>\n",
       "      <td>-0.024824</td>\n",
       "      <td>-0.829438</td>\n",
       "    </tr>\n",
       "    <tr>\n",
       "      <th>29</th>\n",
       "      <td>busanmovie1</td>\n",
       "      <td>-0.034686</td>\n",
       "      <td>-0.133666</td>\n",
       "      <td>0.890245</td>\n",
       "    </tr>\n",
       "    <tr>\n",
       "      <th>30</th>\n",
       "      <td>busanmovie2</td>\n",
       "      <td>-0.031980</td>\n",
       "      <td>-0.134188</td>\n",
       "      <td>2.002109</td>\n",
       "    </tr>\n",
       "    <tr>\n",
       "      <th>31</th>\n",
       "      <td>busanmovie3</td>\n",
       "      <td>0.108078</td>\n",
       "      <td>0.076179</td>\n",
       "      <td>0.816121</td>\n",
       "    </tr>\n",
       "    <tr>\n",
       "      <th>32</th>\n",
       "      <td>busanmovie4</td>\n",
       "      <td>0.103048</td>\n",
       "      <td>-0.054767</td>\n",
       "      <td>0.578923</td>\n",
       "    </tr>\n",
       "    <tr>\n",
       "      <th>33</th>\n",
       "      <td>busanmovie5</td>\n",
       "      <td>-0.022196</td>\n",
       "      <td>-0.137223</td>\n",
       "      <td>1.675962</td>\n",
       "    </tr>\n",
       "    <tr>\n",
       "      <th>34</th>\n",
       "      <td>busanmovie6</td>\n",
       "      <td>-0.024438</td>\n",
       "      <td>0.159439</td>\n",
       "      <td>0.030404</td>\n",
       "    </tr>\n",
       "    <tr>\n",
       "      <th>35</th>\n",
       "      <td>busanmovie7</td>\n",
       "      <td>-0.020885</td>\n",
       "      <td>0.274347</td>\n",
       "      <td>-0.088195</td>\n",
       "    </tr>\n",
       "    <tr>\n",
       "      <th>36</th>\n",
       "      <td>busanmovie8</td>\n",
       "      <td>-0.141520</td>\n",
       "      <td>0.059623</td>\n",
       "      <td>-0.636715</td>\n",
       "    </tr>\n",
       "    <tr>\n",
       "      <th>37</th>\n",
       "      <td>busanmovie9</td>\n",
       "      <td>-0.236748</td>\n",
       "      <td>-0.105451</td>\n",
       "      <td>-0.710839</td>\n",
       "    </tr>\n",
       "    <tr>\n",
       "      <th>38</th>\n",
       "      <td>busanplace</td>\n",
       "      <td>0.050422</td>\n",
       "      <td>0.414420</td>\n",
       "      <td>-0.844263</td>\n",
       "    </tr>\n",
       "    <tr>\n",
       "      <th>39</th>\n",
       "      <td>busantour</td>\n",
       "      <td>0.062564</td>\n",
       "      <td>0.247826</td>\n",
       "      <td>-0.903562</td>\n",
       "    </tr>\n",
       "    <tr>\n",
       "      <th>40</th>\n",
       "      <td>endangeredanimals</td>\n",
       "      <td>0.048989</td>\n",
       "      <td>-0.143718</td>\n",
       "      <td>1.349815</td>\n",
       "    </tr>\n",
       "    <tr>\n",
       "      <th>41</th>\n",
       "      <td>endangeredanimals1</td>\n",
       "      <td>0.843405</td>\n",
       "      <td>-0.125227</td>\n",
       "      <td>0.608573</td>\n",
       "    </tr>\n",
       "    <tr>\n",
       "      <th>42</th>\n",
       "      <td>koreanhistory</td>\n",
       "      <td>-0.093743</td>\n",
       "      <td>-0.087265</td>\n",
       "      <td>1.157092</td>\n",
       "    </tr>\n",
       "    <tr>\n",
       "      <th>43</th>\n",
       "      <td>koreanhistory1</td>\n",
       "      <td>0.093948</td>\n",
       "      <td>-0.084499</td>\n",
       "      <td>1.260866</td>\n",
       "    </tr>\n",
       "    <tr>\n",
       "      <th>44</th>\n",
       "      <td>nationalparkstatus</td>\n",
       "      <td>0.176517</td>\n",
       "      <td>-0.140609</td>\n",
       "      <td>3.217746</td>\n",
       "    </tr>\n",
       "    <tr>\n",
       "      <th>45</th>\n",
       "      <td>research1</td>\n",
       "      <td>-0.098592</td>\n",
       "      <td>-0.143279</td>\n",
       "      <td>1.216392</td>\n",
       "    </tr>\n",
       "    <tr>\n",
       "      <th>46</th>\n",
       "      <td>research10</td>\n",
       "      <td>0.073305</td>\n",
       "      <td>-0.147547</td>\n",
       "      <td>-0.295743</td>\n",
       "    </tr>\n",
       "    <tr>\n",
       "      <th>47</th>\n",
       "      <td>research2</td>\n",
       "      <td>-0.102734</td>\n",
       "      <td>-0.142244</td>\n",
       "      <td>1.231216</td>\n",
       "    </tr>\n",
       "    <tr>\n",
       "      <th>48</th>\n",
       "      <td>research3</td>\n",
       "      <td>-0.095790</td>\n",
       "      <td>-0.136868</td>\n",
       "      <td>1.231216</td>\n",
       "    </tr>\n",
       "    <tr>\n",
       "      <th>49</th>\n",
       "      <td>research4</td>\n",
       "      <td>-0.088907</td>\n",
       "      <td>-0.143084</td>\n",
       "      <td>1.231216</td>\n",
       "    </tr>\n",
       "    <tr>\n",
       "      <th>50</th>\n",
       "      <td>research5</td>\n",
       "      <td>-0.090495</td>\n",
       "      <td>-0.145762</td>\n",
       "      <td>1.675962</td>\n",
       "    </tr>\n",
       "    <tr>\n",
       "      <th>51</th>\n",
       "      <td>research6</td>\n",
       "      <td>-0.733207</td>\n",
       "      <td>-0.132355</td>\n",
       "      <td>0.401025</td>\n",
       "    </tr>\n",
       "    <tr>\n",
       "      <th>52</th>\n",
       "      <td>research7</td>\n",
       "      <td>0.234434</td>\n",
       "      <td>-0.130068</td>\n",
       "      <td>-0.488466</td>\n",
       "    </tr>\n",
       "    <tr>\n",
       "      <th>53</th>\n",
       "      <td>research8</td>\n",
       "      <td>-0.051527</td>\n",
       "      <td>-0.149937</td>\n",
       "      <td>-0.577415</td>\n",
       "    </tr>\n",
       "    <tr>\n",
       "      <th>54</th>\n",
       "      <td>research9</td>\n",
       "      <td>-0.634054</td>\n",
       "      <td>-0.138424</td>\n",
       "      <td>0.252776</td>\n",
       "    </tr>\n",
       "    <tr>\n",
       "      <th>55</th>\n",
       "      <td>roadkillstatus</td>\n",
       "      <td>-0.049568</td>\n",
       "      <td>-0.133382</td>\n",
       "      <td>1.675962</td>\n",
       "    </tr>\n",
       "    <tr>\n",
       "      <th>56</th>\n",
       "      <td>roadkillstatus1</td>\n",
       "      <td>0.079760</td>\n",
       "      <td>-0.121053</td>\n",
       "      <td>0.786471</td>\n",
       "    </tr>\n",
       "    <tr>\n",
       "      <th>57</th>\n",
       "      <td>tourguide</td>\n",
       "      <td>0.116828</td>\n",
       "      <td>-0.012119</td>\n",
       "      <td>0.771646</td>\n",
       "    </tr>\n",
       "    <tr>\n",
       "      <th>58</th>\n",
       "      <td>tourguide1</td>\n",
       "      <td>0.022980</td>\n",
       "      <td>-0.031998</td>\n",
       "      <td>1.082968</td>\n",
       "    </tr>\n",
       "  </tbody>\n",
       "</table>\n",
       "</div>"
      ],
      "text/plain": [
       "                     Dataset  Query Time  Execution Time  Query Count\n",
       "0                  CinemaMap    0.123626       -0.156107    -0.903562\n",
       "1                    Cinemap    0.303268       -0.105673    -0.340218\n",
       "2             CulturalAssets    0.317496       -0.003003    -0.340218\n",
       "3                ETCCutSlope   -0.168982        0.075982    -0.903562\n",
       "4                    Exhibit    0.136785        0.206433    -0.903562\n",
       "5             ExhibitionArea   -0.094992       -0.130481    -0.369867\n",
       "6             ExperienceTour   -0.404879        1.105542    -0.903562\n",
       "7                    Gallery    0.302616       -0.156528    -0.903562\n",
       "8   GeneralStructureCutSlope   -0.557785       -0.110505    -0.933212\n",
       "9    GenreClassificationRule    0.543691       -0.185324    -0.933212\n",
       "10          LocationInBusan1    0.310104        0.473680    -0.340218\n",
       "11          LocationInBusan2   -0.101782       -0.118611    -0.369867\n",
       "12                LuxuryTour    0.151293       -0.125438    -0.280918\n",
       "13              MemorialHall    0.130224       -0.161611    -0.903562\n",
       "14                    Museum   -1.072703       -0.137855    -0.458817\n",
       "15                   Museum1   -0.417109       -0.161439    -0.903562\n",
       "16               MusicDance1   -0.086363        1.179768    -0.933212\n",
       "17               MusicDance2    0.500923        0.475670    -0.429167\n",
       "18                   Musical    0.295248        1.531598    -0.903562\n",
       "19                  Musical1    0.143633       -0.143812    -0.903562\n",
       "20      RailwayRetainingWall    0.527358        0.091058    -0.903562\n",
       "21             RecommendTour   -0.075860       -0.121916    -0.399517\n",
       "22            RecommendTour1    0.013575        0.057180    -0.844263\n",
       "23                    Sports   -0.927537       -0.115559    -0.903562\n",
       "24                      Stay    0.116963       -0.110699    -0.903562\n",
       "25                   Theater    0.144464       -0.134231    -0.280918\n",
       "26                TouristAtt   -0.180173       -0.042338    -0.888737\n",
       "27               WalkingTour    0.044355        1.909626    -0.784963\n",
       "28             busanfestival   -0.192009       -0.024824    -0.829438\n",
       "29               busanmovie1   -0.034686       -0.133666     0.890245\n",
       "30               busanmovie2   -0.031980       -0.134188     2.002109\n",
       "31               busanmovie3    0.108078        0.076179     0.816121\n",
       "32               busanmovie4    0.103048       -0.054767     0.578923\n",
       "33               busanmovie5   -0.022196       -0.137223     1.675962\n",
       "34               busanmovie6   -0.024438        0.159439     0.030404\n",
       "35               busanmovie7   -0.020885        0.274347    -0.088195\n",
       "36               busanmovie8   -0.141520        0.059623    -0.636715\n",
       "37               busanmovie9   -0.236748       -0.105451    -0.710839\n",
       "38                busanplace    0.050422        0.414420    -0.844263\n",
       "39                 busantour    0.062564        0.247826    -0.903562\n",
       "40         endangeredanimals    0.048989       -0.143718     1.349815\n",
       "41        endangeredanimals1    0.843405       -0.125227     0.608573\n",
       "42             koreanhistory   -0.093743       -0.087265     1.157092\n",
       "43            koreanhistory1    0.093948       -0.084499     1.260866\n",
       "44        nationalparkstatus    0.176517       -0.140609     3.217746\n",
       "45                 research1   -0.098592       -0.143279     1.216392\n",
       "46                research10    0.073305       -0.147547    -0.295743\n",
       "47                 research2   -0.102734       -0.142244     1.231216\n",
       "48                 research3   -0.095790       -0.136868     1.231216\n",
       "49                 research4   -0.088907       -0.143084     1.231216\n",
       "50                 research5   -0.090495       -0.145762     1.675962\n",
       "51                 research6   -0.733207       -0.132355     0.401025\n",
       "52                 research7    0.234434       -0.130068    -0.488466\n",
       "53                 research8   -0.051527       -0.149937    -0.577415\n",
       "54                 research9   -0.634054       -0.138424     0.252776\n",
       "55            roadkillstatus   -0.049568       -0.133382     1.675962\n",
       "56           roadkillstatus1    0.079760       -0.121053     0.786471\n",
       "57                 tourguide    0.116828       -0.012119     0.771646\n",
       "58                tourguide1    0.022980       -0.031998     1.082968"
      ]
     },
     "execution_count": 21,
     "metadata": {},
     "output_type": "execute_result"
    }
   ],
   "source": [
    "X"
   ]
  },
  {
   "cell_type": "code",
   "execution_count": 22,
   "metadata": {
    "scrolled": false
   },
   "outputs": [
    {
     "data": {
      "text/plain": [
       "array([[<matplotlib.axes._subplots.AxesSubplot object at 0x000001BBBBAA7408>]],\n",
       "      dtype=object)"
      ]
     },
     "execution_count": 22,
     "metadata": {},
     "output_type": "execute_result"
    },
    {
     "data": {
      "image/png": "[encoded data removed]",
      "text/plain": [
       "<Figure size 432x288 with 1 Axes>"
      ]
     },
     "metadata": {
      "needs_background": "light"
     },
     "output_type": "display_data"
    }
   ],
   "source": [
    "X[['Query Time']].hist()"
   ]
  },
  {
   "cell_type": "code",
   "execution_count": 23,
   "metadata": {},
   "outputs": [],
   "source": [
    "hot_execution_index=X[X[['Execution Time']]>X[['Execution Time']].mean()]['Execution Time'].dropna().index"
   ]
  },
  {
   "cell_type": "code",
   "execution_count": 24,
   "metadata": {},
   "outputs": [
    {
     "data": {
      "text/plain": [
       "Int64Index([3, 4, 6, 10, 16, 17, 18, 20, 22, 27, 31, 34, 35, 36, 38, 39], dtype='int64')"
      ]
     },
     "execution_count": 24,
     "metadata": {},
     "output_type": "execute_result"
    }
   ],
   "source": [
    "hot_execution_index"
   ]
  },
  {
   "cell_type": "code",
   "execution_count": 25,
   "metadata": {},
   "outputs": [],
   "source": [
    "hot_query_index=X[X[['Query Time']]>X[['Query Time']].mean()]['Query Time'].dropna().index"
   ]
  },
  {
   "cell_type": "code",
   "execution_count": 26,
   "metadata": {
    "scrolled": false
   },
   "outputs": [
    {
     "data": {
      "text/plain": [
       "Int64Index([ 0,  1,  2,  4,  7,  9, 10, 12, 13, 17, 18, 19, 20, 22, 24, 25, 27,\n",
       "            31, 32, 38, 39, 40, 41, 43, 44, 46, 52, 56, 57, 58],\n",
       "           dtype='int64')"
      ]
     },
     "execution_count": 26,
     "metadata": {},
     "output_type": "execute_result"
    }
   ],
   "source": [
    "hot_query_index"
   ]
  },
  {
   "cell_type": "code",
   "execution_count": 27,
   "metadata": {},
   "outputs": [],
   "source": [
    "hot_count_index=X[X[['Query Count']]>X[['Query Count']].mean()]['Query Count'].dropna().index"
   ]
  },
  {
   "cell_type": "code",
   "execution_count": 28,
   "metadata": {},
   "outputs": [
    {
     "data": {
      "text/plain": [
       "Int64Index([29, 30, 31, 32, 33, 34, 40, 41, 42, 43, 44, 45, 47, 48, 49, 50, 51,\n",
       "            54, 55, 56, 57, 58],\n",
       "           dtype='int64')"
      ]
     },
     "execution_count": 28,
     "metadata": {},
     "output_type": "execute_result"
    }
   ],
   "source": [
    "hot_count_index"
   ]
  },
  {
   "cell_type": "code",
   "execution_count": 29,
   "metadata": {
    "scrolled": true
   },
   "outputs": [
    {
     "data": {
      "text/plain": [
       "array([[<matplotlib.axes._subplots.AxesSubplot object at 0x000001BBBBDE5108>]],\n",
       "      dtype=object)"
      ]
     },
     "execution_count": 29,
     "metadata": {},
     "output_type": "execute_result"
    },
    {
     "data": {
      "image/png": "[encoded data removed]",
      "text/plain": [
       "<Figure size 432x288 with 1 Axes>"
      ]
     },
     "metadata": {
      "needs_background": "light"
     },
     "output_type": "display_data"
    }
   ],
   "source": [
    "X[['Execution Time']].hist()"
   ]
  },
  {
   "cell_type": "code",
   "execution_count": 30,
   "metadata": {
    "scrolled": true
   },
   "outputs": [
    {
     "data": {
      "text/plain": [
       "array([[<matplotlib.axes._subplots.AxesSubplot object at 0x000001BBBBE988C8>]],\n",
       "      dtype=object)"
      ]
     },
     "execution_count": 30,
     "metadata": {},
     "output_type": "execute_result"
    },
    {
     "data": {
      "image/png": "[encoded data removed]",
      "text/plain": [
       "<Figure size 432x288 with 1 Axes>"
      ]
     },
     "metadata": {
      "needs_background": "light"
     },
     "output_type": "display_data"
    }
   ],
   "source": [
    "X[['Query Count']].hist()"
   ]
  },
  {
   "cell_type": "code",
   "execution_count": 31,
   "metadata": {
    "scrolled": true
   },
   "outputs": [
    {
     "data": {
      "image/png": "[encoded data removed]",
      "text/plain": [
       "<Figure size 432x432 with 1 Axes>"
      ]
     },
     "metadata": {
      "needs_background": "light"
     },
     "output_type": "display_data"
    }
   ],
   "source": [
    "fig=plt.figure(figsize=(6,6))\n",
    "ax = fig.add_subplot(111, projection='3d')\n",
    "ax.scatter(X[[\"Query Time\"]],X[[\"Execution Time\"]],X[[\"Query Count\"]])\n",
    "plt.show()"
   ]
  },
  {
   "cell_type": "code",
   "execution_count": 32,
   "metadata": {},
   "outputs": [
    {
     "data": {
      "text/plain": [
       "KMeans(algorithm='auto', copy_x=True, init='k-means++', max_iter=300,\n",
       "       n_clusters=2, n_init=10, n_jobs=4, precompute_distances='auto',\n",
       "       random_state=None, tol=0.0001, verbose=0)"
      ]
     },
     "execution_count": 32,
     "metadata": {},
     "output_type": "execute_result"
    }
   ],
   "source": [
    "km=KMeans(n_clusters=2,n_jobs=4)\n",
    "km.fit(X[['Query Time','Execution Time','Query Count']])"
   ]
  },
  {
   "cell_type": "code",
   "execution_count": 33,
   "metadata": {},
   "outputs": [
    {
     "data": {
      "text/plain": [
       "array([[ 0.00758273, -0.10535632,  1.24307625],\n",
       "       [-0.02212827,  0.1370465 , -0.637475  ]])"
      ]
     },
     "execution_count": 33,
     "metadata": {},
     "output_type": "execute_result"
    }
   ],
   "source": [
    "centers=km.cluster_centers_\n",
    "centers"
   ]
  },
  {
   "cell_type": "code",
   "execution_count": 49,
   "metadata": {},
   "outputs": [],
   "source": [
    "hots=[x for x in range(km.labels_.size) if km.labels_[x]==0]\n",
    "colds=[x for x in range(km.labels_.size) if km.labels_[x]==1]\n",
    "hot_X=X.loc[hots]\n",
    "cold_X=X.loc[colds]"
   ]
  },
  {
   "cell_type": "code",
   "execution_count": 56,
   "metadata": {
    "scrolled": false
   },
   "outputs": [
    {
     "data": {
      "image/png": "[encoded data removed]",
      "text/plain": [
       "<Figure size 432x432 with 1 Axes>"
      ]
     },
     "metadata": {
      "needs_background": "light"
     },
     "output_type": "display_data"
    }
   ],
   "source": [
    "fig=plt.figure(figsize=(6,6))\n",
    "ax = fig.add_subplot(111, projection='3d')\n",
    "ax.scatter(hot_X[[\"Query Time\"]],hot_X[[\"Execution Time\"]],hot_X[[\"Query Count\"]],c='red')\n",
    "ax.scatter(cold_X[[\"Query Time\"]],cold_X[[\"Execution Time\"]],cold_X[[\"Query Count\"]],c='blue')\n",
    "ax.scatter(centers[0][0],centers[0][1],centers[0][2],marker='*',c='black',s=100)\n",
    "ax.scatter(centers[1][0],centers[1][1],centers[1][2],marker='*',c='black',s=100)\n",
    "ax.set_xlabel(\"Query Time\");\n",
    "ax.set_ylabel(\"Execution Time\");\n",
    "ax.set_zlabel(\"Query Count\");\n",
    "ax.set_title(\"K-means result\");\n",
    "plt.show()"
   ]
  },
  {
   "cell_type": "code",
   "execution_count": null,
   "metadata": {},
   "outputs": [],
   "source": []
  }
 ],
 "metadata": {
  "kernelspec": {
   "display_name": "Python 3",
   "language": "python",
   "name": "python3"
  },
  "language_info": {
   "codemirror_mode": {
    "name": "ipython",
    "version": 3
   },
   "file_extension": ".py",
   "mimetype": "text/x-python",
   "name": "python",
   "nbconvert_exporter": "python",
   "pygments_lexer": "ipython3",
   "version": "3.7.7"
  }
 },
 "nbformat": 4,
 "nbformat_minor": 4
}
