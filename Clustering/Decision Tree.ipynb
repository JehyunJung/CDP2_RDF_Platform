{
 "cells": [
  {
   "cell_type": "code",
   "execution_count": 104,
   "metadata": {},
   "outputs": [],
   "source": [
    "from sklearn.tree import DecisionTreeClassifier\n",
    "from sklearn.cluster import KMeans\n",
    "from sklearn.model_selection import train_test_split\n",
    "import pandas as pd\n",
    "import matplotlib.pyplot as plt\n",
    "import datetime\n",
    "import numpy as np"
   ]
  },
  {
   "cell_type": "code",
   "execution_count": 4,
   "metadata": {},
   "outputs": [],
   "source": [
    "log_data=pd.read_csv('../Datas/log1.csv',header=None)"
   ]
  },
  {
   "cell_type": "code",
   "execution_count": 5,
   "metadata": {
    "scrolled": false
   },
   "outputs": [
    {
     "data": {
      "text/html": [
       "<div>\n",
       "<style scoped>\n",
       "    .dataframe tbody tr th:only-of-type {\n",
       "        vertical-align: middle;\n",
       "    }\n",
       "\n",
       "    .dataframe tbody tr th {\n",
       "        vertical-align: top;\n",
       "    }\n",
       "\n",
       "    .dataframe thead th {\n",
       "        text-align: right;\n",
       "    }\n",
       "</style>\n",
       "<table border=\"1\" class=\"dataframe\">\n",
       "  <thead>\n",
       "    <tr style=\"text-align: right;\">\n",
       "      <th></th>\n",
       "      <th>0</th>\n",
       "      <th>1</th>\n",
       "      <th>2</th>\n",
       "      <th>3</th>\n",
       "    </tr>\n",
       "  </thead>\n",
       "  <tbody>\n",
       "    <tr>\n",
       "      <th>0</th>\n",
       "      <td>busanmovie5</td>\n",
       "      <td>1591524325900</td>\n",
       "      <td>2445509700</td>\n",
       "      <td>...</td>\n",
       "    </tr>\n",
       "    <tr>\n",
       "      <th>1</th>\n",
       "      <td>busanmovie1</td>\n",
       "      <td>1591524329458</td>\n",
       "      <td>58600800</td>\n",
       "      <td>...</td>\n",
       "    </tr>\n",
       "    <tr>\n",
       "      <th>2</th>\n",
       "      <td>busanmovie6</td>\n",
       "      <td>1591524329683</td>\n",
       "      <td>54576500</td>\n",
       "      <td>...</td>\n",
       "    </tr>\n",
       "    <tr>\n",
       "      <th>3</th>\n",
       "      <td>busanmovie1</td>\n",
       "      <td>1591524329894</td>\n",
       "      <td>47667400</td>\n",
       "      <td>...</td>\n",
       "    </tr>\n",
       "    <tr>\n",
       "      <th>4</th>\n",
       "      <td>tourguide1</td>\n",
       "      <td>1591524330100</td>\n",
       "      <td>53428500</td>\n",
       "      <td>...</td>\n",
       "    </tr>\n",
       "    <tr>\n",
       "      <th>...</th>\n",
       "      <td>...</td>\n",
       "      <td>...</td>\n",
       "      <td>...</td>\n",
       "      <td>...</td>\n",
       "    </tr>\n",
       "    <tr>\n",
       "      <th>2828</th>\n",
       "      <td>nationalparkstatus</td>\n",
       "      <td>1591524811658</td>\n",
       "      <td>28219600</td>\n",
       "      <td>...</td>\n",
       "    </tr>\n",
       "    <tr>\n",
       "      <th>2829</th>\n",
       "      <td>roadkillstatus</td>\n",
       "      <td>1591524811830</td>\n",
       "      <td>28280000</td>\n",
       "      <td>...</td>\n",
       "    </tr>\n",
       "    <tr>\n",
       "      <th>2830</th>\n",
       "      <td>tourguide</td>\n",
       "      <td>1591524811993</td>\n",
       "      <td>49620900</td>\n",
       "      <td>...</td>\n",
       "    </tr>\n",
       "    <tr>\n",
       "      <th>2831</th>\n",
       "      <td>endangeredanimals1</td>\n",
       "      <td>1591524812193</td>\n",
       "      <td>25620100</td>\n",
       "      <td>...</td>\n",
       "    </tr>\n",
       "    <tr>\n",
       "      <th>2832</th>\n",
       "      <td>tourguide1</td>\n",
       "      <td>1591524812371</td>\n",
       "      <td>43877400</td>\n",
       "      <td>...</td>\n",
       "    </tr>\n",
       "  </tbody>\n",
       "</table>\n",
       "<p>2833 rows × 4 columns</p>\n",
       "</div>"
      ],
      "text/plain": [
       "                       0              1           2    3\n",
       "0            busanmovie5  1591524325900  2445509700  ...\n",
       "1            busanmovie1  1591524329458    58600800  ...\n",
       "2            busanmovie6  1591524329683    54576500  ...\n",
       "3            busanmovie1  1591524329894    47667400  ...\n",
       "4             tourguide1  1591524330100    53428500  ...\n",
       "...                  ...            ...         ...  ...\n",
       "2828  nationalparkstatus  1591524811658    28219600  ...\n",
       "2829      roadkillstatus  1591524811830    28280000  ...\n",
       "2830           tourguide  1591524811993    49620900  ...\n",
       "2831  endangeredanimals1  1591524812193    25620100  ...\n",
       "2832          tourguide1  1591524812371    43877400  ...\n",
       "\n",
       "[2833 rows x 4 columns]"
      ]
     },
     "execution_count": 5,
     "metadata": {},
     "output_type": "execute_result"
    }
   ],
   "source": [
    "log_data"
   ]
  },
  {
   "cell_type": "code",
   "execution_count": 6,
   "metadata": {},
   "outputs": [],
   "source": [
    "log_data.columns=['Dataset','Query Time','Execution Time','ManagerId']"
   ]
  },
  {
   "cell_type": "code",
   "execution_count": 7,
   "metadata": {},
   "outputs": [
    {
     "data": {
      "text/plain": [
       "<bound method DataFrame.info of                  Dataset     Query Time  Execution Time ManagerId\n",
       "0            busanmovie5  1591524325900      2445509700       ...\n",
       "1            busanmovie1  1591524329458        58600800       ...\n",
       "2            busanmovie6  1591524329683        54576500       ...\n",
       "3            busanmovie1  1591524329894        47667400       ...\n",
       "4             tourguide1  1591524330100        53428500       ...\n",
       "...                  ...            ...             ...       ...\n",
       "2828  nationalparkstatus  1591524811658        28219600       ...\n",
       "2829      roadkillstatus  1591524811830        28280000       ...\n",
       "2830           tourguide  1591524811993        49620900       ...\n",
       "2831  endangeredanimals1  1591524812193        25620100       ...\n",
       "2832          tourguide1  1591524812371        43877400       ...\n",
       "\n",
       "[2833 rows x 4 columns]>"
      ]
     },
     "execution_count": 7,
     "metadata": {},
     "output_type": "execute_result"
    }
   ],
   "source": [
    "log_data.info"
   ]
  },
  {
   "cell_type": "code",
   "execution_count": 8,
   "metadata": {
    "scrolled": true
   },
   "outputs": [
    {
     "data": {
      "text/html": [
       "<div>\n",
       "<style scoped>\n",
       "    .dataframe tbody tr th:only-of-type {\n",
       "        vertical-align: middle;\n",
       "    }\n",
       "\n",
       "    .dataframe tbody tr th {\n",
       "        vertical-align: top;\n",
       "    }\n",
       "\n",
       "    .dataframe thead th {\n",
       "        text-align: right;\n",
       "    }\n",
       "</style>\n",
       "<table border=\"1\" class=\"dataframe\">\n",
       "  <thead>\n",
       "    <tr style=\"text-align: right;\">\n",
       "      <th></th>\n",
       "      <th>Query Time</th>\n",
       "      <th>Execution Time</th>\n",
       "    </tr>\n",
       "  </thead>\n",
       "  <tbody>\n",
       "    <tr>\n",
       "      <th>count</th>\n",
       "      <td>2.833000e+03</td>\n",
       "      <td>2.833000e+03</td>\n",
       "    </tr>\n",
       "    <tr>\n",
       "      <th>mean</th>\n",
       "      <td>1.591525e+12</td>\n",
       "      <td>3.077180e+07</td>\n",
       "    </tr>\n",
       "    <tr>\n",
       "      <th>std</th>\n",
       "      <td>1.377986e+05</td>\n",
       "      <td>4.820137e+07</td>\n",
       "    </tr>\n",
       "    <tr>\n",
       "      <th>min</th>\n",
       "      <td>1.591524e+12</td>\n",
       "      <td>1.826380e+07</td>\n",
       "    </tr>\n",
       "    <tr>\n",
       "      <th>25%</th>\n",
       "      <td>1.591524e+12</td>\n",
       "      <td>2.528870e+07</td>\n",
       "    </tr>\n",
       "    <tr>\n",
       "      <th>50%</th>\n",
       "      <td>1.591525e+12</td>\n",
       "      <td>2.642720e+07</td>\n",
       "    </tr>\n",
       "    <tr>\n",
       "      <th>75%</th>\n",
       "      <td>1.591525e+12</td>\n",
       "      <td>2.856920e+07</td>\n",
       "    </tr>\n",
       "    <tr>\n",
       "      <th>max</th>\n",
       "      <td>1.591525e+12</td>\n",
       "      <td>2.445510e+09</td>\n",
       "    </tr>\n",
       "  </tbody>\n",
       "</table>\n",
       "</div>"
      ],
      "text/plain": [
       "         Query Time  Execution Time\n",
       "count  2.833000e+03    2.833000e+03\n",
       "mean   1.591525e+12    3.077180e+07\n",
       "std    1.377986e+05    4.820137e+07\n",
       "min    1.591524e+12    1.826380e+07\n",
       "25%    1.591524e+12    2.528870e+07\n",
       "50%    1.591525e+12    2.642720e+07\n",
       "75%    1.591525e+12    2.856920e+07\n",
       "max    1.591525e+12    2.445510e+09"
      ]
     },
     "execution_count": 8,
     "metadata": {},
     "output_type": "execute_result"
    }
   ],
   "source": [
    "log_data.describe()"
   ]
  },
  {
   "cell_type": "code",
   "execution_count": 77,
   "metadata": {},
   "outputs": [],
   "source": [
    "X=log_data[['Dataset','Query Time','Execution Time']]"
   ]
  },
  {
   "cell_type": "code",
   "execution_count": 78,
   "metadata": {
    "scrolled": true
   },
   "outputs": [
    {
     "data": {
      "text/html": [
       "<div>\n",
       "<style scoped>\n",
       "    .dataframe tbody tr th:only-of-type {\n",
       "        vertical-align: middle;\n",
       "    }\n",
       "\n",
       "    .dataframe tbody tr th {\n",
       "        vertical-align: top;\n",
       "    }\n",
       "\n",
       "    .dataframe thead th {\n",
       "        text-align: right;\n",
       "    }\n",
       "</style>\n",
       "<table border=\"1\" class=\"dataframe\">\n",
       "  <thead>\n",
       "    <tr style=\"text-align: right;\">\n",
       "      <th></th>\n",
       "      <th>Dataset</th>\n",
       "      <th>Query Time</th>\n",
       "      <th>Execution Time</th>\n",
       "    </tr>\n",
       "  </thead>\n",
       "  <tbody>\n",
       "    <tr>\n",
       "      <th>0</th>\n",
       "      <td>busanmovie5</td>\n",
       "      <td>1591524325900</td>\n",
       "      <td>2445509700</td>\n",
       "    </tr>\n",
       "    <tr>\n",
       "      <th>1</th>\n",
       "      <td>busanmovie1</td>\n",
       "      <td>1591524329458</td>\n",
       "      <td>58600800</td>\n",
       "    </tr>\n",
       "    <tr>\n",
       "      <th>2</th>\n",
       "      <td>busanmovie6</td>\n",
       "      <td>1591524329683</td>\n",
       "      <td>54576500</td>\n",
       "    </tr>\n",
       "    <tr>\n",
       "      <th>3</th>\n",
       "      <td>busanmovie1</td>\n",
       "      <td>1591524329894</td>\n",
       "      <td>47667400</td>\n",
       "    </tr>\n",
       "    <tr>\n",
       "      <th>4</th>\n",
       "      <td>tourguide1</td>\n",
       "      <td>1591524330100</td>\n",
       "      <td>53428500</td>\n",
       "    </tr>\n",
       "    <tr>\n",
       "      <th>...</th>\n",
       "      <td>...</td>\n",
       "      <td>...</td>\n",
       "      <td>...</td>\n",
       "    </tr>\n",
       "    <tr>\n",
       "      <th>2828</th>\n",
       "      <td>nationalparkstatus</td>\n",
       "      <td>1591524811658</td>\n",
       "      <td>28219600</td>\n",
       "    </tr>\n",
       "    <tr>\n",
       "      <th>2829</th>\n",
       "      <td>roadkillstatus</td>\n",
       "      <td>1591524811830</td>\n",
       "      <td>28280000</td>\n",
       "    </tr>\n",
       "    <tr>\n",
       "      <th>2830</th>\n",
       "      <td>tourguide</td>\n",
       "      <td>1591524811993</td>\n",
       "      <td>49620900</td>\n",
       "    </tr>\n",
       "    <tr>\n",
       "      <th>2831</th>\n",
       "      <td>endangeredanimals1</td>\n",
       "      <td>1591524812193</td>\n",
       "      <td>25620100</td>\n",
       "    </tr>\n",
       "    <tr>\n",
       "      <th>2832</th>\n",
       "      <td>tourguide1</td>\n",
       "      <td>1591524812371</td>\n",
       "      <td>43877400</td>\n",
       "    </tr>\n",
       "  </tbody>\n",
       "</table>\n",
       "<p>2833 rows × 3 columns</p>\n",
       "</div>"
      ],
      "text/plain": [
       "                 Dataset     Query Time  Execution Time\n",
       "0            busanmovie5  1591524325900      2445509700\n",
       "1            busanmovie1  1591524329458        58600800\n",
       "2            busanmovie6  1591524329683        54576500\n",
       "3            busanmovie1  1591524329894        47667400\n",
       "4             tourguide1  1591524330100        53428500\n",
       "...                  ...            ...             ...\n",
       "2828  nationalparkstatus  1591524811658        28219600\n",
       "2829      roadkillstatus  1591524811830        28280000\n",
       "2830           tourguide  1591524811993        49620900\n",
       "2831  endangeredanimals1  1591524812193        25620100\n",
       "2832          tourguide1  1591524812371        43877400\n",
       "\n",
       "[2833 rows x 3 columns]"
      ]
     },
     "execution_count": 78,
     "metadata": {},
     "output_type": "execute_result"
    }
   ],
   "source": [
    "X"
   ]
  },
  {
   "cell_type": "code",
   "execution_count": 79,
   "metadata": {
    "scrolled": true
   },
   "outputs": [
    {
     "data": {
      "text/html": [
       "<div>\n",
       "<style scoped>\n",
       "    .dataframe tbody tr th:only-of-type {\n",
       "        vertical-align: middle;\n",
       "    }\n",
       "\n",
       "    .dataframe tbody tr th {\n",
       "        vertical-align: top;\n",
       "    }\n",
       "\n",
       "    .dataframe thead th {\n",
       "        text-align: right;\n",
       "    }\n",
       "</style>\n",
       "<table border=\"1\" class=\"dataframe\">\n",
       "  <thead>\n",
       "    <tr style=\"text-align: right;\">\n",
       "      <th></th>\n",
       "      <th>Query Time</th>\n",
       "      <th>Execution Time</th>\n",
       "    </tr>\n",
       "  </thead>\n",
       "  <tbody>\n",
       "    <tr>\n",
       "      <th>count</th>\n",
       "      <td>2.833000e+03</td>\n",
       "      <td>2.833000e+03</td>\n",
       "    </tr>\n",
       "    <tr>\n",
       "      <th>mean</th>\n",
       "      <td>1.591525e+12</td>\n",
       "      <td>3.077180e+07</td>\n",
       "    </tr>\n",
       "    <tr>\n",
       "      <th>std</th>\n",
       "      <td>1.377986e+05</td>\n",
       "      <td>4.820137e+07</td>\n",
       "    </tr>\n",
       "    <tr>\n",
       "      <th>min</th>\n",
       "      <td>1.591524e+12</td>\n",
       "      <td>1.826380e+07</td>\n",
       "    </tr>\n",
       "    <tr>\n",
       "      <th>25%</th>\n",
       "      <td>1.591524e+12</td>\n",
       "      <td>2.528870e+07</td>\n",
       "    </tr>\n",
       "    <tr>\n",
       "      <th>50%</th>\n",
       "      <td>1.591525e+12</td>\n",
       "      <td>2.642720e+07</td>\n",
       "    </tr>\n",
       "    <tr>\n",
       "      <th>75%</th>\n",
       "      <td>1.591525e+12</td>\n",
       "      <td>2.856920e+07</td>\n",
       "    </tr>\n",
       "    <tr>\n",
       "      <th>max</th>\n",
       "      <td>1.591525e+12</td>\n",
       "      <td>2.445510e+09</td>\n",
       "    </tr>\n",
       "  </tbody>\n",
       "</table>\n",
       "</div>"
      ],
      "text/plain": [
       "         Query Time  Execution Time\n",
       "count  2.833000e+03    2.833000e+03\n",
       "mean   1.591525e+12    3.077180e+07\n",
       "std    1.377986e+05    4.820137e+07\n",
       "min    1.591524e+12    1.826380e+07\n",
       "25%    1.591524e+12    2.528870e+07\n",
       "50%    1.591525e+12    2.642720e+07\n",
       "75%    1.591525e+12    2.856920e+07\n",
       "max    1.591525e+12    2.445510e+09"
      ]
     },
     "execution_count": 79,
     "metadata": {},
     "output_type": "execute_result"
    }
   ],
   "source": [
    "X.describe()"
   ]
  },
  {
   "cell_type": "code",
   "execution_count": 80,
   "metadata": {
    "scrolled": true
   },
   "outputs": [
    {
     "name": "stderr",
     "output_type": "stream",
     "text": [
      "C:\\Users\\jhyun\\Anaconda3\\envs\\MLDL\\lib\\site-packages\\pandas\\core\\frame.py:2963: SettingWithCopyWarning: \n",
      "A value is trying to be set on a copy of a slice from a DataFrame.\n",
      "Try using .loc[row_indexer,col_indexer] = value instead\n",
      "\n",
      "See the caveats in the documentation: https://pandas.pydata.org/pandas-docs/stable/user_guide/indexing.html#returning-a-view-versus-a-copy\n",
      "  self[k1] = value[k2]\n"
     ]
    }
   ],
   "source": [
    "execute_mean=X[['Execution Time']].mean()\n",
    "execute_std=X[['Execution Time']].std()\n",
    "X[['Execution Time']]=(X[['Execution Time']]-execute_mean)/execute_std * 10"
   ]
  },
  {
   "cell_type": "code",
   "execution_count": 81,
   "metadata": {
    "scrolled": true
   },
   "outputs": [],
   "source": [
    "query_min=X[['Query Time']].min()\n",
    "X[['Query Time']]=(X[['Query Time']]-query_min)"
   ]
  },
  {
   "cell_type": "code",
   "execution_count": 82,
   "metadata": {},
   "outputs": [],
   "source": [
    "outliar_removed_index=X[X[['Execution Time']]<2]['Execution Time'].dropna().index\n",
    "X=X.iloc[outliar_removed_index]"
   ]
  },
  {
   "cell_type": "code",
   "execution_count": 83,
   "metadata": {
    "scrolled": false
   },
   "outputs": [],
   "source": [
    "Dataset_Query=X.groupby('Dataset')['Query Time'].sum().to_frame().reset_index()"
   ]
  },
  {
   "cell_type": "code",
   "execution_count": 84,
   "metadata": {
    "scrolled": true
   },
   "outputs": [],
   "source": [
    "Dataset_Execution=X.groupby('Dataset')['Execution Time'].mean().to_frame().reset_index()"
   ]
  },
  {
   "cell_type": "code",
   "execution_count": 85,
   "metadata": {},
   "outputs": [],
   "source": [
    "Dataset_Query_Frequency=X.groupby('Dataset')['Query Time'].count().to_frame().reset_index()\n",
    "Dataset_Query_Frequency.rename(columns = {'Query Time' : 'Query Count'}, inplace = True)"
   ]
  },
  {
   "cell_type": "code",
   "execution_count": 86,
   "metadata": {},
   "outputs": [],
   "source": [
    "X=pd.merge(Dataset_Query,Dataset_Execution,on='Dataset')\n",
    "X=pd.merge(X,Dataset_Query_Frequency,on='Dataset')"
   ]
  },
  {
   "cell_type": "code",
   "execution_count": 87,
   "metadata": {},
   "outputs": [],
   "source": [
    "count_mean=X[['Query Count']].mean()\n",
    "count_std=X[['Query Count']].std()\n",
    "X[['Query Count']]=(X[['Query Count']]-count_mean)/count_std *10"
   ]
  },
  {
   "cell_type": "code",
   "execution_count": 88,
   "metadata": {},
   "outputs": [],
   "source": [
    "query_mean=X[['Query Time']].mean()\n",
    "query_std=X[['Query Time']].std()\n",
    "X[['Query Time']]=(X[['Query Time']]-query_mean) / query_std"
   ]
  },
  {
   "cell_type": "code",
   "execution_count": 89,
   "metadata": {
    "scrolled": false
   },
   "outputs": [
    {
     "data": {
      "text/html": [
       "<div>\n",
       "<style scoped>\n",
       "    .dataframe tbody tr th:only-of-type {\n",
       "        vertical-align: middle;\n",
       "    }\n",
       "\n",
       "    .dataframe tbody tr th {\n",
       "        vertical-align: top;\n",
       "    }\n",
       "\n",
       "    .dataframe thead th {\n",
       "        text-align: right;\n",
       "    }\n",
       "</style>\n",
       "<table border=\"1\" class=\"dataframe\">\n",
       "  <thead>\n",
       "    <tr style=\"text-align: right;\">\n",
       "      <th></th>\n",
       "      <th>Dataset</th>\n",
       "      <th>Query Time</th>\n",
       "      <th>Execution Time</th>\n",
       "      <th>Query Count</th>\n",
       "    </tr>\n",
       "  </thead>\n",
       "  <tbody>\n",
       "    <tr>\n",
       "      <th>0</th>\n",
       "      <td>busanmovie1</td>\n",
       "      <td>0.674722</td>\n",
       "      <td>-0.857548</td>\n",
       "      <td>8.477071</td>\n",
       "    </tr>\n",
       "    <tr>\n",
       "      <th>1</th>\n",
       "      <td>busanmovie2</td>\n",
       "      <td>-1.065483</td>\n",
       "      <td>-0.739944</td>\n",
       "      <td>-5.128105</td>\n",
       "    </tr>\n",
       "    <tr>\n",
       "      <th>2</th>\n",
       "      <td>busanmovie3</td>\n",
       "      <td>-1.728874</td>\n",
       "      <td>-0.825591</td>\n",
       "      <td>-15.105234</td>\n",
       "    </tr>\n",
       "    <tr>\n",
       "      <th>3</th>\n",
       "      <td>busanmovie4</td>\n",
       "      <td>-1.196107</td>\n",
       "      <td>-0.604405</td>\n",
       "      <td>-10.570175</td>\n",
       "    </tr>\n",
       "    <tr>\n",
       "      <th>4</th>\n",
       "      <td>busanmovie5</td>\n",
       "      <td>-0.209938</td>\n",
       "      <td>-0.825927</td>\n",
       "      <td>-0.593046</td>\n",
       "    </tr>\n",
       "    <tr>\n",
       "      <th>5</th>\n",
       "      <td>busanmovie6</td>\n",
       "      <td>0.051797</td>\n",
       "      <td>-0.796543</td>\n",
       "      <td>-1.953564</td>\n",
       "    </tr>\n",
       "    <tr>\n",
       "      <th>6</th>\n",
       "      <td>endangeredanimals</td>\n",
       "      <td>-0.901212</td>\n",
       "      <td>-1.012544</td>\n",
       "      <td>-11.023681</td>\n",
       "    </tr>\n",
       "    <tr>\n",
       "      <th>7</th>\n",
       "      <td>endangeredanimals1</td>\n",
       "      <td>-0.433569</td>\n",
       "      <td>-0.917315</td>\n",
       "      <td>-0.593046</td>\n",
       "    </tr>\n",
       "    <tr>\n",
       "      <th>8</th>\n",
       "      <td>koreanhistory</td>\n",
       "      <td>1.408911</td>\n",
       "      <td>-0.286632</td>\n",
       "      <td>15.279659</td>\n",
       "    </tr>\n",
       "    <tr>\n",
       "      <th>9</th>\n",
       "      <td>koreanhistory1</td>\n",
       "      <td>-0.368807</td>\n",
       "      <td>-0.177881</td>\n",
       "      <td>-5.128105</td>\n",
       "    </tr>\n",
       "    <tr>\n",
       "      <th>10</th>\n",
       "      <td>nationalparkstatus</td>\n",
       "      <td>-0.115666</td>\n",
       "      <td>-0.738209</td>\n",
       "      <td>-4.674599</td>\n",
       "    </tr>\n",
       "    <tr>\n",
       "      <th>11</th>\n",
       "      <td>nationalparkstatus1</td>\n",
       "      <td>0.287335</td>\n",
       "      <td>-0.821214</td>\n",
       "      <td>2.127989</td>\n",
       "    </tr>\n",
       "    <tr>\n",
       "      <th>12</th>\n",
       "      <td>research1</td>\n",
       "      <td>0.769902</td>\n",
       "      <td>-0.966290</td>\n",
       "      <td>8.930577</td>\n",
       "    </tr>\n",
       "    <tr>\n",
       "      <th>13</th>\n",
       "      <td>research10</td>\n",
       "      <td>2.686636</td>\n",
       "      <td>-1.032205</td>\n",
       "      <td>29.791847</td>\n",
       "    </tr>\n",
       "    <tr>\n",
       "      <th>14</th>\n",
       "      <td>research2</td>\n",
       "      <td>0.199212</td>\n",
       "      <td>-0.991253</td>\n",
       "      <td>-0.593046</td>\n",
       "    </tr>\n",
       "    <tr>\n",
       "      <th>15</th>\n",
       "      <td>research3</td>\n",
       "      <td>-0.393258</td>\n",
       "      <td>-0.984140</td>\n",
       "      <td>-0.593046</td>\n",
       "    </tr>\n",
       "    <tr>\n",
       "      <th>16</th>\n",
       "      <td>research4</td>\n",
       "      <td>-0.057089</td>\n",
       "      <td>-1.031587</td>\n",
       "      <td>-1.046552</td>\n",
       "    </tr>\n",
       "    <tr>\n",
       "      <th>17</th>\n",
       "      <td>research5</td>\n",
       "      <td>0.811845</td>\n",
       "      <td>-1.015071</td>\n",
       "      <td>5.756036</td>\n",
       "    </tr>\n",
       "    <tr>\n",
       "      <th>18</th>\n",
       "      <td>research6</td>\n",
       "      <td>-0.055144</td>\n",
       "      <td>-0.970162</td>\n",
       "      <td>-3.767587</td>\n",
       "    </tr>\n",
       "    <tr>\n",
       "      <th>19</th>\n",
       "      <td>research7</td>\n",
       "      <td>0.219646</td>\n",
       "      <td>-0.999672</td>\n",
       "      <td>0.313966</td>\n",
       "    </tr>\n",
       "    <tr>\n",
       "      <th>20</th>\n",
       "      <td>research8</td>\n",
       "      <td>1.772774</td>\n",
       "      <td>-1.060098</td>\n",
       "      <td>17.093682</td>\n",
       "    </tr>\n",
       "    <tr>\n",
       "      <th>21</th>\n",
       "      <td>research9</td>\n",
       "      <td>0.146013</td>\n",
       "      <td>-1.058873</td>\n",
       "      <td>-0.139540</td>\n",
       "    </tr>\n",
       "    <tr>\n",
       "      <th>22</th>\n",
       "      <td>roadkillstatus</td>\n",
       "      <td>-1.057955</td>\n",
       "      <td>-0.667226</td>\n",
       "      <td>-10.570175</td>\n",
       "    </tr>\n",
       "    <tr>\n",
       "      <th>23</th>\n",
       "      <td>roadkillstatus1</td>\n",
       "      <td>0.086057</td>\n",
       "      <td>-0.617147</td>\n",
       "      <td>-0.139540</td>\n",
       "    </tr>\n",
       "    <tr>\n",
       "      <th>24</th>\n",
       "      <td>tourguide</td>\n",
       "      <td>-1.644317</td>\n",
       "      <td>-0.305742</td>\n",
       "      <td>-15.105234</td>\n",
       "    </tr>\n",
       "    <tr>\n",
       "      <th>25</th>\n",
       "      <td>tourguide1</td>\n",
       "      <td>0.112570</td>\n",
       "      <td>-0.262501</td>\n",
       "      <td>-1.046552</td>\n",
       "    </tr>\n",
       "  </tbody>\n",
       "</table>\n",
       "</div>"
      ],
      "text/plain": [
       "                Dataset  Query Time  Execution Time  Query Count\n",
       "0           busanmovie1    0.674722       -0.857548     8.477071\n",
       "1           busanmovie2   -1.065483       -0.739944    -5.128105\n",
       "2           busanmovie3   -1.728874       -0.825591   -15.105234\n",
       "3           busanmovie4   -1.196107       -0.604405   -10.570175\n",
       "4           busanmovie5   -0.209938       -0.825927    -0.593046\n",
       "5           busanmovie6    0.051797       -0.796543    -1.953564\n",
       "6     endangeredanimals   -0.901212       -1.012544   -11.023681\n",
       "7    endangeredanimals1   -0.433569       -0.917315    -0.593046\n",
       "8         koreanhistory    1.408911       -0.286632    15.279659\n",
       "9        koreanhistory1   -0.368807       -0.177881    -5.128105\n",
       "10   nationalparkstatus   -0.115666       -0.738209    -4.674599\n",
       "11  nationalparkstatus1    0.287335       -0.821214     2.127989\n",
       "12            research1    0.769902       -0.966290     8.930577\n",
       "13           research10    2.686636       -1.032205    29.791847\n",
       "14            research2    0.199212       -0.991253    -0.593046\n",
       "15            research3   -0.393258       -0.984140    -0.593046\n",
       "16            research4   -0.057089       -1.031587    -1.046552\n",
       "17            research5    0.811845       -1.015071     5.756036\n",
       "18            research6   -0.055144       -0.970162    -3.767587\n",
       "19            research7    0.219646       -0.999672     0.313966\n",
       "20            research8    1.772774       -1.060098    17.093682\n",
       "21            research9    0.146013       -1.058873    -0.139540\n",
       "22       roadkillstatus   -1.057955       -0.667226   -10.570175\n",
       "23      roadkillstatus1    0.086057       -0.617147    -0.139540\n",
       "24            tourguide   -1.644317       -0.305742   -15.105234\n",
       "25           tourguide1    0.112570       -0.262501    -1.046552"
      ]
     },
     "execution_count": 89,
     "metadata": {},
     "output_type": "execute_result"
    }
   ],
   "source": [
    "X"
   ]
  },
  {
   "cell_type": "code",
   "execution_count": 90,
   "metadata": {},
   "outputs": [],
   "source": [
    "hot_index=X[X[['Query Time']]>X[['Query Time']].mean()]['Query Time'].dropna().index"
   ]
  },
  {
   "cell_type": "code",
   "execution_count": 91,
   "metadata": {
    "scrolled": true
   },
   "outputs": [
    {
     "data": {
      "text/plain": [
       "Int64Index([0, 5, 8, 11, 12, 13, 14, 17, 19, 20, 21, 23, 25], dtype='int64')"
      ]
     },
     "execution_count": 91,
     "metadata": {},
     "output_type": "execute_result"
    }
   ],
   "source": [
    "hot_index"
   ]
  },
  {
   "cell_type": "code",
   "execution_count": 92,
   "metadata": {},
   "outputs": [],
   "source": [
    "hot_index=X[X[['Execution Time']]>X[['Execution Time']].mean()]['Execution Time'].dropna().index"
   ]
  },
  {
   "cell_type": "code",
   "execution_count": 93,
   "metadata": {},
   "outputs": [
    {
     "data": {
      "text/plain": [
       "Int64Index([1, 3, 8, 9, 10, 22, 23, 24, 25], dtype='int64')"
      ]
     },
     "execution_count": 93,
     "metadata": {},
     "output_type": "execute_result"
    }
   ],
   "source": [
    "hot_index"
   ]
  },
  {
   "cell_type": "code",
   "execution_count": 94,
   "metadata": {},
   "outputs": [],
   "source": [
    "hot_index=X[X[['Query Count']]>X[['Query Count']].mean()]['Query Count'].dropna().index"
   ]
  },
  {
   "cell_type": "code",
   "execution_count": 95,
   "metadata": {},
   "outputs": [
    {
     "data": {
      "text/plain": [
       "Int64Index([0, 8, 11, 12, 13, 17, 19, 20], dtype='int64')"
      ]
     },
     "execution_count": 95,
     "metadata": {},
     "output_type": "execute_result"
    }
   ],
   "source": [
    "hot_index"
   ]
  },
  {
   "cell_type": "code",
   "execution_count": 96,
   "metadata": {},
   "outputs": [],
   "source": [
    "Y=pd.DataFrame(np.zeros(26))"
   ]
  },
  {
   "cell_type": "code",
   "execution_count": 97,
   "metadata": {},
   "outputs": [],
   "source": [
    "hots=[0,8,11,17,19,20]"
   ]
  },
  {
   "cell_type": "code",
   "execution_count": 98,
   "metadata": {},
   "outputs": [],
   "source": [
    "Y.loc[hots]=1.0"
   ]
  },
  {
   "cell_type": "code",
   "execution_count": 99,
   "metadata": {
    "scrolled": true
   },
   "outputs": [
    {
     "data": {
      "text/html": [
       "<div>\n",
       "<style scoped>\n",
       "    .dataframe tbody tr th:only-of-type {\n",
       "        vertical-align: middle;\n",
       "    }\n",
       "\n",
       "    .dataframe tbody tr th {\n",
       "        vertical-align: top;\n",
       "    }\n",
       "\n",
       "    .dataframe thead th {\n",
       "        text-align: right;\n",
       "    }\n",
       "</style>\n",
       "<table border=\"1\" class=\"dataframe\">\n",
       "  <thead>\n",
       "    <tr style=\"text-align: right;\">\n",
       "      <th></th>\n",
       "      <th>0</th>\n",
       "    </tr>\n",
       "  </thead>\n",
       "  <tbody>\n",
       "    <tr>\n",
       "      <th>0</th>\n",
       "      <td>1.0</td>\n",
       "    </tr>\n",
       "    <tr>\n",
       "      <th>1</th>\n",
       "      <td>0.0</td>\n",
       "    </tr>\n",
       "    <tr>\n",
       "      <th>2</th>\n",
       "      <td>0.0</td>\n",
       "    </tr>\n",
       "    <tr>\n",
       "      <th>3</th>\n",
       "      <td>0.0</td>\n",
       "    </tr>\n",
       "    <tr>\n",
       "      <th>4</th>\n",
       "      <td>0.0</td>\n",
       "    </tr>\n",
       "    <tr>\n",
       "      <th>5</th>\n",
       "      <td>0.0</td>\n",
       "    </tr>\n",
       "    <tr>\n",
       "      <th>6</th>\n",
       "      <td>0.0</td>\n",
       "    </tr>\n",
       "    <tr>\n",
       "      <th>7</th>\n",
       "      <td>0.0</td>\n",
       "    </tr>\n",
       "    <tr>\n",
       "      <th>8</th>\n",
       "      <td>1.0</td>\n",
       "    </tr>\n",
       "    <tr>\n",
       "      <th>9</th>\n",
       "      <td>0.0</td>\n",
       "    </tr>\n",
       "    <tr>\n",
       "      <th>10</th>\n",
       "      <td>0.0</td>\n",
       "    </tr>\n",
       "    <tr>\n",
       "      <th>11</th>\n",
       "      <td>1.0</td>\n",
       "    </tr>\n",
       "    <tr>\n",
       "      <th>12</th>\n",
       "      <td>0.0</td>\n",
       "    </tr>\n",
       "    <tr>\n",
       "      <th>13</th>\n",
       "      <td>0.0</td>\n",
       "    </tr>\n",
       "    <tr>\n",
       "      <th>14</th>\n",
       "      <td>0.0</td>\n",
       "    </tr>\n",
       "    <tr>\n",
       "      <th>15</th>\n",
       "      <td>0.0</td>\n",
       "    </tr>\n",
       "    <tr>\n",
       "      <th>16</th>\n",
       "      <td>0.0</td>\n",
       "    </tr>\n",
       "    <tr>\n",
       "      <th>17</th>\n",
       "      <td>1.0</td>\n",
       "    </tr>\n",
       "    <tr>\n",
       "      <th>18</th>\n",
       "      <td>0.0</td>\n",
       "    </tr>\n",
       "    <tr>\n",
       "      <th>19</th>\n",
       "      <td>1.0</td>\n",
       "    </tr>\n",
       "    <tr>\n",
       "      <th>20</th>\n",
       "      <td>1.0</td>\n",
       "    </tr>\n",
       "    <tr>\n",
       "      <th>21</th>\n",
       "      <td>0.0</td>\n",
       "    </tr>\n",
       "    <tr>\n",
       "      <th>22</th>\n",
       "      <td>0.0</td>\n",
       "    </tr>\n",
       "    <tr>\n",
       "      <th>23</th>\n",
       "      <td>0.0</td>\n",
       "    </tr>\n",
       "    <tr>\n",
       "      <th>24</th>\n",
       "      <td>0.0</td>\n",
       "    </tr>\n",
       "    <tr>\n",
       "      <th>25</th>\n",
       "      <td>0.0</td>\n",
       "    </tr>\n",
       "  </tbody>\n",
       "</table>\n",
       "</div>"
      ],
      "text/plain": [
       "      0\n",
       "0   1.0\n",
       "1   0.0\n",
       "2   0.0\n",
       "3   0.0\n",
       "4   0.0\n",
       "5   0.0\n",
       "6   0.0\n",
       "7   0.0\n",
       "8   1.0\n",
       "9   0.0\n",
       "10  0.0\n",
       "11  1.0\n",
       "12  0.0\n",
       "13  0.0\n",
       "14  0.0\n",
       "15  0.0\n",
       "16  0.0\n",
       "17  1.0\n",
       "18  0.0\n",
       "19  1.0\n",
       "20  1.0\n",
       "21  0.0\n",
       "22  0.0\n",
       "23  0.0\n",
       "24  0.0\n",
       "25  0.0"
      ]
     },
     "execution_count": 99,
     "metadata": {},
     "output_type": "execute_result"
    }
   ],
   "source": [
    "Y"
   ]
  },
  {
   "cell_type": "code",
   "execution_count": 100,
   "metadata": {},
   "outputs": [],
   "source": [
    "X=X[[\"Query Time\",\"Execution Time\",\"Query Count\"]]"
   ]
  },
  {
   "cell_type": "code",
   "execution_count": 101,
   "metadata": {
    "scrolled": true
   },
   "outputs": [
    {
     "data": {
      "text/html": [
       "<div>\n",
       "<style scoped>\n",
       "    .dataframe tbody tr th:only-of-type {\n",
       "        vertical-align: middle;\n",
       "    }\n",
       "\n",
       "    .dataframe tbody tr th {\n",
       "        vertical-align: top;\n",
       "    }\n",
       "\n",
       "    .dataframe thead th {\n",
       "        text-align: right;\n",
       "    }\n",
       "</style>\n",
       "<table border=\"1\" class=\"dataframe\">\n",
       "  <thead>\n",
       "    <tr style=\"text-align: right;\">\n",
       "      <th></th>\n",
       "      <th>Query Time</th>\n",
       "      <th>Execution Time</th>\n",
       "      <th>Query Count</th>\n",
       "    </tr>\n",
       "  </thead>\n",
       "  <tbody>\n",
       "    <tr>\n",
       "      <th>0</th>\n",
       "      <td>0.674722</td>\n",
       "      <td>-0.857548</td>\n",
       "      <td>8.477071</td>\n",
       "    </tr>\n",
       "    <tr>\n",
       "      <th>1</th>\n",
       "      <td>-1.065483</td>\n",
       "      <td>-0.739944</td>\n",
       "      <td>-5.128105</td>\n",
       "    </tr>\n",
       "    <tr>\n",
       "      <th>2</th>\n",
       "      <td>-1.728874</td>\n",
       "      <td>-0.825591</td>\n",
       "      <td>-15.105234</td>\n",
       "    </tr>\n",
       "    <tr>\n",
       "      <th>3</th>\n",
       "      <td>-1.196107</td>\n",
       "      <td>-0.604405</td>\n",
       "      <td>-10.570175</td>\n",
       "    </tr>\n",
       "    <tr>\n",
       "      <th>4</th>\n",
       "      <td>-0.209938</td>\n",
       "      <td>-0.825927</td>\n",
       "      <td>-0.593046</td>\n",
       "    </tr>\n",
       "    <tr>\n",
       "      <th>5</th>\n",
       "      <td>0.051797</td>\n",
       "      <td>-0.796543</td>\n",
       "      <td>-1.953564</td>\n",
       "    </tr>\n",
       "    <tr>\n",
       "      <th>6</th>\n",
       "      <td>-0.901212</td>\n",
       "      <td>-1.012544</td>\n",
       "      <td>-11.023681</td>\n",
       "    </tr>\n",
       "    <tr>\n",
       "      <th>7</th>\n",
       "      <td>-0.433569</td>\n",
       "      <td>-0.917315</td>\n",
       "      <td>-0.593046</td>\n",
       "    </tr>\n",
       "    <tr>\n",
       "      <th>8</th>\n",
       "      <td>1.408911</td>\n",
       "      <td>-0.286632</td>\n",
       "      <td>15.279659</td>\n",
       "    </tr>\n",
       "    <tr>\n",
       "      <th>9</th>\n",
       "      <td>-0.368807</td>\n",
       "      <td>-0.177881</td>\n",
       "      <td>-5.128105</td>\n",
       "    </tr>\n",
       "    <tr>\n",
       "      <th>10</th>\n",
       "      <td>-0.115666</td>\n",
       "      <td>-0.738209</td>\n",
       "      <td>-4.674599</td>\n",
       "    </tr>\n",
       "    <tr>\n",
       "      <th>11</th>\n",
       "      <td>0.287335</td>\n",
       "      <td>-0.821214</td>\n",
       "      <td>2.127989</td>\n",
       "    </tr>\n",
       "    <tr>\n",
       "      <th>12</th>\n",
       "      <td>0.769902</td>\n",
       "      <td>-0.966290</td>\n",
       "      <td>8.930577</td>\n",
       "    </tr>\n",
       "    <tr>\n",
       "      <th>13</th>\n",
       "      <td>2.686636</td>\n",
       "      <td>-1.032205</td>\n",
       "      <td>29.791847</td>\n",
       "    </tr>\n",
       "    <tr>\n",
       "      <th>14</th>\n",
       "      <td>0.199212</td>\n",
       "      <td>-0.991253</td>\n",
       "      <td>-0.593046</td>\n",
       "    </tr>\n",
       "    <tr>\n",
       "      <th>15</th>\n",
       "      <td>-0.393258</td>\n",
       "      <td>-0.984140</td>\n",
       "      <td>-0.593046</td>\n",
       "    </tr>\n",
       "    <tr>\n",
       "      <th>16</th>\n",
       "      <td>-0.057089</td>\n",
       "      <td>-1.031587</td>\n",
       "      <td>-1.046552</td>\n",
       "    </tr>\n",
       "    <tr>\n",
       "      <th>17</th>\n",
       "      <td>0.811845</td>\n",
       "      <td>-1.015071</td>\n",
       "      <td>5.756036</td>\n",
       "    </tr>\n",
       "    <tr>\n",
       "      <th>18</th>\n",
       "      <td>-0.055144</td>\n",
       "      <td>-0.970162</td>\n",
       "      <td>-3.767587</td>\n",
       "    </tr>\n",
       "    <tr>\n",
       "      <th>19</th>\n",
       "      <td>0.219646</td>\n",
       "      <td>-0.999672</td>\n",
       "      <td>0.313966</td>\n",
       "    </tr>\n",
       "    <tr>\n",
       "      <th>20</th>\n",
       "      <td>1.772774</td>\n",
       "      <td>-1.060098</td>\n",
       "      <td>17.093682</td>\n",
       "    </tr>\n",
       "    <tr>\n",
       "      <th>21</th>\n",
       "      <td>0.146013</td>\n",
       "      <td>-1.058873</td>\n",
       "      <td>-0.139540</td>\n",
       "    </tr>\n",
       "    <tr>\n",
       "      <th>22</th>\n",
       "      <td>-1.057955</td>\n",
       "      <td>-0.667226</td>\n",
       "      <td>-10.570175</td>\n",
       "    </tr>\n",
       "    <tr>\n",
       "      <th>23</th>\n",
       "      <td>0.086057</td>\n",
       "      <td>-0.617147</td>\n",
       "      <td>-0.139540</td>\n",
       "    </tr>\n",
       "    <tr>\n",
       "      <th>24</th>\n",
       "      <td>-1.644317</td>\n",
       "      <td>-0.305742</td>\n",
       "      <td>-15.105234</td>\n",
       "    </tr>\n",
       "    <tr>\n",
       "      <th>25</th>\n",
       "      <td>0.112570</td>\n",
       "      <td>-0.262501</td>\n",
       "      <td>-1.046552</td>\n",
       "    </tr>\n",
       "  </tbody>\n",
       "</table>\n",
       "</div>"
      ],
      "text/plain": [
       "    Query Time  Execution Time  Query Count\n",
       "0     0.674722       -0.857548     8.477071\n",
       "1    -1.065483       -0.739944    -5.128105\n",
       "2    -1.728874       -0.825591   -15.105234\n",
       "3    -1.196107       -0.604405   -10.570175\n",
       "4    -0.209938       -0.825927    -0.593046\n",
       "5     0.051797       -0.796543    -1.953564\n",
       "6    -0.901212       -1.012544   -11.023681\n",
       "7    -0.433569       -0.917315    -0.593046\n",
       "8     1.408911       -0.286632    15.279659\n",
       "9    -0.368807       -0.177881    -5.128105\n",
       "10   -0.115666       -0.738209    -4.674599\n",
       "11    0.287335       -0.821214     2.127989\n",
       "12    0.769902       -0.966290     8.930577\n",
       "13    2.686636       -1.032205    29.791847\n",
       "14    0.199212       -0.991253    -0.593046\n",
       "15   -0.393258       -0.984140    -0.593046\n",
       "16   -0.057089       -1.031587    -1.046552\n",
       "17    0.811845       -1.015071     5.756036\n",
       "18   -0.055144       -0.970162    -3.767587\n",
       "19    0.219646       -0.999672     0.313966\n",
       "20    1.772774       -1.060098    17.093682\n",
       "21    0.146013       -1.058873    -0.139540\n",
       "22   -1.057955       -0.667226   -10.570175\n",
       "23    0.086057       -0.617147    -0.139540\n",
       "24   -1.644317       -0.305742   -15.105234\n",
       "25    0.112570       -0.262501    -1.046552"
      ]
     },
     "execution_count": 101,
     "metadata": {},
     "output_type": "execute_result"
    }
   ],
   "source": [
    "X"
   ]
  },
  {
   "cell_type": "code",
   "execution_count": 106,
   "metadata": {},
   "outputs": [],
   "source": [
    "X_train, X_test, y_train, y_test = train_test_split(X, Y, test_size=0.33, random_state=42)"
   ]
  },
  {
   "cell_type": "code",
   "execution_count": 107,
   "metadata": {},
   "outputs": [],
   "source": [
    "tree=DecisionTreeClassifier()\n",
    "model=tree.fit(X_train,y_train)"
   ]
  },
  {
   "cell_type": "code",
   "execution_count": 109,
   "metadata": {},
   "outputs": [
    {
     "data": {
      "text/html": [
       "<div>\n",
       "<style scoped>\n",
       "    .dataframe tbody tr th:only-of-type {\n",
       "        vertical-align: middle;\n",
       "    }\n",
       "\n",
       "    .dataframe tbody tr th {\n",
       "        vertical-align: top;\n",
       "    }\n",
       "\n",
       "    .dataframe thead th {\n",
       "        text-align: right;\n",
       "    }\n",
       "</style>\n",
       "<table border=\"1\" class=\"dataframe\">\n",
       "  <thead>\n",
       "    <tr style=\"text-align: right;\">\n",
       "      <th></th>\n",
       "      <th>Query Time</th>\n",
       "      <th>Execution Time</th>\n",
       "      <th>Query Count</th>\n",
       "    </tr>\n",
       "  </thead>\n",
       "  <tbody>\n",
       "    <tr>\n",
       "      <th>8</th>\n",
       "      <td>1.408911</td>\n",
       "      <td>-0.286632</td>\n",
       "      <td>15.279659</td>\n",
       "    </tr>\n",
       "    <tr>\n",
       "      <th>16</th>\n",
       "      <td>-0.057089</td>\n",
       "      <td>-1.031587</td>\n",
       "      <td>-1.046552</td>\n",
       "    </tr>\n",
       "    <tr>\n",
       "      <th>0</th>\n",
       "      <td>0.674722</td>\n",
       "      <td>-0.857548</td>\n",
       "      <td>8.477071</td>\n",
       "    </tr>\n",
       "    <tr>\n",
       "      <th>24</th>\n",
       "      <td>-1.644317</td>\n",
       "      <td>-0.305742</td>\n",
       "      <td>-15.105234</td>\n",
       "    </tr>\n",
       "    <tr>\n",
       "      <th>11</th>\n",
       "      <td>0.287335</td>\n",
       "      <td>-0.821214</td>\n",
       "      <td>2.127989</td>\n",
       "    </tr>\n",
       "    <tr>\n",
       "      <th>9</th>\n",
       "      <td>-0.368807</td>\n",
       "      <td>-0.177881</td>\n",
       "      <td>-5.128105</td>\n",
       "    </tr>\n",
       "    <tr>\n",
       "      <th>13</th>\n",
       "      <td>2.686636</td>\n",
       "      <td>-1.032205</td>\n",
       "      <td>29.791847</td>\n",
       "    </tr>\n",
       "    <tr>\n",
       "      <th>1</th>\n",
       "      <td>-1.065483</td>\n",
       "      <td>-0.739944</td>\n",
       "      <td>-5.128105</td>\n",
       "    </tr>\n",
       "    <tr>\n",
       "      <th>23</th>\n",
       "      <td>0.086057</td>\n",
       "      <td>-0.617147</td>\n",
       "      <td>-0.139540</td>\n",
       "    </tr>\n",
       "  </tbody>\n",
       "</table>\n",
       "</div>"
      ],
      "text/plain": [
       "    Query Time  Execution Time  Query Count\n",
       "8     1.408911       -0.286632    15.279659\n",
       "16   -0.057089       -1.031587    -1.046552\n",
       "0     0.674722       -0.857548     8.477071\n",
       "24   -1.644317       -0.305742   -15.105234\n",
       "11    0.287335       -0.821214     2.127989\n",
       "9    -0.368807       -0.177881    -5.128105\n",
       "13    2.686636       -1.032205    29.791847\n",
       "1    -1.065483       -0.739944    -5.128105\n",
       "23    0.086057       -0.617147    -0.139540"
      ]
     },
     "execution_count": 109,
     "metadata": {},
     "output_type": "execute_result"
    }
   ],
   "source": [
    "X_test"
   ]
  },
  {
   "cell_type": "code",
   "execution_count": 108,
   "metadata": {},
   "outputs": [
    {
     "data": {
      "text/plain": [
       "array([0., 0., 0., 0., 0., 0., 1., 0., 0.])"
      ]
     },
     "execution_count": 108,
     "metadata": {},
     "output_type": "execute_result"
    }
   ],
   "source": [
    "model.predict(X_test)"
   ]
  },
  {
   "cell_type": "code",
   "execution_count": 172,
   "metadata": {
    "scrolled": false
   },
   "outputs": [
    {
     "data": {
      "text/plain": [
       "array([[<matplotlib.axes._subplots.AxesSubplot object at 0x000002BC338BCE08>]],\n",
       "      dtype=object)"
      ]
     },
     "execution_count": 172,
     "metadata": {},
     "output_type": "execute_result"
    },
    {
     "data": {
      "image/png": "[encoded data removed]",
      "text/plain": [
       "<Figure size 432x288 with 1 Axes>"
      ]
     },
     "metadata": {
      "needs_background": "light"
     },
     "output_type": "display_data"
    }
   ],
   "source": [
    "X[['Query Time']].hist()"
   ]
  },
  {
   "cell_type": "code",
   "execution_count": 244,
   "metadata": {},
   "outputs": [],
   "source": [
    "hot_execution_index=X[X[['Execution Time']]>X[['Execution Time']].mean()]['Execution Time'].dropna().index"
   ]
  },
  {
   "cell_type": "code",
   "execution_count": 245,
   "metadata": {},
   "outputs": [
    {
     "data": {
      "text/plain": [
       "Int64Index([1, 3, 8, 9, 10, 22, 23, 24, 25], dtype='int64')"
      ]
     },
     "execution_count": 245,
     "metadata": {},
     "output_type": "execute_result"
    }
   ],
   "source": [
    "hot_execution_index"
   ]
  },
  {
   "cell_type": "code",
   "execution_count": 246,
   "metadata": {},
   "outputs": [],
   "source": [
    "hot_query_index=X[X[['Query Time']]>X[['Query Time']].mean()]['Query Time'].dropna().index"
   ]
  },
  {
   "cell_type": "code",
   "execution_count": 247,
   "metadata": {
    "scrolled": false
   },
   "outputs": [
    {
     "data": {
      "text/plain": [
       "Int64Index([5, 6, 9, 10, 11, 14, 16, 17, 18, 19, 20, 21, 22, 23, 25], dtype='int64')"
      ]
     },
     "execution_count": 247,
     "metadata": {},
     "output_type": "execute_result"
    }
   ],
   "source": [
    "hot_query_index"
   ]
  },
  {
   "cell_type": "code",
   "execution_count": 248,
   "metadata": {},
   "outputs": [],
   "source": [
    "hot_count_index=X[X[['Query Count']]>X[['Query Count']].mean()]['Query Count'].dropna().index"
   ]
  },
  {
   "cell_type": "code",
   "execution_count": 249,
   "metadata": {},
   "outputs": [
    {
     "data": {
      "text/plain": [
       "Int64Index([0, 8, 11, 12, 13, 17, 19, 20], dtype='int64')"
      ]
     },
     "execution_count": 249,
     "metadata": {},
     "output_type": "execute_result"
    }
   ],
   "source": [
    "hot_count_index"
   ]
  },
  {
   "cell_type": "code",
   "execution_count": 173,
   "metadata": {
    "scrolled": true
   },
   "outputs": [
    {
     "data": {
      "text/plain": [
       "array([[<matplotlib.axes._subplots.AxesSubplot object at 0x000002BC33D0B5C8>]],\n",
       "      dtype=object)"
      ]
     },
     "execution_count": 173,
     "metadata": {},
     "output_type": "execute_result"
    },
    {
     "data": {
      "image/png": "[encoded data removed]",
      "text/plain": [
       "<Figure size 432x288 with 1 Axes>"
      ]
     },
     "metadata": {
      "needs_background": "light"
     },
     "output_type": "display_data"
    }
   ],
   "source": [
    "X[['Execution Time']].hist()"
   ]
  },
  {
   "cell_type": "code",
   "execution_count": 243,
   "metadata": {},
   "outputs": [
    {
     "data": {
      "text/plain": [
       "array([[<matplotlib.axes._subplots.AxesSubplot object at 0x000002BC33E4F508>]],\n",
       "      dtype=object)"
      ]
     },
     "execution_count": 243,
     "metadata": {},
     "output_type": "execute_result"
    },
    {
     "data": {
      "image/png": "[encoded data removed]",
      "text/plain": [
       "<Figure size 432x288 with 1 Axes>"
      ]
     },
     "metadata": {
      "needs_background": "light"
     },
     "output_type": "display_data"
    }
   ],
   "source": [
    "X[['Query Count']].hist()"
   ]
  },
  {
   "cell_type": "code",
   "execution_count": 109,
   "metadata": {},
   "outputs": [
    {
     "data": {
      "image/png": "[encoded data removed]",
      "text/plain": [
       "<Figure size 432x432 with 1 Axes>"
      ]
     },
     "metadata": {
      "needs_background": "light"
     },
     "output_type": "display_data"
    }
   ],
   "source": [
    "fig=plt.figure(figsize=(6,6))\n",
    "ax = fig.add_subplot(111, projection='3d')\n",
    "ax.scatter(X[[\"Query Time\"]],X[[\"Execution Time\"]],X[[\"Query Count\"]])\n",
    "plt.show()"
   ]
  },
  {
   "cell_type": "code",
   "execution_count": 115,
   "metadata": {},
   "outputs": [
    {
     "data": {
      "text/plain": [
       "KMeans(algorithm='auto', copy_x=True, init='k-means++', max_iter=300,\n",
       "       n_clusters=2, n_init=10, n_jobs=4, precompute_distances='auto',\n",
       "       random_state=None, tol=0.0001, verbose=0)"
      ]
     },
     "execution_count": 115,
     "metadata": {},
     "output_type": "execute_result"
    }
   ],
   "source": [
    "km=KMeans(n_clusters=2,n_jobs=4)\n",
    "km.fit(X[['Query Time','Execution Time','Query Count']])"
   ]
  },
  {
   "cell_type": "code",
   "execution_count": 116,
   "metadata": {},
   "outputs": [
    {
     "data": {
      "text/plain": [
       "array([[ 0.01119251, -0.04384995, -0.43555073],\n",
       "       [-0.01784885, -0.05543046,  1.45183576]])"
      ]
     },
     "execution_count": 116,
     "metadata": {},
     "output_type": "execute_result"
    }
   ],
   "source": [
    "centers=km.cluster_centers_\n",
    "centers"
   ]
  },
  {
   "cell_type": "code",
   "execution_count": 117,
   "metadata": {
    "scrolled": false
   },
   "outputs": [
    {
     "data": {
      "image/png": "[encoded data removed]",
      "text/plain": [
       "<Figure size 432x432 with 1 Axes>"
      ]
     },
     "metadata": {
      "needs_background": "light"
     },
     "output_type": "display_data"
    }
   ],
   "source": [
    "fig=plt.figure(figsize=(6,6))\n",
    "ax = fig.add_subplot(111, projection='3d')\n",
    "ax.scatter(X[[\"Query Time\"]],X[[\"Execution Time\"]],X[[\"Query Count\"]])\n",
    "ax.scatter(centers[0][0],centers[0][1],centers[0][2],marker='*',c='red')\n",
    "ax.scatter(centers[1][0],centers[1][1],centers[1][2],marker='*',c='blue')\n",
    "ax.set_xlabel(\"Query Time\");\n",
    "ax.set_ylabel(\"Execution Time\");\n",
    "ax.set_zlabel(\"Query Count\");\n",
    "ax.set_title(\"K-means result\");\n",
    "plt.show()"
   ]
  },
  {
   "cell_type": "code",
   "execution_count": null,
   "metadata": {},
   "outputs": [],
   "source": []
  }
 ],
 "metadata": {
  "kernelspec": {
   "display_name": "Python 3",
   "language": "python",
   "name": "python3"
  },
  "language_info": {
   "codemirror_mode": {
    "name": "ipython",
    "version": 3
   },
   "file_extension": ".py",
   "mimetype": "text/x-python",
   "name": "python",
   "nbconvert_exporter": "python",
   "pygments_lexer": "ipython3",
   "version": "3.7.7"
  }
 },
 "nbformat": 4,
 "nbformat_minor": 4
}
