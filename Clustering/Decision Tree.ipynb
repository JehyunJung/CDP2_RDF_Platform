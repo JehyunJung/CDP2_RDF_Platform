{
 "cells": [
  {
   "cell_type": "code",
   "execution_count": 136,
   "metadata": {
    "scrolled": true
   },
   "outputs": [],
   "source": [
    "from sklearn.tree import DecisionTreeClassifier\n",
    "from sklearn.metrics import accuracy_score\n",
    "from sklearn.cluster import KMeans\n",
    "from sklearn.model_selection import train_test_split\n",
    "from collections import Counter\n",
    "import pandas as pd\n",
    "import matplotlib.pyplot as plt\n",
    "import datetime\n",
    "import numpy as np"
   ]
  },
  {
   "cell_type": "code",
   "execution_count": 137,
   "metadata": {},
   "outputs": [],
   "source": [
    "log_data=pd.read_csv('../Datas/log4.csv',header=None)"
   ]
  },
  {
   "cell_type": "code",
   "execution_count": 138,
   "metadata": {
    "scrolled": false
   },
   "outputs": [
    {
     "data": {
      "text/html": [
       "<div>\n",
       "<style scoped>\n",
       "    .dataframe tbody tr th:only-of-type {\n",
       "        vertical-align: middle;\n",
       "    }\n",
       "\n",
       "    .dataframe tbody tr th {\n",
       "        vertical-align: top;\n",
       "    }\n",
       "\n",
       "    .dataframe thead th {\n",
       "        text-align: right;\n",
       "    }\n",
       "</style>\n",
       "<table border=\"1\" class=\"dataframe\">\n",
       "  <thead>\n",
       "    <tr style=\"text-align: right;\">\n",
       "      <th></th>\n",
       "      <th>0</th>\n",
       "      <th>1</th>\n",
       "      <th>2</th>\n",
       "      <th>3</th>\n",
       "    </tr>\n",
       "  </thead>\n",
       "  <tbody>\n",
       "    <tr>\n",
       "      <th>0</th>\n",
       "      <td>roadkillstatus</td>\n",
       "      <td>1592058252564</td>\n",
       "      <td>2451238500</td>\n",
       "      <td>...</td>\n",
       "    </tr>\n",
       "    <tr>\n",
       "      <th>1</th>\n",
       "      <td>research2</td>\n",
       "      <td>1592058256043</td>\n",
       "      <td>46586900</td>\n",
       "      <td>...</td>\n",
       "    </tr>\n",
       "    <tr>\n",
       "      <th>2</th>\n",
       "      <td>busanmovie13</td>\n",
       "      <td>1592058256261</td>\n",
       "      <td>264503400</td>\n",
       "      <td>...</td>\n",
       "    </tr>\n",
       "    <tr>\n",
       "      <th>3</th>\n",
       "      <td>busanmovie5</td>\n",
       "      <td>1592058256666</td>\n",
       "      <td>29178500</td>\n",
       "      <td>...</td>\n",
       "    </tr>\n",
       "    <tr>\n",
       "      <th>4</th>\n",
       "      <td>busanmovie2</td>\n",
       "      <td>1592058256851</td>\n",
       "      <td>38638700</td>\n",
       "      <td>...</td>\n",
       "    </tr>\n",
       "    <tr>\n",
       "      <th>...</th>\n",
       "      <td>...</td>\n",
       "      <td>...</td>\n",
       "      <td>...</td>\n",
       "      <td>...</td>\n",
       "    </tr>\n",
       "    <tr>\n",
       "      <th>18795</th>\n",
       "      <td>TouristAtt</td>\n",
       "      <td>1592061570528</td>\n",
       "      <td>36693600</td>\n",
       "      <td>...</td>\n",
       "    </tr>\n",
       "    <tr>\n",
       "      <th>18796</th>\n",
       "      <td>ThemeTour_Subway</td>\n",
       "      <td>1592061570690</td>\n",
       "      <td>31064100</td>\n",
       "      <td>...</td>\n",
       "    </tr>\n",
       "    <tr>\n",
       "      <th>18797</th>\n",
       "      <td>research2</td>\n",
       "      <td>1592061570867</td>\n",
       "      <td>31363000</td>\n",
       "      <td>...</td>\n",
       "    </tr>\n",
       "    <tr>\n",
       "      <th>18798</th>\n",
       "      <td>research10</td>\n",
       "      <td>1592061571022</td>\n",
       "      <td>29779100</td>\n",
       "      <td>...</td>\n",
       "    </tr>\n",
       "    <tr>\n",
       "      <th>18799</th>\n",
       "      <td>research5</td>\n",
       "      <td>1592061571178</td>\n",
       "      <td>28255400</td>\n",
       "      <td>...</td>\n",
       "    </tr>\n",
       "  </tbody>\n",
       "</table>\n",
       "<p>18800 rows × 4 columns</p>\n",
       "</div>"
      ],
      "text/plain": [
       "                      0              1           2    3\n",
       "0        roadkillstatus  1592058252564  2451238500  ...\n",
       "1             research2  1592058256043    46586900  ...\n",
       "2          busanmovie13  1592058256261   264503400  ...\n",
       "3           busanmovie5  1592058256666    29178500  ...\n",
       "4           busanmovie2  1592058256851    38638700  ...\n",
       "...                 ...            ...         ...  ...\n",
       "18795        TouristAtt  1592061570528    36693600  ...\n",
       "18796  ThemeTour_Subway  1592061570690    31064100  ...\n",
       "18797         research2  1592061570867    31363000  ...\n",
       "18798        research10  1592061571022    29779100  ...\n",
       "18799         research5  1592061571178    28255400  ...\n",
       "\n",
       "[18800 rows x 4 columns]"
      ]
     },
     "execution_count": 138,
     "metadata": {},
     "output_type": "execute_result"
    }
   ],
   "source": [
    "log_data"
   ]
  },
  {
   "cell_type": "code",
   "execution_count": 139,
   "metadata": {},
   "outputs": [],
   "source": [
    "log_data.columns=['Dataset','Query Time','Execution Time','ManagerId']"
   ]
  },
  {
   "cell_type": "code",
   "execution_count": 140,
   "metadata": {},
   "outputs": [
    {
     "data": {
      "text/plain": [
       "<bound method DataFrame.info of                 Dataset     Query Time  Execution Time ManagerId\n",
       "0        roadkillstatus  1592058252564      2451238500       ...\n",
       "1             research2  1592058256043        46586900       ...\n",
       "2          busanmovie13  1592058256261       264503400       ...\n",
       "3           busanmovie5  1592058256666        29178500       ...\n",
       "4           busanmovie2  1592058256851        38638700       ...\n",
       "...                 ...            ...             ...       ...\n",
       "18795        TouristAtt  1592061570528        36693600       ...\n",
       "18796  ThemeTour_Subway  1592061570690        31064100       ...\n",
       "18797         research2  1592061570867        31363000       ...\n",
       "18798        research10  1592061571022        29779100       ...\n",
       "18799         research5  1592061571178        28255400       ...\n",
       "\n",
       "[18800 rows x 4 columns]>"
      ]
     },
     "execution_count": 140,
     "metadata": {},
     "output_type": "execute_result"
    }
   ],
   "source": [
    "log_data.info"
   ]
  },
  {
   "cell_type": "code",
   "execution_count": 141,
   "metadata": {
    "scrolled": true
   },
   "outputs": [
    {
     "data": {
      "text/html": [
       "<div>\n",
       "<style scoped>\n",
       "    .dataframe tbody tr th:only-of-type {\n",
       "        vertical-align: middle;\n",
       "    }\n",
       "\n",
       "    .dataframe tbody tr th {\n",
       "        vertical-align: top;\n",
       "    }\n",
       "\n",
       "    .dataframe thead th {\n",
       "        text-align: right;\n",
       "    }\n",
       "</style>\n",
       "<table border=\"1\" class=\"dataframe\">\n",
       "  <thead>\n",
       "    <tr style=\"text-align: right;\">\n",
       "      <th></th>\n",
       "      <th>Query Time</th>\n",
       "      <th>Execution Time</th>\n",
       "    </tr>\n",
       "  </thead>\n",
       "  <tbody>\n",
       "    <tr>\n",
       "      <th>count</th>\n",
       "      <td>1.880000e+04</td>\n",
       "      <td>1.880000e+04</td>\n",
       "    </tr>\n",
       "    <tr>\n",
       "      <th>mean</th>\n",
       "      <td>1.592060e+12</td>\n",
       "      <td>3.596896e+07</td>\n",
       "    </tr>\n",
       "    <tr>\n",
       "      <th>std</th>\n",
       "      <td>9.601152e+05</td>\n",
       "      <td>4.605090e+07</td>\n",
       "    </tr>\n",
       "    <tr>\n",
       "      <th>min</th>\n",
       "      <td>1.592058e+12</td>\n",
       "      <td>1.802540e+07</td>\n",
       "    </tr>\n",
       "    <tr>\n",
       "      <th>25%</th>\n",
       "      <td>1.592059e+12</td>\n",
       "      <td>2.605915e+07</td>\n",
       "    </tr>\n",
       "    <tr>\n",
       "      <th>50%</th>\n",
       "      <td>1.592060e+12</td>\n",
       "      <td>2.866610e+07</td>\n",
       "    </tr>\n",
       "    <tr>\n",
       "      <th>75%</th>\n",
       "      <td>1.592061e+12</td>\n",
       "      <td>3.082942e+07</td>\n",
       "    </tr>\n",
       "    <tr>\n",
       "      <th>max</th>\n",
       "      <td>1.592062e+12</td>\n",
       "      <td>2.728199e+09</td>\n",
       "    </tr>\n",
       "  </tbody>\n",
       "</table>\n",
       "</div>"
      ],
      "text/plain": [
       "         Query Time  Execution Time\n",
       "count  1.880000e+04    1.880000e+04\n",
       "mean   1.592060e+12    3.596896e+07\n",
       "std    9.601152e+05    4.605090e+07\n",
       "min    1.592058e+12    1.802540e+07\n",
       "25%    1.592059e+12    2.605915e+07\n",
       "50%    1.592060e+12    2.866610e+07\n",
       "75%    1.592061e+12    3.082942e+07\n",
       "max    1.592062e+12    2.728199e+09"
      ]
     },
     "execution_count": 141,
     "metadata": {},
     "output_type": "execute_result"
    }
   ],
   "source": [
    "log_data.describe()"
   ]
  },
  {
   "cell_type": "code",
   "execution_count": 142,
   "metadata": {},
   "outputs": [],
   "source": [
    "X=log_data[['Dataset','Query Time','Execution Time']]"
   ]
  },
  {
   "cell_type": "code",
   "execution_count": 143,
   "metadata": {
    "scrolled": true
   },
   "outputs": [
    {
     "data": {
      "text/html": [
       "<div>\n",
       "<style scoped>\n",
       "    .dataframe tbody tr th:only-of-type {\n",
       "        vertical-align: middle;\n",
       "    }\n",
       "\n",
       "    .dataframe tbody tr th {\n",
       "        vertical-align: top;\n",
       "    }\n",
       "\n",
       "    .dataframe thead th {\n",
       "        text-align: right;\n",
       "    }\n",
       "</style>\n",
       "<table border=\"1\" class=\"dataframe\">\n",
       "  <thead>\n",
       "    <tr style=\"text-align: right;\">\n",
       "      <th></th>\n",
       "      <th>Dataset</th>\n",
       "      <th>Query Time</th>\n",
       "      <th>Execution Time</th>\n",
       "    </tr>\n",
       "  </thead>\n",
       "  <tbody>\n",
       "    <tr>\n",
       "      <th>0</th>\n",
       "      <td>roadkillstatus</td>\n",
       "      <td>1592058252564</td>\n",
       "      <td>2451238500</td>\n",
       "    </tr>\n",
       "    <tr>\n",
       "      <th>1</th>\n",
       "      <td>research2</td>\n",
       "      <td>1592058256043</td>\n",
       "      <td>46586900</td>\n",
       "    </tr>\n",
       "    <tr>\n",
       "      <th>2</th>\n",
       "      <td>busanmovie13</td>\n",
       "      <td>1592058256261</td>\n",
       "      <td>264503400</td>\n",
       "    </tr>\n",
       "    <tr>\n",
       "      <th>3</th>\n",
       "      <td>busanmovie5</td>\n",
       "      <td>1592058256666</td>\n",
       "      <td>29178500</td>\n",
       "    </tr>\n",
       "    <tr>\n",
       "      <th>4</th>\n",
       "      <td>busanmovie2</td>\n",
       "      <td>1592058256851</td>\n",
       "      <td>38638700</td>\n",
       "    </tr>\n",
       "    <tr>\n",
       "      <th>...</th>\n",
       "      <td>...</td>\n",
       "      <td>...</td>\n",
       "      <td>...</td>\n",
       "    </tr>\n",
       "    <tr>\n",
       "      <th>18795</th>\n",
       "      <td>TouristAtt</td>\n",
       "      <td>1592061570528</td>\n",
       "      <td>36693600</td>\n",
       "    </tr>\n",
       "    <tr>\n",
       "      <th>18796</th>\n",
       "      <td>ThemeTour_Subway</td>\n",
       "      <td>1592061570690</td>\n",
       "      <td>31064100</td>\n",
       "    </tr>\n",
       "    <tr>\n",
       "      <th>18797</th>\n",
       "      <td>research2</td>\n",
       "      <td>1592061570867</td>\n",
       "      <td>31363000</td>\n",
       "    </tr>\n",
       "    <tr>\n",
       "      <th>18798</th>\n",
       "      <td>research10</td>\n",
       "      <td>1592061571022</td>\n",
       "      <td>29779100</td>\n",
       "    </tr>\n",
       "    <tr>\n",
       "      <th>18799</th>\n",
       "      <td>research5</td>\n",
       "      <td>1592061571178</td>\n",
       "      <td>28255400</td>\n",
       "    </tr>\n",
       "  </tbody>\n",
       "</table>\n",
       "<p>18800 rows × 3 columns</p>\n",
       "</div>"
      ],
      "text/plain": [
       "                Dataset     Query Time  Execution Time\n",
       "0        roadkillstatus  1592058252564      2451238500\n",
       "1             research2  1592058256043        46586900\n",
       "2          busanmovie13  1592058256261       264503400\n",
       "3           busanmovie5  1592058256666        29178500\n",
       "4           busanmovie2  1592058256851        38638700\n",
       "...                 ...            ...             ...\n",
       "18795        TouristAtt  1592061570528        36693600\n",
       "18796  ThemeTour_Subway  1592061570690        31064100\n",
       "18797         research2  1592061570867        31363000\n",
       "18798        research10  1592061571022        29779100\n",
       "18799         research5  1592061571178        28255400\n",
       "\n",
       "[18800 rows x 3 columns]"
      ]
     },
     "execution_count": 143,
     "metadata": {},
     "output_type": "execute_result"
    }
   ],
   "source": [
    "X"
   ]
  },
  {
   "cell_type": "code",
   "execution_count": 144,
   "metadata": {
    "scrolled": true
   },
   "outputs": [
    {
     "data": {
      "text/html": [
       "<div>\n",
       "<style scoped>\n",
       "    .dataframe tbody tr th:only-of-type {\n",
       "        vertical-align: middle;\n",
       "    }\n",
       "\n",
       "    .dataframe tbody tr th {\n",
       "        vertical-align: top;\n",
       "    }\n",
       "\n",
       "    .dataframe thead th {\n",
       "        text-align: right;\n",
       "    }\n",
       "</style>\n",
       "<table border=\"1\" class=\"dataframe\">\n",
       "  <thead>\n",
       "    <tr style=\"text-align: right;\">\n",
       "      <th></th>\n",
       "      <th>Query Time</th>\n",
       "      <th>Execution Time</th>\n",
       "    </tr>\n",
       "  </thead>\n",
       "  <tbody>\n",
       "    <tr>\n",
       "      <th>count</th>\n",
       "      <td>1.880000e+04</td>\n",
       "      <td>1.880000e+04</td>\n",
       "    </tr>\n",
       "    <tr>\n",
       "      <th>mean</th>\n",
       "      <td>1.592060e+12</td>\n",
       "      <td>3.596896e+07</td>\n",
       "    </tr>\n",
       "    <tr>\n",
       "      <th>std</th>\n",
       "      <td>9.601152e+05</td>\n",
       "      <td>4.605090e+07</td>\n",
       "    </tr>\n",
       "    <tr>\n",
       "      <th>min</th>\n",
       "      <td>1.592058e+12</td>\n",
       "      <td>1.802540e+07</td>\n",
       "    </tr>\n",
       "    <tr>\n",
       "      <th>25%</th>\n",
       "      <td>1.592059e+12</td>\n",
       "      <td>2.605915e+07</td>\n",
       "    </tr>\n",
       "    <tr>\n",
       "      <th>50%</th>\n",
       "      <td>1.592060e+12</td>\n",
       "      <td>2.866610e+07</td>\n",
       "    </tr>\n",
       "    <tr>\n",
       "      <th>75%</th>\n",
       "      <td>1.592061e+12</td>\n",
       "      <td>3.082942e+07</td>\n",
       "    </tr>\n",
       "    <tr>\n",
       "      <th>max</th>\n",
       "      <td>1.592062e+12</td>\n",
       "      <td>2.728199e+09</td>\n",
       "    </tr>\n",
       "  </tbody>\n",
       "</table>\n",
       "</div>"
      ],
      "text/plain": [
       "         Query Time  Execution Time\n",
       "count  1.880000e+04    1.880000e+04\n",
       "mean   1.592060e+12    3.596896e+07\n",
       "std    9.601152e+05    4.605090e+07\n",
       "min    1.592058e+12    1.802540e+07\n",
       "25%    1.592059e+12    2.605915e+07\n",
       "50%    1.592060e+12    2.866610e+07\n",
       "75%    1.592061e+12    3.082942e+07\n",
       "max    1.592062e+12    2.728199e+09"
      ]
     },
     "execution_count": 144,
     "metadata": {},
     "output_type": "execute_result"
    }
   ],
   "source": [
    "X.describe()"
   ]
  },
  {
   "cell_type": "code",
   "execution_count": 145,
   "metadata": {
    "scrolled": true
   },
   "outputs": [
    {
     "name": "stderr",
     "output_type": "stream",
     "text": [
      "C:\\Users\\jhyun\\Anaconda3\\envs\\MLDL\\lib\\site-packages\\pandas\\core\\frame.py:2963: SettingWithCopyWarning: \n",
      "A value is trying to be set on a copy of a slice from a DataFrame.\n",
      "Try using .loc[row_indexer,col_indexer] = value instead\n",
      "\n",
      "See the caveats in the documentation: https://pandas.pydata.org/pandas-docs/stable/user_guide/indexing.html#returning-a-view-versus-a-copy\n",
      "  self[k1] = value[k2]\n"
     ]
    }
   ],
   "source": [
    "execute_mean=X[['Execution Time']].mean()\n",
    "execute_std=X[['Execution Time']].std()\n",
    "X[['Execution Time']]=(X[['Execution Time']]-execute_mean)/execute_std"
   ]
  },
  {
   "cell_type": "code",
   "execution_count": 146,
   "metadata": {
    "scrolled": true
   },
   "outputs": [],
   "source": [
    "query_min=X[['Query Time']].min()\n",
    "X[['Query Time']]=(X[['Query Time']]-query_min)"
   ]
  },
  {
   "cell_type": "code",
   "execution_count": 147,
   "metadata": {
    "scrolled": false
   },
   "outputs": [],
   "source": [
    "Dataset_Query=X.groupby('Dataset')['Query Time'].sum().to_frame().reset_index()"
   ]
  },
  {
   "cell_type": "code",
   "execution_count": 148,
   "metadata": {
    "scrolled": true
   },
   "outputs": [],
   "source": [
    "Dataset_Execution=X.groupby('Dataset')['Execution Time'].mean().to_frame().reset_index()"
   ]
  },
  {
   "cell_type": "code",
   "execution_count": 149,
   "metadata": {},
   "outputs": [],
   "source": [
    "Dataset_Query_Frequency=X.groupby('Dataset')['Query Time'].count().to_frame().reset_index()\n",
    "Dataset_Query_Frequency.rename(columns = {'Query Time' : 'Query Count'}, inplace = True)"
   ]
  },
  {
   "cell_type": "code",
   "execution_count": 150,
   "metadata": {},
   "outputs": [],
   "source": [
    "X=pd.merge(Dataset_Query,Dataset_Execution,on='Dataset')\n",
    "X=pd.merge(X,Dataset_Query_Frequency,on='Dataset')"
   ]
  },
  {
   "cell_type": "code",
   "execution_count": 151,
   "metadata": {},
   "outputs": [],
   "source": [
    "count_mean=X[['Query Count']].mean()\n",
    "count_std=X[['Query Count']].std()\n",
    "X[['Query Count']]=(X[['Query Count']]-count_mean)/count_std"
   ]
  },
  {
   "cell_type": "code",
   "execution_count": 152,
   "metadata": {},
   "outputs": [],
   "source": [
    "query_mean=X[['Query Time']].mean()\n",
    "query_std=X[['Query Time']].std()\n",
    "X[['Query Time']]=(X[['Query Time']]-query_mean) / query_std"
   ]
  },
  {
   "cell_type": "code",
   "execution_count": 153,
   "metadata": {
    "scrolled": true
   },
   "outputs": [
    {
     "data": {
      "text/plain": [
       "array([[<matplotlib.axes._subplots.AxesSubplot object at 0x000001B8C7B90348>,\n",
       "        <matplotlib.axes._subplots.AxesSubplot object at 0x000001B8C7BE8648>],\n",
       "       [<matplotlib.axes._subplots.AxesSubplot object at 0x000001B8C7C44E48>,\n",
       "        <matplotlib.axes._subplots.AxesSubplot object at 0x000001B8C7C8EDC8>]],\n",
       "      dtype=object)"
      ]
     },
     "execution_count": 153,
     "metadata": {},
     "output_type": "execute_result"
    },
    {
     "data": {
      "image/png": "[encoded data removed]",
      "text/plain": [
       "<Figure size 432x288 with 4 Axes>"
      ]
     },
     "metadata": {
      "needs_background": "light"
     },
     "output_type": "display_data"
    }
   ],
   "source": [
    "X.hist()"
   ]
  },
  {
   "cell_type": "code",
   "execution_count": 159,
   "metadata": {},
   "outputs": [],
   "source": [
    "query_hot=set(X['Query Time'].sort_values(ascending=False).index[:30])"
   ]
  },
  {
   "cell_type": "code",
   "execution_count": 160,
   "metadata": {},
   "outputs": [],
   "source": [
    "execution_hot=set(X['Execution Time'].sort_values(ascending=False).index[:30])"
   ]
  },
  {
   "cell_type": "code",
   "execution_count": 161,
   "metadata": {},
   "outputs": [],
   "source": [
    "count_hot=set(X['Query Count'].sort_values(ascending=False).index[:30])"
   ]
  },
  {
   "cell_type": "code",
   "execution_count": 162,
   "metadata": {
    "scrolled": true
   },
   "outputs": [
    {
     "name": "stdout",
     "output_type": "stream",
     "text": [
      "{51, 52, 53, 54, 55, 56, 58, 59, 60, 61, 62, 65, 66, 81, 82, 83, 84, 85, 86, 87, 88, 89, 90, 91, 92, 94, 95, 96, 97, 98}\n",
      "{2, 3, 4, 7, 9, 14, 20, 21, 26, 27, 28, 29, 30, 47, 49, 51, 52, 54, 56, 59, 60, 61, 62, 63, 64, 81, 82, 95, 97, 98}\n",
      "{51, 52, 53, 54, 55, 56, 58, 59, 60, 61, 62, 65, 66, 81, 82, 83, 84, 85, 86, 87, 88, 89, 90, 91, 92, 94, 95, 96, 97, 98}\n"
     ]
    }
   ],
   "source": [
    "print(query_hot)\n",
    "print(execution_hot)\n",
    "print(count_hot)"
   ]
  },
  {
   "cell_type": "code",
   "execution_count": 112,
   "metadata": {},
   "outputs": [],
   "source": [
    "Hot_Dataset_Counts=round(len(X)*0.3)"
   ]
  },
  {
   "cell_type": "code",
   "execution_count": 163,
   "metadata": {},
   "outputs": [
    {
     "name": "stdout",
     "output_type": "stream",
     "text": [
      "[51, 52, 53, 54, 55, 56, 58, 59, 60, 61, 62, 65, 66, 81, 82, 83, 84, 85, 86, 87, 88, 89, 90, 91, 92, 94, 95, 96, 97, 98, 97, 98, 81, 82, 51, 52, 54, 56, 59, 60, 61, 62, 95, 97, 98, 81, 82, 51, 52, 54, 56, 59, 60, 61, 62, 95]\n"
     ]
    }
   ],
   "source": [
    "hot_index=[]\n",
    "\n",
    "# Query Time and Execution Time and Query Count\n",
    "intersect=query_hot.intersection(execution_hot).intersection(count_hot)\n",
    "hot_index=[data for data in intersect]\n",
    "\n",
    "intersects=[]\n",
    "#Query Time and Query Count\n",
    "intersects.extend(query_hot.intersection(count_hot))\n",
    "#Execution Time and Query Count\n",
    "intersects.extend(execution_hot.intersection(count_hot))\n",
    "#Query Time and Execution Time\n",
    "intersects.extend(query_hot.intersection(execution_hot))\n",
    "print(intersects)\n",
    "while len(intersects)>0:\n",
    "    if len(hot_index) >= Hot_Dataset_Counts:\n",
    "        break\n",
    "    data=intersects.pop(0)\n",
    "    if data in hot_index:\n",
    "        continue\n",
    "    hot_index.append(data)\n",
    "    \n",
    "if len(hot_index) < Hot_Dataset_Counts:\n",
    "    count_hot=set(X['Query Count'].sort_values(ascending=False).index[:30])\n",
    "    index=0\n",
    "    while len(hot_index) <Hot_Dataset_Counts:\n",
    "        if count_hot[index] in hot_index:\n",
    "            index+=1\n",
    "            continue\n",
    "        hot_index.append(count_hot[index])\n",
    "                "
   ]
  },
  {
   "cell_type": "code",
   "execution_count": 164,
   "metadata": {},
   "outputs": [
    {
     "data": {
      "text/plain": [
       "[97,\n",
       " 98,\n",
       " 81,\n",
       " 82,\n",
       " 51,\n",
       " 52,\n",
       " 54,\n",
       " 56,\n",
       " 59,\n",
       " 60,\n",
       " 61,\n",
       " 62,\n",
       " 95,\n",
       " 53,\n",
       " 55,\n",
       " 58,\n",
       " 65,\n",
       " 66,\n",
       " 83,\n",
       " 84,\n",
       " 85,\n",
       " 86,\n",
       " 87,\n",
       " 88,\n",
       " 89,\n",
       " 90,\n",
       " 91,\n",
       " 92,\n",
       " 94,\n",
       " 96]"
      ]
     },
     "execution_count": 164,
     "metadata": {},
     "output_type": "execute_result"
    }
   ],
   "source": [
    "hot_index"
   ]
  },
  {
   "cell_type": "code",
   "execution_count": 165,
   "metadata": {},
   "outputs": [
    {
     "data": {
      "text/plain": [
       "30"
      ]
     },
     "execution_count": 165,
     "metadata": {},
     "output_type": "execute_result"
    }
   ],
   "source": [
    "len(hot_index)"
   ]
  },
  {
   "cell_type": "code",
   "execution_count": 166,
   "metadata": {},
   "outputs": [],
   "source": [
    "Y=pd.DataFrame(np.zeros(99))"
   ]
  },
  {
   "cell_type": "code",
   "execution_count": 167,
   "metadata": {},
   "outputs": [],
   "source": [
    "hots=list(hot_index)"
   ]
  },
  {
   "cell_type": "code",
   "execution_count": 168,
   "metadata": {},
   "outputs": [],
   "source": [
    "Y.loc[hots]=1.0"
   ]
  },
  {
   "cell_type": "code",
   "execution_count": 169,
   "metadata": {
    "scrolled": true
   },
   "outputs": [
    {
     "data": {
      "text/html": [
       "<div>\n",
       "<style scoped>\n",
       "    .dataframe tbody tr th:only-of-type {\n",
       "        vertical-align: middle;\n",
       "    }\n",
       "\n",
       "    .dataframe tbody tr th {\n",
       "        vertical-align: top;\n",
       "    }\n",
       "\n",
       "    .dataframe thead th {\n",
       "        text-align: right;\n",
       "    }\n",
       "</style>\n",
       "<table border=\"1\" class=\"dataframe\">\n",
       "  <thead>\n",
       "    <tr style=\"text-align: right;\">\n",
       "      <th></th>\n",
       "      <th>0</th>\n",
       "    </tr>\n",
       "  </thead>\n",
       "  <tbody>\n",
       "    <tr>\n",
       "      <th>0</th>\n",
       "      <td>0.0</td>\n",
       "    </tr>\n",
       "    <tr>\n",
       "      <th>1</th>\n",
       "      <td>0.0</td>\n",
       "    </tr>\n",
       "    <tr>\n",
       "      <th>2</th>\n",
       "      <td>0.0</td>\n",
       "    </tr>\n",
       "    <tr>\n",
       "      <th>3</th>\n",
       "      <td>0.0</td>\n",
       "    </tr>\n",
       "    <tr>\n",
       "      <th>4</th>\n",
       "      <td>0.0</td>\n",
       "    </tr>\n",
       "    <tr>\n",
       "      <th>...</th>\n",
       "      <td>...</td>\n",
       "    </tr>\n",
       "    <tr>\n",
       "      <th>94</th>\n",
       "      <td>1.0</td>\n",
       "    </tr>\n",
       "    <tr>\n",
       "      <th>95</th>\n",
       "      <td>1.0</td>\n",
       "    </tr>\n",
       "    <tr>\n",
       "      <th>96</th>\n",
       "      <td>1.0</td>\n",
       "    </tr>\n",
       "    <tr>\n",
       "      <th>97</th>\n",
       "      <td>1.0</td>\n",
       "    </tr>\n",
       "    <tr>\n",
       "      <th>98</th>\n",
       "      <td>1.0</td>\n",
       "    </tr>\n",
       "  </tbody>\n",
       "</table>\n",
       "<p>99 rows × 1 columns</p>\n",
       "</div>"
      ],
      "text/plain": [
       "      0\n",
       "0   0.0\n",
       "1   0.0\n",
       "2   0.0\n",
       "3   0.0\n",
       "4   0.0\n",
       "..  ...\n",
       "94  1.0\n",
       "95  1.0\n",
       "96  1.0\n",
       "97  1.0\n",
       "98  1.0\n",
       "\n",
       "[99 rows x 1 columns]"
      ]
     },
     "execution_count": 169,
     "metadata": {},
     "output_type": "execute_result"
    }
   ],
   "source": [
    "Y"
   ]
  },
  {
   "cell_type": "code",
   "execution_count": 170,
   "metadata": {},
   "outputs": [],
   "source": [
    "X=X[[\"Query Time\",\"Execution Time\",\"Query Count\"]]"
   ]
  },
  {
   "cell_type": "code",
   "execution_count": 171,
   "metadata": {
    "scrolled": true
   },
   "outputs": [
    {
     "data": {
      "text/html": [
       "<div>\n",
       "<style scoped>\n",
       "    .dataframe tbody tr th:only-of-type {\n",
       "        vertical-align: middle;\n",
       "    }\n",
       "\n",
       "    .dataframe tbody tr th {\n",
       "        vertical-align: top;\n",
       "    }\n",
       "\n",
       "    .dataframe thead th {\n",
       "        text-align: right;\n",
       "    }\n",
       "</style>\n",
       "<table border=\"1\" class=\"dataframe\">\n",
       "  <thead>\n",
       "    <tr style=\"text-align: right;\">\n",
       "      <th></th>\n",
       "      <th>Query Time</th>\n",
       "      <th>Execution Time</th>\n",
       "      <th>Query Count</th>\n",
       "    </tr>\n",
       "  </thead>\n",
       "  <tbody>\n",
       "    <tr>\n",
       "      <th>0</th>\n",
       "      <td>-0.741358</td>\n",
       "      <td>-0.176443</td>\n",
       "      <td>-0.749072</td>\n",
       "    </tr>\n",
       "    <tr>\n",
       "      <th>1</th>\n",
       "      <td>-0.601158</td>\n",
       "      <td>-0.101898</td>\n",
       "      <td>-0.584540</td>\n",
       "    </tr>\n",
       "    <tr>\n",
       "      <th>2</th>\n",
       "      <td>-0.581599</td>\n",
       "      <td>0.050872</td>\n",
       "      <td>-0.557118</td>\n",
       "    </tr>\n",
       "    <tr>\n",
       "      <th>3</th>\n",
       "      <td>-0.446495</td>\n",
       "      <td>2.196494</td>\n",
       "      <td>-0.420008</td>\n",
       "    </tr>\n",
       "    <tr>\n",
       "      <th>4</th>\n",
       "      <td>-0.458680</td>\n",
       "      <td>0.881970</td>\n",
       "      <td>-0.470282</td>\n",
       "    </tr>\n",
       "    <tr>\n",
       "      <th>...</th>\n",
       "      <td>...</td>\n",
       "      <td>...</td>\n",
       "      <td>...</td>\n",
       "    </tr>\n",
       "    <tr>\n",
       "      <th>94</th>\n",
       "      <td>1.310819</td>\n",
       "      <td>-0.168600</td>\n",
       "      <td>1.234449</td>\n",
       "    </tr>\n",
       "    <tr>\n",
       "      <th>95</th>\n",
       "      <td>1.746234</td>\n",
       "      <td>-0.055165</td>\n",
       "      <td>1.750896</td>\n",
       "    </tr>\n",
       "    <tr>\n",
       "      <th>96</th>\n",
       "      <td>1.717650</td>\n",
       "      <td>-0.160333</td>\n",
       "      <td>1.750896</td>\n",
       "    </tr>\n",
       "    <tr>\n",
       "      <th>97</th>\n",
       "      <td>1.194033</td>\n",
       "      <td>-0.015964</td>\n",
       "      <td>1.165894</td>\n",
       "    </tr>\n",
       "    <tr>\n",
       "      <th>98</th>\n",
       "      <td>1.288097</td>\n",
       "      <td>0.023494</td>\n",
       "      <td>1.408122</td>\n",
       "    </tr>\n",
       "  </tbody>\n",
       "</table>\n",
       "<p>99 rows × 3 columns</p>\n",
       "</div>"
      ],
      "text/plain": [
       "    Query Time  Execution Time  Query Count\n",
       "0    -0.741358       -0.176443    -0.749072\n",
       "1    -0.601158       -0.101898    -0.584540\n",
       "2    -0.581599        0.050872    -0.557118\n",
       "3    -0.446495        2.196494    -0.420008\n",
       "4    -0.458680        0.881970    -0.470282\n",
       "..         ...             ...          ...\n",
       "94    1.310819       -0.168600     1.234449\n",
       "95    1.746234       -0.055165     1.750896\n",
       "96    1.717650       -0.160333     1.750896\n",
       "97    1.194033       -0.015964     1.165894\n",
       "98    1.288097        0.023494     1.408122\n",
       "\n",
       "[99 rows x 3 columns]"
      ]
     },
     "execution_count": 171,
     "metadata": {},
     "output_type": "execute_result"
    }
   ],
   "source": [
    "X"
   ]
  },
  {
   "cell_type": "code",
   "execution_count": 172,
   "metadata": {},
   "outputs": [],
   "source": [
    "X_train, X_test, y_train, y_test = train_test_split(X, Y, test_size=0.2, random_state=42)"
   ]
  },
  {
   "cell_type": "code",
   "execution_count": 173,
   "metadata": {},
   "outputs": [],
   "source": [
    "tree=DecisionTreeClassifier()\n",
    "model=tree.fit(X_train,y_train)"
   ]
  },
  {
   "cell_type": "code",
   "execution_count": 174,
   "metadata": {
    "scrolled": true
   },
   "outputs": [
    {
     "data": {
      "text/html": [
       "<div>\n",
       "<style scoped>\n",
       "    .dataframe tbody tr th:only-of-type {\n",
       "        vertical-align: middle;\n",
       "    }\n",
       "\n",
       "    .dataframe tbody tr th {\n",
       "        vertical-align: top;\n",
       "    }\n",
       "\n",
       "    .dataframe thead th {\n",
       "        text-align: right;\n",
       "    }\n",
       "</style>\n",
       "<table border=\"1\" class=\"dataframe\">\n",
       "  <thead>\n",
       "    <tr style=\"text-align: right;\">\n",
       "      <th></th>\n",
       "      <th>Query Time</th>\n",
       "      <th>Execution Time</th>\n",
       "      <th>Query Count</th>\n",
       "    </tr>\n",
       "  </thead>\n",
       "  <tbody>\n",
       "    <tr>\n",
       "      <th>62</th>\n",
       "      <td>1.681641</td>\n",
       "      <td>0.016680</td>\n",
       "      <td>1.677771</td>\n",
       "    </tr>\n",
       "    <tr>\n",
       "      <th>40</th>\n",
       "      <td>-0.803976</td>\n",
       "      <td>-0.100956</td>\n",
       "      <td>-0.808486</td>\n",
       "    </tr>\n",
       "    <tr>\n",
       "      <th>95</th>\n",
       "      <td>1.746234</td>\n",
       "      <td>-0.055165</td>\n",
       "      <td>1.750896</td>\n",
       "    </tr>\n",
       "    <tr>\n",
       "      <th>18</th>\n",
       "      <td>-0.816106</td>\n",
       "      <td>-0.199653</td>\n",
       "      <td>-0.817626</td>\n",
       "    </tr>\n",
       "    <tr>\n",
       "      <th>97</th>\n",
       "      <td>1.194033</td>\n",
       "      <td>-0.015964</td>\n",
       "      <td>1.165894</td>\n",
       "    </tr>\n",
       "    <tr>\n",
       "      <th>84</th>\n",
       "      <td>0.916433</td>\n",
       "      <td>-0.175833</td>\n",
       "      <td>1.019644</td>\n",
       "    </tr>\n",
       "    <tr>\n",
       "      <th>64</th>\n",
       "      <td>-0.452000</td>\n",
       "      <td>0.245170</td>\n",
       "      <td>-0.456571</td>\n",
       "    </tr>\n",
       "    <tr>\n",
       "      <th>42</th>\n",
       "      <td>-0.585962</td>\n",
       "      <td>-0.105257</td>\n",
       "      <td>-0.589110</td>\n",
       "    </tr>\n",
       "    <tr>\n",
       "      <th>10</th>\n",
       "      <td>-0.521603</td>\n",
       "      <td>-0.171287</td>\n",
       "      <td>-0.520555</td>\n",
       "    </tr>\n",
       "    <tr>\n",
       "      <th>0</th>\n",
       "      <td>-0.741358</td>\n",
       "      <td>-0.176443</td>\n",
       "      <td>-0.749072</td>\n",
       "    </tr>\n",
       "    <tr>\n",
       "      <th>31</th>\n",
       "      <td>-0.543413</td>\n",
       "      <td>-0.079519</td>\n",
       "      <td>-0.534266</td>\n",
       "    </tr>\n",
       "    <tr>\n",
       "      <th>76</th>\n",
       "      <td>-0.635576</td>\n",
       "      <td>-0.198624</td>\n",
       "      <td>-0.611962</td>\n",
       "    </tr>\n",
       "    <tr>\n",
       "      <th>47</th>\n",
       "      <td>-0.731682</td>\n",
       "      <td>-0.016123</td>\n",
       "      <td>-0.735361</td>\n",
       "    </tr>\n",
       "    <tr>\n",
       "      <th>26</th>\n",
       "      <td>-0.804368</td>\n",
       "      <td>1.842825</td>\n",
       "      <td>-0.808486</td>\n",
       "    </tr>\n",
       "    <tr>\n",
       "      <th>44</th>\n",
       "      <td>-0.777283</td>\n",
       "      <td>-0.150596</td>\n",
       "      <td>-0.781064</td>\n",
       "    </tr>\n",
       "    <tr>\n",
       "      <th>4</th>\n",
       "      <td>-0.458680</td>\n",
       "      <td>0.881970</td>\n",
       "      <td>-0.470282</td>\n",
       "    </tr>\n",
       "    <tr>\n",
       "      <th>22</th>\n",
       "      <td>-0.492500</td>\n",
       "      <td>-0.118464</td>\n",
       "      <td>-0.529696</td>\n",
       "    </tr>\n",
       "    <tr>\n",
       "      <th>12</th>\n",
       "      <td>-0.845018</td>\n",
       "      <td>-0.167919</td>\n",
       "      <td>-0.849619</td>\n",
       "    </tr>\n",
       "    <tr>\n",
       "      <th>88</th>\n",
       "      <td>1.187942</td>\n",
       "      <td>-0.160581</td>\n",
       "      <td>1.252731</td>\n",
       "    </tr>\n",
       "    <tr>\n",
       "      <th>73</th>\n",
       "      <td>-0.535843</td>\n",
       "      <td>-0.197595</td>\n",
       "      <td>-0.538837</td>\n",
       "    </tr>\n",
       "  </tbody>\n",
       "</table>\n",
       "</div>"
      ],
      "text/plain": [
       "    Query Time  Execution Time  Query Count\n",
       "62    1.681641        0.016680     1.677771\n",
       "40   -0.803976       -0.100956    -0.808486\n",
       "95    1.746234       -0.055165     1.750896\n",
       "18   -0.816106       -0.199653    -0.817626\n",
       "97    1.194033       -0.015964     1.165894\n",
       "84    0.916433       -0.175833     1.019644\n",
       "64   -0.452000        0.245170    -0.456571\n",
       "42   -0.585962       -0.105257    -0.589110\n",
       "10   -0.521603       -0.171287    -0.520555\n",
       "0    -0.741358       -0.176443    -0.749072\n",
       "31   -0.543413       -0.079519    -0.534266\n",
       "76   -0.635576       -0.198624    -0.611962\n",
       "47   -0.731682       -0.016123    -0.735361\n",
       "26   -0.804368        1.842825    -0.808486\n",
       "44   -0.777283       -0.150596    -0.781064\n",
       "4    -0.458680        0.881970    -0.470282\n",
       "22   -0.492500       -0.118464    -0.529696\n",
       "12   -0.845018       -0.167919    -0.849619\n",
       "88    1.187942       -0.160581     1.252731\n",
       "73   -0.535843       -0.197595    -0.538837"
      ]
     },
     "execution_count": 174,
     "metadata": {},
     "output_type": "execute_result"
    }
   ],
   "source": [
    "X_test"
   ]
  },
  {
   "cell_type": "code",
   "execution_count": 175,
   "metadata": {
    "scrolled": true
   },
   "outputs": [],
   "source": [
    "predict=model.predict(X_test)"
   ]
  },
  {
   "cell_type": "code",
   "execution_count": 176,
   "metadata": {},
   "outputs": [
    {
     "name": "stdout",
     "output_type": "stream",
     "text": [
      "Accuracy: 100.00 %\n"
     ]
    }
   ],
   "source": [
    "print(\"Accuracy: %.2f\" % (accuracy_score(y_test, predict) * 100), \"%\") # 정확도 % 계산"
   ]
  }
 ],
 "metadata": {
  "kernelspec": {
   "display_name": "Python 3",
   "language": "python",
   "name": "python3"
  },
  "language_info": {
   "codemirror_mode": {
    "name": "ipython",
    "version": 3
   },
   "file_extension": ".py",
   "mimetype": "text/x-python",
   "name": "python",
   "nbconvert_exporter": "python",
   "pygments_lexer": "ipython3",
   "version": "3.7.7"
  }
 },
 "nbformat": 4,
 "nbformat_minor": 4
}
