{
 "cells": [
  {
   "cell_type": "code",
   "execution_count": 1,
   "metadata": {
    "scrolled": true
   },
   "outputs": [],
   "source": [
    "from sklearn.metrics import accuracy_score\n",
    "from sklearn.cluster import KMeans\n",
    "from sklearn.model_selection import train_test_split\n",
    "from collections import Counter\n",
    "import pandas as pd\n",
    "import matplotlib.pyplot as plt\n",
    "import datetime\n",
    "import numpy as np"
   ]
  },
  {
   "cell_type": "code",
   "execution_count": 2,
   "metadata": {},
   "outputs": [],
   "source": [
    "from sklearn.tree import DecisionTreeClassifier\n",
    "from sklearn.discriminant_analysis import LinearDiscriminantAnalysis, QuadraticDiscriminantAnalysis\n",
    "from sklearn.naive_bayes import GaussianNB\n",
    "from sklearn.gaussian_process import GaussianProcessClassifier\n",
    "from sklearn.gaussian_process.kernels import RBF\n",
    "from sklearn.ensemble import ExtraTreesClassifier\n",
    "from sklearn.linear_model import RidgeClassifier\n",
    "from sklearn.neighbors import KNeighborsClassifier"
   ]
  },
  {
   "cell_type": "code",
   "execution_count": 3,
   "metadata": {},
   "outputs": [],
   "source": [
    "log_data=pd.read_csv('../Datas/log4.csv',header=None)"
   ]
  },
  {
   "cell_type": "code",
   "execution_count": 4,
   "metadata": {
    "scrolled": false
   },
   "outputs": [
    {
     "data": {
      "text/html": [
       "<div>\n",
       "<style scoped>\n",
       "    .dataframe tbody tr th:only-of-type {\n",
       "        vertical-align: middle;\n",
       "    }\n",
       "\n",
       "    .dataframe tbody tr th {\n",
       "        vertical-align: top;\n",
       "    }\n",
       "\n",
       "    .dataframe thead th {\n",
       "        text-align: right;\n",
       "    }\n",
       "</style>\n",
       "<table border=\"1\" class=\"dataframe\">\n",
       "  <thead>\n",
       "    <tr style=\"text-align: right;\">\n",
       "      <th></th>\n",
       "      <th>0</th>\n",
       "      <th>1</th>\n",
       "      <th>2</th>\n",
       "      <th>3</th>\n",
       "    </tr>\n",
       "  </thead>\n",
       "  <tbody>\n",
       "    <tr>\n",
       "      <th>0</th>\n",
       "      <td>roadkillstatus</td>\n",
       "      <td>1592058252564</td>\n",
       "      <td>2451238500</td>\n",
       "      <td>...</td>\n",
       "    </tr>\n",
       "    <tr>\n",
       "      <th>1</th>\n",
       "      <td>research2</td>\n",
       "      <td>1592058256043</td>\n",
       "      <td>46586900</td>\n",
       "      <td>...</td>\n",
       "    </tr>\n",
       "    <tr>\n",
       "      <th>2</th>\n",
       "      <td>busanmovie13</td>\n",
       "      <td>1592058256261</td>\n",
       "      <td>264503400</td>\n",
       "      <td>...</td>\n",
       "    </tr>\n",
       "    <tr>\n",
       "      <th>3</th>\n",
       "      <td>busanmovie5</td>\n",
       "      <td>1592058256666</td>\n",
       "      <td>29178500</td>\n",
       "      <td>...</td>\n",
       "    </tr>\n",
       "    <tr>\n",
       "      <th>4</th>\n",
       "      <td>busanmovie2</td>\n",
       "      <td>1592058256851</td>\n",
       "      <td>38638700</td>\n",
       "      <td>...</td>\n",
       "    </tr>\n",
       "    <tr>\n",
       "      <th>...</th>\n",
       "      <td>...</td>\n",
       "      <td>...</td>\n",
       "      <td>...</td>\n",
       "      <td>...</td>\n",
       "    </tr>\n",
       "    <tr>\n",
       "      <th>18795</th>\n",
       "      <td>TouristAtt</td>\n",
       "      <td>1592061570528</td>\n",
       "      <td>36693600</td>\n",
       "      <td>...</td>\n",
       "    </tr>\n",
       "    <tr>\n",
       "      <th>18796</th>\n",
       "      <td>ThemeTour_Subway</td>\n",
       "      <td>1592061570690</td>\n",
       "      <td>31064100</td>\n",
       "      <td>...</td>\n",
       "    </tr>\n",
       "    <tr>\n",
       "      <th>18797</th>\n",
       "      <td>research2</td>\n",
       "      <td>1592061570867</td>\n",
       "      <td>31363000</td>\n",
       "      <td>...</td>\n",
       "    </tr>\n",
       "    <tr>\n",
       "      <th>18798</th>\n",
       "      <td>research10</td>\n",
       "      <td>1592061571022</td>\n",
       "      <td>29779100</td>\n",
       "      <td>...</td>\n",
       "    </tr>\n",
       "    <tr>\n",
       "      <th>18799</th>\n",
       "      <td>research5</td>\n",
       "      <td>1592061571178</td>\n",
       "      <td>28255400</td>\n",
       "      <td>...</td>\n",
       "    </tr>\n",
       "  </tbody>\n",
       "</table>\n",
       "<p>18800 rows × 4 columns</p>\n",
       "</div>"
      ],
      "text/plain": [
       "                      0              1           2    3\n",
       "0        roadkillstatus  1592058252564  2451238500  ...\n",
       "1             research2  1592058256043    46586900  ...\n",
       "2          busanmovie13  1592058256261   264503400  ...\n",
       "3           busanmovie5  1592058256666    29178500  ...\n",
       "4           busanmovie2  1592058256851    38638700  ...\n",
       "...                 ...            ...         ...  ...\n",
       "18795        TouristAtt  1592061570528    36693600  ...\n",
       "18796  ThemeTour_Subway  1592061570690    31064100  ...\n",
       "18797         research2  1592061570867    31363000  ...\n",
       "18798        research10  1592061571022    29779100  ...\n",
       "18799         research5  1592061571178    28255400  ...\n",
       "\n",
       "[18800 rows x 4 columns]"
      ]
     },
     "execution_count": 4,
     "metadata": {},
     "output_type": "execute_result"
    }
   ],
   "source": [
    "log_data"
   ]
  },
  {
   "cell_type": "code",
   "execution_count": 5,
   "metadata": {},
   "outputs": [],
   "source": [
    "log_data.columns=['Dataset','Query Time','Execution Time','ManagerId']"
   ]
  },
  {
   "cell_type": "code",
   "execution_count": 6,
   "metadata": {},
   "outputs": [
    {
     "data": {
      "text/plain": [
       "<bound method DataFrame.info of                 Dataset     Query Time  Execution Time ManagerId\n",
       "0        roadkillstatus  1592058252564      2451238500       ...\n",
       "1             research2  1592058256043        46586900       ...\n",
       "2          busanmovie13  1592058256261       264503400       ...\n",
       "3           busanmovie5  1592058256666        29178500       ...\n",
       "4           busanmovie2  1592058256851        38638700       ...\n",
       "...                 ...            ...             ...       ...\n",
       "18795        TouristAtt  1592061570528        36693600       ...\n",
       "18796  ThemeTour_Subway  1592061570690        31064100       ...\n",
       "18797         research2  1592061570867        31363000       ...\n",
       "18798        research10  1592061571022        29779100       ...\n",
       "18799         research5  1592061571178        28255400       ...\n",
       "\n",
       "[18800 rows x 4 columns]>"
      ]
     },
     "execution_count": 6,
     "metadata": {},
     "output_type": "execute_result"
    }
   ],
   "source": [
    "log_data.info"
   ]
  },
  {
   "cell_type": "code",
   "execution_count": 7,
   "metadata": {
    "scrolled": true
   },
   "outputs": [
    {
     "data": {
      "text/html": [
       "<div>\n",
       "<style scoped>\n",
       "    .dataframe tbody tr th:only-of-type {\n",
       "        vertical-align: middle;\n",
       "    }\n",
       "\n",
       "    .dataframe tbody tr th {\n",
       "        vertical-align: top;\n",
       "    }\n",
       "\n",
       "    .dataframe thead th {\n",
       "        text-align: right;\n",
       "    }\n",
       "</style>\n",
       "<table border=\"1\" class=\"dataframe\">\n",
       "  <thead>\n",
       "    <tr style=\"text-align: right;\">\n",
       "      <th></th>\n",
       "      <th>Query Time</th>\n",
       "      <th>Execution Time</th>\n",
       "    </tr>\n",
       "  </thead>\n",
       "  <tbody>\n",
       "    <tr>\n",
       "      <th>count</th>\n",
       "      <td>1.880000e+04</td>\n",
       "      <td>1.880000e+04</td>\n",
       "    </tr>\n",
       "    <tr>\n",
       "      <th>mean</th>\n",
       "      <td>1.592060e+12</td>\n",
       "      <td>3.596896e+07</td>\n",
       "    </tr>\n",
       "    <tr>\n",
       "      <th>std</th>\n",
       "      <td>9.601152e+05</td>\n",
       "      <td>4.605090e+07</td>\n",
       "    </tr>\n",
       "    <tr>\n",
       "      <th>min</th>\n",
       "      <td>1.592058e+12</td>\n",
       "      <td>1.802540e+07</td>\n",
       "    </tr>\n",
       "    <tr>\n",
       "      <th>25%</th>\n",
       "      <td>1.592059e+12</td>\n",
       "      <td>2.605915e+07</td>\n",
       "    </tr>\n",
       "    <tr>\n",
       "      <th>50%</th>\n",
       "      <td>1.592060e+12</td>\n",
       "      <td>2.866610e+07</td>\n",
       "    </tr>\n",
       "    <tr>\n",
       "      <th>75%</th>\n",
       "      <td>1.592061e+12</td>\n",
       "      <td>3.082942e+07</td>\n",
       "    </tr>\n",
       "    <tr>\n",
       "      <th>max</th>\n",
       "      <td>1.592062e+12</td>\n",
       "      <td>2.728199e+09</td>\n",
       "    </tr>\n",
       "  </tbody>\n",
       "</table>\n",
       "</div>"
      ],
      "text/plain": [
       "         Query Time  Execution Time\n",
       "count  1.880000e+04    1.880000e+04\n",
       "mean   1.592060e+12    3.596896e+07\n",
       "std    9.601152e+05    4.605090e+07\n",
       "min    1.592058e+12    1.802540e+07\n",
       "25%    1.592059e+12    2.605915e+07\n",
       "50%    1.592060e+12    2.866610e+07\n",
       "75%    1.592061e+12    3.082942e+07\n",
       "max    1.592062e+12    2.728199e+09"
      ]
     },
     "execution_count": 7,
     "metadata": {},
     "output_type": "execute_result"
    }
   ],
   "source": [
    "log_data.describe()"
   ]
  },
  {
   "cell_type": "code",
   "execution_count": 8,
   "metadata": {},
   "outputs": [],
   "source": [
    "X=log_data[['Dataset','Query Time','Execution Time']]"
   ]
  },
  {
   "cell_type": "code",
   "execution_count": 9,
   "metadata": {
    "scrolled": true
   },
   "outputs": [
    {
     "data": {
      "text/html": [
       "<div>\n",
       "<style scoped>\n",
       "    .dataframe tbody tr th:only-of-type {\n",
       "        vertical-align: middle;\n",
       "    }\n",
       "\n",
       "    .dataframe tbody tr th {\n",
       "        vertical-align: top;\n",
       "    }\n",
       "\n",
       "    .dataframe thead th {\n",
       "        text-align: right;\n",
       "    }\n",
       "</style>\n",
       "<table border=\"1\" class=\"dataframe\">\n",
       "  <thead>\n",
       "    <tr style=\"text-align: right;\">\n",
       "      <th></th>\n",
       "      <th>Dataset</th>\n",
       "      <th>Query Time</th>\n",
       "      <th>Execution Time</th>\n",
       "    </tr>\n",
       "  </thead>\n",
       "  <tbody>\n",
       "    <tr>\n",
       "      <th>0</th>\n",
       "      <td>roadkillstatus</td>\n",
       "      <td>1592058252564</td>\n",
       "      <td>2451238500</td>\n",
       "    </tr>\n",
       "    <tr>\n",
       "      <th>1</th>\n",
       "      <td>research2</td>\n",
       "      <td>1592058256043</td>\n",
       "      <td>46586900</td>\n",
       "    </tr>\n",
       "    <tr>\n",
       "      <th>2</th>\n",
       "      <td>busanmovie13</td>\n",
       "      <td>1592058256261</td>\n",
       "      <td>264503400</td>\n",
       "    </tr>\n",
       "    <tr>\n",
       "      <th>3</th>\n",
       "      <td>busanmovie5</td>\n",
       "      <td>1592058256666</td>\n",
       "      <td>29178500</td>\n",
       "    </tr>\n",
       "    <tr>\n",
       "      <th>4</th>\n",
       "      <td>busanmovie2</td>\n",
       "      <td>1592058256851</td>\n",
       "      <td>38638700</td>\n",
       "    </tr>\n",
       "    <tr>\n",
       "      <th>...</th>\n",
       "      <td>...</td>\n",
       "      <td>...</td>\n",
       "      <td>...</td>\n",
       "    </tr>\n",
       "    <tr>\n",
       "      <th>18795</th>\n",
       "      <td>TouristAtt</td>\n",
       "      <td>1592061570528</td>\n",
       "      <td>36693600</td>\n",
       "    </tr>\n",
       "    <tr>\n",
       "      <th>18796</th>\n",
       "      <td>ThemeTour_Subway</td>\n",
       "      <td>1592061570690</td>\n",
       "      <td>31064100</td>\n",
       "    </tr>\n",
       "    <tr>\n",
       "      <th>18797</th>\n",
       "      <td>research2</td>\n",
       "      <td>1592061570867</td>\n",
       "      <td>31363000</td>\n",
       "    </tr>\n",
       "    <tr>\n",
       "      <th>18798</th>\n",
       "      <td>research10</td>\n",
       "      <td>1592061571022</td>\n",
       "      <td>29779100</td>\n",
       "    </tr>\n",
       "    <tr>\n",
       "      <th>18799</th>\n",
       "      <td>research5</td>\n",
       "      <td>1592061571178</td>\n",
       "      <td>28255400</td>\n",
       "    </tr>\n",
       "  </tbody>\n",
       "</table>\n",
       "<p>18800 rows × 3 columns</p>\n",
       "</div>"
      ],
      "text/plain": [
       "                Dataset     Query Time  Execution Time\n",
       "0        roadkillstatus  1592058252564      2451238500\n",
       "1             research2  1592058256043        46586900\n",
       "2          busanmovie13  1592058256261       264503400\n",
       "3           busanmovie5  1592058256666        29178500\n",
       "4           busanmovie2  1592058256851        38638700\n",
       "...                 ...            ...             ...\n",
       "18795        TouristAtt  1592061570528        36693600\n",
       "18796  ThemeTour_Subway  1592061570690        31064100\n",
       "18797         research2  1592061570867        31363000\n",
       "18798        research10  1592061571022        29779100\n",
       "18799         research5  1592061571178        28255400\n",
       "\n",
       "[18800 rows x 3 columns]"
      ]
     },
     "execution_count": 9,
     "metadata": {},
     "output_type": "execute_result"
    }
   ],
   "source": [
    "X"
   ]
  },
  {
   "cell_type": "code",
   "execution_count": 10,
   "metadata": {
    "scrolled": false
   },
   "outputs": [
    {
     "data": {
      "text/html": [
       "<div>\n",
       "<style scoped>\n",
       "    .dataframe tbody tr th:only-of-type {\n",
       "        vertical-align: middle;\n",
       "    }\n",
       "\n",
       "    .dataframe tbody tr th {\n",
       "        vertical-align: top;\n",
       "    }\n",
       "\n",
       "    .dataframe thead th {\n",
       "        text-align: right;\n",
       "    }\n",
       "</style>\n",
       "<table border=\"1\" class=\"dataframe\">\n",
       "  <thead>\n",
       "    <tr style=\"text-align: right;\">\n",
       "      <th></th>\n",
       "      <th>Query Time</th>\n",
       "      <th>Execution Time</th>\n",
       "    </tr>\n",
       "  </thead>\n",
       "  <tbody>\n",
       "    <tr>\n",
       "      <th>count</th>\n",
       "      <td>1.880000e+04</td>\n",
       "      <td>1.880000e+04</td>\n",
       "    </tr>\n",
       "    <tr>\n",
       "      <th>mean</th>\n",
       "      <td>1.592060e+12</td>\n",
       "      <td>3.596896e+07</td>\n",
       "    </tr>\n",
       "    <tr>\n",
       "      <th>std</th>\n",
       "      <td>9.601152e+05</td>\n",
       "      <td>4.605090e+07</td>\n",
       "    </tr>\n",
       "    <tr>\n",
       "      <th>min</th>\n",
       "      <td>1.592058e+12</td>\n",
       "      <td>1.802540e+07</td>\n",
       "    </tr>\n",
       "    <tr>\n",
       "      <th>25%</th>\n",
       "      <td>1.592059e+12</td>\n",
       "      <td>2.605915e+07</td>\n",
       "    </tr>\n",
       "    <tr>\n",
       "      <th>50%</th>\n",
       "      <td>1.592060e+12</td>\n",
       "      <td>2.866610e+07</td>\n",
       "    </tr>\n",
       "    <tr>\n",
       "      <th>75%</th>\n",
       "      <td>1.592061e+12</td>\n",
       "      <td>3.082942e+07</td>\n",
       "    </tr>\n",
       "    <tr>\n",
       "      <th>max</th>\n",
       "      <td>1.592062e+12</td>\n",
       "      <td>2.728199e+09</td>\n",
       "    </tr>\n",
       "  </tbody>\n",
       "</table>\n",
       "</div>"
      ],
      "text/plain": [
       "         Query Time  Execution Time\n",
       "count  1.880000e+04    1.880000e+04\n",
       "mean   1.592060e+12    3.596896e+07\n",
       "std    9.601152e+05    4.605090e+07\n",
       "min    1.592058e+12    1.802540e+07\n",
       "25%    1.592059e+12    2.605915e+07\n",
       "50%    1.592060e+12    2.866610e+07\n",
       "75%    1.592061e+12    3.082942e+07\n",
       "max    1.592062e+12    2.728199e+09"
      ]
     },
     "execution_count": 10,
     "metadata": {},
     "output_type": "execute_result"
    }
   ],
   "source": [
    "X.describe()"
   ]
  },
  {
   "cell_type": "code",
   "execution_count": 12,
   "metadata": {
    "scrolled": true
   },
   "outputs": [
    {
     "name": "stderr",
     "output_type": "stream",
     "text": [
      "C:\\Users\\jhyun\\Anaconda3\\envs\\MLDL\\lib\\site-packages\\pandas\\core\\frame.py:2963: SettingWithCopyWarning: \n",
      "A value is trying to be set on a copy of a slice from a DataFrame.\n",
      "Try using .loc[row_indexer,col_indexer] = value instead\n",
      "\n",
      "See the caveats in the documentation: https://pandas.pydata.org/pandas-docs/stable/user_guide/indexing.html#returning-a-view-versus-a-copy\n",
      "  self[k1] = value[k2]\n"
     ]
    }
   ],
   "source": [
    "query_min=X[['Query Time']].min()\n",
    "X[['Query Time']]=(X[['Query Time']]-query_min)"
   ]
  },
  {
   "cell_type": "code",
   "execution_count": 13,
   "metadata": {},
   "outputs": [
    {
     "data": {
      "text/html": [
       "<div>\n",
       "<style scoped>\n",
       "    .dataframe tbody tr th:only-of-type {\n",
       "        vertical-align: middle;\n",
       "    }\n",
       "\n",
       "    .dataframe tbody tr th {\n",
       "        vertical-align: top;\n",
       "    }\n",
       "\n",
       "    .dataframe thead th {\n",
       "        text-align: right;\n",
       "    }\n",
       "</style>\n",
       "<table border=\"1\" class=\"dataframe\">\n",
       "  <thead>\n",
       "    <tr style=\"text-align: right;\">\n",
       "      <th></th>\n",
       "      <th>Dataset</th>\n",
       "      <th>Query Time</th>\n",
       "      <th>Execution Time</th>\n",
       "    </tr>\n",
       "  </thead>\n",
       "  <tbody>\n",
       "    <tr>\n",
       "      <th>1</th>\n",
       "      <td>research2</td>\n",
       "      <td>0</td>\n",
       "      <td>46586900</td>\n",
       "    </tr>\n",
       "    <tr>\n",
       "      <th>3</th>\n",
       "      <td>busanmovie5</td>\n",
       "      <td>623</td>\n",
       "      <td>29178500</td>\n",
       "    </tr>\n",
       "    <tr>\n",
       "      <th>4</th>\n",
       "      <td>busanmovie2</td>\n",
       "      <td>808</td>\n",
       "      <td>38638700</td>\n",
       "    </tr>\n",
       "    <tr>\n",
       "      <th>5</th>\n",
       "      <td>koreanhistory</td>\n",
       "      <td>983</td>\n",
       "      <td>40535500</td>\n",
       "    </tr>\n",
       "    <tr>\n",
       "      <th>6</th>\n",
       "      <td>research6</td>\n",
       "      <td>1183</td>\n",
       "      <td>35393700</td>\n",
       "    </tr>\n",
       "    <tr>\n",
       "      <th>...</th>\n",
       "      <td>...</td>\n",
       "      <td>...</td>\n",
       "      <td>...</td>\n",
       "    </tr>\n",
       "    <tr>\n",
       "      <th>18795</th>\n",
       "      <td>TouristAtt</td>\n",
       "      <td>3314485</td>\n",
       "      <td>36693600</td>\n",
       "    </tr>\n",
       "    <tr>\n",
       "      <th>18796</th>\n",
       "      <td>ThemeTour_Subway</td>\n",
       "      <td>3314647</td>\n",
       "      <td>31064100</td>\n",
       "    </tr>\n",
       "    <tr>\n",
       "      <th>18797</th>\n",
       "      <td>research2</td>\n",
       "      <td>3314824</td>\n",
       "      <td>31363000</td>\n",
       "    </tr>\n",
       "    <tr>\n",
       "      <th>18798</th>\n",
       "      <td>research10</td>\n",
       "      <td>3314979</td>\n",
       "      <td>29779100</td>\n",
       "    </tr>\n",
       "    <tr>\n",
       "      <th>18799</th>\n",
       "      <td>research5</td>\n",
       "      <td>3315135</td>\n",
       "      <td>28255400</td>\n",
       "    </tr>\n",
       "  </tbody>\n",
       "</table>\n",
       "<p>18609 rows × 3 columns</p>\n",
       "</div>"
      ],
      "text/plain": [
       "                Dataset  Query Time  Execution Time\n",
       "1             research2           0        46586900\n",
       "3           busanmovie5         623        29178500\n",
       "4           busanmovie2         808        38638700\n",
       "5         koreanhistory         983        40535500\n",
       "6             research6        1183        35393700\n",
       "...                 ...         ...             ...\n",
       "18795        TouristAtt     3314485        36693600\n",
       "18796  ThemeTour_Subway     3314647        31064100\n",
       "18797         research2     3314824        31363000\n",
       "18798        research10     3314979        29779100\n",
       "18799         research5     3315135        28255400\n",
       "\n",
       "[18609 rows x 3 columns]"
      ]
     },
     "execution_count": 13,
     "metadata": {},
     "output_type": "execute_result"
    }
   ],
   "source": [
    "X"
   ]
  },
  {
   "cell_type": "code",
   "execution_count": 14,
   "metadata": {
    "scrolled": false
   },
   "outputs": [],
   "source": [
    "Dataset_Query=X.groupby('Dataset')['Query Time'].sum().to_frame().reset_index()"
   ]
  },
  {
   "cell_type": "code",
   "execution_count": 15,
   "metadata": {
    "scrolled": true
   },
   "outputs": [],
   "source": [
    "Dataset_Execution=X.groupby('Dataset')['Execution Time'].mean().to_frame().reset_index()"
   ]
  },
  {
   "cell_type": "code",
   "execution_count": 16,
   "metadata": {},
   "outputs": [],
   "source": [
    "Dataset_Query_Frequency=X.groupby('Dataset')['Query Time'].count().to_frame().reset_index()\n",
    "Dataset_Query_Frequency.rename(columns = {'Query Time' : 'Query Count'}, inplace = True)"
   ]
  },
  {
   "cell_type": "code",
   "execution_count": 17,
   "metadata": {},
   "outputs": [],
   "source": [
    "X=pd.merge(Dataset_Query,Dataset_Execution,on='Dataset')\n",
    "X=pd.merge(X,Dataset_Query_Frequency,on='Dataset')"
   ]
  },
  {
   "cell_type": "code",
   "execution_count": 18,
   "metadata": {},
   "outputs": [],
   "source": [
    "execute_mean=X[['Execution Time']].mean()\n",
    "execute_std=X[['Execution Time']].std()\n",
    "X[['Execution Time']]=(X[['Execution Time']]-execute_mean)/execute_std"
   ]
  },
  {
   "cell_type": "code",
   "execution_count": 19,
   "metadata": {},
   "outputs": [],
   "source": [
    "count_mean=X[['Query Count']].mean()\n",
    "count_std=X[['Query Count']].std()\n",
    "X[['Query Count']]=(X[['Query Count']]-count_mean)/count_std"
   ]
  },
  {
   "cell_type": "code",
   "execution_count": 20,
   "metadata": {},
   "outputs": [],
   "source": [
    "query_mean=X[['Query Time']].mean()\n",
    "query_std=X[['Query Time']].std()\n",
    "X[['Query Time']]=(X[['Query Time']]-query_mean) / query_std"
   ]
  },
  {
   "cell_type": "code",
   "execution_count": 21,
   "metadata": {
    "scrolled": false
   },
   "outputs": [
    {
     "data": {
      "text/html": [
       "<div>\n",
       "<style scoped>\n",
       "    .dataframe tbody tr th:only-of-type {\n",
       "        vertical-align: middle;\n",
       "    }\n",
       "\n",
       "    .dataframe tbody tr th {\n",
       "        vertical-align: top;\n",
       "    }\n",
       "\n",
       "    .dataframe thead th {\n",
       "        text-align: right;\n",
       "    }\n",
       "</style>\n",
       "<table border=\"1\" class=\"dataframe\">\n",
       "  <thead>\n",
       "    <tr style=\"text-align: right;\">\n",
       "      <th></th>\n",
       "      <th>Dataset</th>\n",
       "      <th>Query Time</th>\n",
       "      <th>Execution Time</th>\n",
       "      <th>Query Count</th>\n",
       "    </tr>\n",
       "  </thead>\n",
       "  <tbody>\n",
       "    <tr>\n",
       "      <th>0</th>\n",
       "      <td>CinemaMap</td>\n",
       "      <td>-0.741635</td>\n",
       "      <td>-0.452407</td>\n",
       "      <td>-0.749898</td>\n",
       "    </tr>\n",
       "    <tr>\n",
       "      <th>1</th>\n",
       "      <td>Cinemap</td>\n",
       "      <td>-0.599807</td>\n",
       "      <td>-0.264059</td>\n",
       "      <td>-0.583223</td>\n",
       "    </tr>\n",
       "    <tr>\n",
       "      <th>2</th>\n",
       "      <td>CulturalAssets</td>\n",
       "      <td>-0.580031</td>\n",
       "      <td>0.121931</td>\n",
       "      <td>-0.555444</td>\n",
       "    </tr>\n",
       "    <tr>\n",
       "      <th>3</th>\n",
       "      <td>DureraumMovie1</td>\n",
       "      <td>-0.443312</td>\n",
       "      <td>5.543102</td>\n",
       "      <td>-0.416548</td>\n",
       "    </tr>\n",
       "    <tr>\n",
       "      <th>4</th>\n",
       "      <td>DureraumMovie2</td>\n",
       "      <td>-0.455562</td>\n",
       "      <td>2.221799</td>\n",
       "      <td>-0.467476</td>\n",
       "    </tr>\n",
       "    <tr>\n",
       "      <th>...</th>\n",
       "      <td>...</td>\n",
       "      <td>...</td>\n",
       "      <td>...</td>\n",
       "      <td>...</td>\n",
       "    </tr>\n",
       "    <tr>\n",
       "      <th>94</th>\n",
       "      <td>research9</td>\n",
       "      <td>1.327343</td>\n",
       "      <td>-0.493184</td>\n",
       "      <td>1.254835</td>\n",
       "    </tr>\n",
       "    <tr>\n",
       "      <th>95</th>\n",
       "      <td>roadkillstatus</td>\n",
       "      <td>1.769740</td>\n",
       "      <td>-0.432380</td>\n",
       "      <td>1.773380</td>\n",
       "    </tr>\n",
       "    <tr>\n",
       "      <th>96</th>\n",
       "      <td>roadkillstatus1</td>\n",
       "      <td>1.746751</td>\n",
       "      <td>-0.411702</td>\n",
       "      <td>1.782640</td>\n",
       "    </tr>\n",
       "    <tr>\n",
       "      <th>97</th>\n",
       "      <td>tourguide</td>\n",
       "      <td>1.214144</td>\n",
       "      <td>-0.138148</td>\n",
       "      <td>1.185387</td>\n",
       "    </tr>\n",
       "    <tr>\n",
       "      <th>98</th>\n",
       "      <td>tourguide1</td>\n",
       "      <td>1.311866</td>\n",
       "      <td>0.052757</td>\n",
       "      <td>1.435399</td>\n",
       "    </tr>\n",
       "  </tbody>\n",
       "</table>\n",
       "<p>99 rows × 4 columns</p>\n",
       "</div>"
      ],
      "text/plain": [
       "            Dataset  Query Time  Execution Time  Query Count\n",
       "0         CinemaMap   -0.741635       -0.452407    -0.749898\n",
       "1           Cinemap   -0.599807       -0.264059    -0.583223\n",
       "2    CulturalAssets   -0.580031        0.121931    -0.555444\n",
       "3    DureraumMovie1   -0.443312        5.543102    -0.416548\n",
       "4    DureraumMovie2   -0.455562        2.221799    -0.467476\n",
       "..              ...         ...             ...          ...\n",
       "94        research9    1.327343       -0.493184     1.254835\n",
       "95   roadkillstatus    1.769740       -0.432380     1.773380\n",
       "96  roadkillstatus1    1.746751       -0.411702     1.782640\n",
       "97        tourguide    1.214144       -0.138148     1.185387\n",
       "98       tourguide1    1.311866        0.052757     1.435399\n",
       "\n",
       "[99 rows x 4 columns]"
      ]
     },
     "execution_count": 21,
     "metadata": {},
     "output_type": "execute_result"
    }
   ],
   "source": [
    "X"
   ]
  },
  {
   "cell_type": "code",
   "execution_count": 22,
   "metadata": {
    "scrolled": true
   },
   "outputs": [
    {
     "data": {
      "text/plain": [
       "array([[<matplotlib.axes._subplots.AxesSubplot object at 0x000001754A4178C8>]],\n",
       "      dtype=object)"
      ]
     },
     "execution_count": 22,
     "metadata": {},
     "output_type": "execute_result"
    },
    {
     "data": {
      "image/png": "[encoded data removed]",
      "text/plain": [
       "<Figure size 432x288 with 1 Axes>"
      ]
     },
     "metadata": {
      "needs_background": "light"
     },
     "output_type": "display_data"
    }
   ],
   "source": [
    "X[['Query Time']].hist()"
   ]
  },
  {
   "cell_type": "code",
   "execution_count": 23,
   "metadata": {
    "scrolled": true
   },
   "outputs": [
    {
     "data": {
      "text/plain": [
       "array([[<matplotlib.axes._subplots.AxesSubplot object at 0x000001754A79EBC8>]],\n",
       "      dtype=object)"
      ]
     },
     "execution_count": 23,
     "metadata": {},
     "output_type": "execute_result"
    },
    {
     "data": {
      "image/png": "[encoded data removed]",
      "text/plain": [
       "<Figure size 432x288 with 1 Axes>"
      ]
     },
     "metadata": {
      "needs_background": "light"
     },
     "output_type": "display_data"
    }
   ],
   "source": [
    "X[['Execution Time']].hist()"
   ]
  },
  {
   "cell_type": "code",
   "execution_count": 24,
   "metadata": {},
   "outputs": [
    {
     "data": {
      "text/plain": [
       "array([[<matplotlib.axes._subplots.AxesSubplot object at 0x000001754A80C448>]],\n",
       "      dtype=object)"
      ]
     },
     "execution_count": 24,
     "metadata": {},
     "output_type": "execute_result"
    },
    {
     "data": {
      "image/png": "[encoded data removed]",
      "text/plain": [
       "<Figure size 432x288 with 1 Axes>"
      ]
     },
     "metadata": {
      "needs_background": "light"
     },
     "output_type": "display_data"
    }
   ],
   "source": [
    "X[['Query Count']].hist()"
   ]
  },
  {
   "cell_type": "code",
   "execution_count": 25,
   "metadata": {},
   "outputs": [],
   "source": [
    "query_hot=set(X['Query Time'].sort_values(ascending=False).index[:30])"
   ]
  },
  {
   "cell_type": "code",
   "execution_count": 26,
   "metadata": {},
   "outputs": [],
   "source": [
    "execution_hot=set(X['Execution Time'].sort_values(ascending=False).index[:30])"
   ]
  },
  {
   "cell_type": "code",
   "execution_count": 27,
   "metadata": {},
   "outputs": [],
   "source": [
    "count_hot=set(X['Query Count'].sort_values(ascending=False).index[:30])"
   ]
  },
  {
   "cell_type": "code",
   "execution_count": 28,
   "metadata": {
    "scrolled": true
   },
   "outputs": [
    {
     "name": "stdout",
     "output_type": "stream",
     "text": [
      "{51, 52, 53, 54, 55, 56, 58, 59, 60, 61, 62, 65, 66, 81, 82, 83, 84, 85, 86, 87, 88, 89, 90, 91, 92, 94, 95, 96, 97, 98}\n",
      "{2, 3, 4, 7, 8, 9, 14, 20, 21, 26, 27, 28, 29, 30, 31, 47, 49, 51, 52, 54, 56, 59, 60, 61, 63, 64, 81, 82, 97, 98}\n",
      "{51, 52, 53, 54, 55, 56, 58, 59, 60, 61, 62, 65, 66, 81, 82, 83, 84, 85, 86, 87, 88, 89, 90, 91, 92, 94, 95, 96, 97, 98}\n"
     ]
    }
   ],
   "source": [
    "print(query_hot)\n",
    "print(execution_hot)\n",
    "print(count_hot)"
   ]
  },
  {
   "cell_type": "code",
   "execution_count": 29,
   "metadata": {},
   "outputs": [],
   "source": [
    "Hot_Dataset_Counts=round(len(X)*0.3)"
   ]
  },
  {
   "cell_type": "code",
   "execution_count": 30,
   "metadata": {},
   "outputs": [
    {
     "name": "stdout",
     "output_type": "stream",
     "text": [
      "[51, 52, 53, 54, 55, 56, 58, 59, 60, 61, 62, 65, 66, 81, 82, 83, 84, 85, 86, 87, 88, 89, 90, 91, 92, 94, 95, 96, 97, 98, 97, 98, 81, 82, 51, 52, 54, 56, 59, 60, 61, 97, 98, 81, 82, 51, 52, 54, 56, 59, 60, 61]\n"
     ]
    }
   ],
   "source": [
    "hot_index=[]\n",
    "\n",
    "# Query Time and Execution Time and Query Count\n",
    "intersect=query_hot.intersection(execution_hot).intersection(count_hot)\n",
    "hot_index=[data for data in intersect]\n",
    "\n",
    "intersects=[]\n",
    "#Query Time and Query Count\n",
    "intersects.extend(query_hot.intersection(count_hot))\n",
    "#Execution Time and Query Count\n",
    "intersects.extend(execution_hot.intersection(count_hot))\n",
    "#Query Time and Execution Time\n",
    "intersects.extend(query_hot.intersection(execution_hot))\n",
    "print(intersects)\n",
    "while len(intersects)>0:\n",
    "    if len(hot_index) >= Hot_Dataset_Counts:\n",
    "        break\n",
    "    data=intersects.pop(0)\n",
    "    if data in hot_index:\n",
    "        continue\n",
    "    hot_index.append(data)\n",
    "    \n",
    "if len(hot_index) < Hot_Dataset_Counts:\n",
    "    count_hot=set(X['Query Count'].sort_values(ascending=False).index[:30])\n",
    "    index=0\n",
    "    while len(hot_index) <Hot_Dataset_Counts:\n",
    "        if count_hot[index] in hot_index:\n",
    "            index+=1\n",
    "            continue\n",
    "        hot_index.append(count_hot[index])"
   ]
  },
  {
   "cell_type": "code",
   "execution_count": 31,
   "metadata": {},
   "outputs": [
    {
     "data": {
      "text/plain": [
       "[97,\n",
       " 98,\n",
       " 81,\n",
       " 82,\n",
       " 51,\n",
       " 52,\n",
       " 54,\n",
       " 56,\n",
       " 59,\n",
       " 60,\n",
       " 61,\n",
       " 53,\n",
       " 55,\n",
       " 58,\n",
       " 62,\n",
       " 65,\n",
       " 66,\n",
       " 83,\n",
       " 84,\n",
       " 85,\n",
       " 86,\n",
       " 87,\n",
       " 88,\n",
       " 89,\n",
       " 90,\n",
       " 91,\n",
       " 92,\n",
       " 94,\n",
       " 95,\n",
       " 96]"
      ]
     },
     "execution_count": 31,
     "metadata": {},
     "output_type": "execute_result"
    }
   ],
   "source": [
    "hot_index"
   ]
  },
  {
   "cell_type": "code",
   "execution_count": 32,
   "metadata": {},
   "outputs": [],
   "source": [
    "Y=pd.DataFrame(np.zeros(len(X)))"
   ]
  },
  {
   "cell_type": "code",
   "execution_count": 33,
   "metadata": {},
   "outputs": [],
   "source": [
    "hots=list(hot_index)"
   ]
  },
  {
   "cell_type": "code",
   "execution_count": 34,
   "metadata": {},
   "outputs": [],
   "source": [
    "Y.loc[hots]=1.0"
   ]
  },
  {
   "cell_type": "code",
   "execution_count": 35,
   "metadata": {
    "scrolled": true
   },
   "outputs": [
    {
     "data": {
      "text/html": [
       "<div>\n",
       "<style scoped>\n",
       "    .dataframe tbody tr th:only-of-type {\n",
       "        vertical-align: middle;\n",
       "    }\n",
       "\n",
       "    .dataframe tbody tr th {\n",
       "        vertical-align: top;\n",
       "    }\n",
       "\n",
       "    .dataframe thead th {\n",
       "        text-align: right;\n",
       "    }\n",
       "</style>\n",
       "<table border=\"1\" class=\"dataframe\">\n",
       "  <thead>\n",
       "    <tr style=\"text-align: right;\">\n",
       "      <th></th>\n",
       "      <th>0</th>\n",
       "    </tr>\n",
       "  </thead>\n",
       "  <tbody>\n",
       "    <tr>\n",
       "      <th>0</th>\n",
       "      <td>0.0</td>\n",
       "    </tr>\n",
       "    <tr>\n",
       "      <th>1</th>\n",
       "      <td>0.0</td>\n",
       "    </tr>\n",
       "    <tr>\n",
       "      <th>2</th>\n",
       "      <td>0.0</td>\n",
       "    </tr>\n",
       "    <tr>\n",
       "      <th>3</th>\n",
       "      <td>0.0</td>\n",
       "    </tr>\n",
       "    <tr>\n",
       "      <th>4</th>\n",
       "      <td>0.0</td>\n",
       "    </tr>\n",
       "    <tr>\n",
       "      <th>...</th>\n",
       "      <td>...</td>\n",
       "    </tr>\n",
       "    <tr>\n",
       "      <th>94</th>\n",
       "      <td>1.0</td>\n",
       "    </tr>\n",
       "    <tr>\n",
       "      <th>95</th>\n",
       "      <td>1.0</td>\n",
       "    </tr>\n",
       "    <tr>\n",
       "      <th>96</th>\n",
       "      <td>1.0</td>\n",
       "    </tr>\n",
       "    <tr>\n",
       "      <th>97</th>\n",
       "      <td>1.0</td>\n",
       "    </tr>\n",
       "    <tr>\n",
       "      <th>98</th>\n",
       "      <td>1.0</td>\n",
       "    </tr>\n",
       "  </tbody>\n",
       "</table>\n",
       "<p>99 rows × 1 columns</p>\n",
       "</div>"
      ],
      "text/plain": [
       "      0\n",
       "0   0.0\n",
       "1   0.0\n",
       "2   0.0\n",
       "3   0.0\n",
       "4   0.0\n",
       "..  ...\n",
       "94  1.0\n",
       "95  1.0\n",
       "96  1.0\n",
       "97  1.0\n",
       "98  1.0\n",
       "\n",
       "[99 rows x 1 columns]"
      ]
     },
     "execution_count": 35,
     "metadata": {},
     "output_type": "execute_result"
    }
   ],
   "source": [
    "Y"
   ]
  },
  {
   "cell_type": "code",
   "execution_count": 36,
   "metadata": {},
   "outputs": [],
   "source": [
    "X=X[[\"Query Time\",\"Execution Time\",\"Query Count\"]]"
   ]
  },
  {
   "cell_type": "code",
   "execution_count": 37,
   "metadata": {},
   "outputs": [],
   "source": [
    "X_train, X_test, y_train, y_test = train_test_split(X, Y, test_size=0.33, random_state=42)"
   ]
  },
  {
   "cell_type": "code",
   "execution_count": 38,
   "metadata": {},
   "outputs": [],
   "source": [
    "Names=[\"Decision Tree\",\n",
    "       \"Linear Discriminant Analysis\",\n",
    "       \"Quadratic Discriminant Analysis\",\n",
    "       \"Gaussian NB\",\n",
    "       \"Gaussian ProcessClassifier\",\n",
    "       \"ExtraTreeClassifier\",\n",
    "       \"RidgeClassifier\",\n",
    "       \"KNNClassifier\"]"
   ]
  },
  {
   "cell_type": "code",
   "execution_count": 39,
   "metadata": {},
   "outputs": [],
   "source": [
    "Classifiers=[\n",
    "    DecisionTreeClassifier(criterion=\"entropy\"),\n",
    "    LinearDiscriminantAnalysis(),\n",
    "    QuadraticDiscriminantAnalysis(),\n",
    "    GaussianNB(),\n",
    "    GaussianProcessClassifier(kernel=1.0*RBF(1.0)),\n",
    "    ExtraTreesClassifier(),\n",
    "    RidgeClassifier(),\n",
    "    KNeighborsClassifier(n_neighbors = 5)\n",
    "]"
   ]
  },
  {
   "cell_type": "code",
   "execution_count": 40,
   "metadata": {
    "scrolled": true
   },
   "outputs": [
    {
     "name": "stderr",
     "output_type": "stream",
     "text": [
      "C:\\Users\\jhyun\\Anaconda3\\envs\\MLDL\\lib\\site-packages\\sklearn\\utils\\validation.py:760: DataConversionWarning: A column-vector y was passed when a 1d array was expected. Please change the shape of y to (n_samples, ), for example using ravel().\n",
      "  y = column_or_1d(y, warn=True)\n",
      "C:\\Users\\jhyun\\Anaconda3\\envs\\MLDL\\lib\\site-packages\\sklearn\\utils\\validation.py:760: DataConversionWarning: A column-vector y was passed when a 1d array was expected. Please change the shape of y to (n_samples, ), for example using ravel().\n",
      "  y = column_or_1d(y, warn=True)\n",
      "C:\\Users\\jhyun\\Anaconda3\\envs\\MLDL\\lib\\site-packages\\sklearn\\naive_bayes.py:206: DataConversionWarning: A column-vector y was passed when a 1d array was expected. Please change the shape of y to (n_samples, ), for example using ravel().\n",
      "  y = column_or_1d(y, warn=True)\n",
      "C:\\Users\\jhyun\\Anaconda3\\envs\\MLDL\\lib\\site-packages\\sklearn\\utils\\validation.py:760: DataConversionWarning: A column-vector y was passed when a 1d array was expected. Please change the shape of y to (n_samples, ), for example using ravel().\n",
      "  y = column_or_1d(y, warn=True)\n",
      "C:\\Users\\jhyun\\Anaconda3\\envs\\MLDL\\lib\\site-packages\\ipykernel_launcher.py:3: DataConversionWarning: A column-vector y was passed when a 1d array was expected. Please change the shape of y to (n_samples,), for example using ravel().\n",
      "  This is separate from the ipykernel package so we can avoid doing imports until\n",
      "C:\\Users\\jhyun\\Anaconda3\\envs\\MLDL\\lib\\site-packages\\sklearn\\linear_model\\_ridge.py:940: DataConversionWarning: A column-vector y was passed when a 1d array was expected. Please change the shape of y to (n_samples, ), for example using ravel().\n",
      "  y = column_or_1d(y, warn=True)\n",
      "C:\\Users\\jhyun\\Anaconda3\\envs\\MLDL\\lib\\site-packages\\ipykernel_launcher.py:3: DataConversionWarning: A column-vector y was passed when a 1d array was expected. Please change the shape of y to (n_samples, ), for example using ravel().\n",
      "  This is separate from the ipykernel package so we can avoid doing imports until\n"
     ]
    }
   ],
   "source": [
    "results=[]\n",
    "for model in Classifiers:\n",
    "    model=model.fit(X_train,y_train)\n",
    "    predict=model.predict(X_test)\n",
    "    results.append(round(accuracy_score(y_test,predict)*100))\n",
    "#print(\"Model Name: %s \\t\\t\\tAccuracy: %.2f\" % (name, (accuracy_score(y_test, predict) * 100)),\"%\") # 정확도 % 계산"
   ]
  },
  {
   "cell_type": "code",
   "execution_count": 41,
   "metadata": {},
   "outputs": [
    {
     "data": {
      "text/plain": [
       "[100.0, 100.0, 100.0, 100.0, 100.0, 100.0, 100.0, 100.0]"
      ]
     },
     "execution_count": 41,
     "metadata": {},
     "output_type": "execute_result"
    }
   ],
   "source": [
    "results"
   ]
  },
  {
   "cell_type": "code",
   "execution_count": 42,
   "metadata": {},
   "outputs": [
    {
     "data": {
      "text/plain": [
       "<Figure size 864x576 with 0 Axes>"
      ]
     },
     "metadata": {},
     "output_type": "display_data"
    },
    {
     "data": {
      "image/png": "[encoded data removed]",
      "text/plain": [
       "<Figure size 432x288 with 1 Axes>"
      ]
     },
     "metadata": {
      "needs_background": "light"
     },
     "output_type": "display_data"
    }
   ],
   "source": [
    "plt.figure(figsize=(12,8))\n",
    "fig,ax=plt.subplots()\n",
    "barplot=plt.bar(Names,results)\n",
    "for idx,rect in enumerate(barplot):\n",
    "    height = rect.get_height()\n",
    "    ax.text(rect.get_x() + rect.get_width()/2., 1.02*height,\n",
    "            results[idx],\n",
    "            ha='center', va='bottom', rotation=0)\n",
    "plt.title('Accuracy_scores on models')\n",
    "plt.ylim(0,110)\n",
    "plt.ylabel('Accuracy(%)')\n",
    "plt.xticks(Names,rotation=90)\n",
    "plt.show()"
   ]
  }
 ],
 "metadata": {
  "kernelspec": {
   "display_name": "Python 3",
   "language": "python",
   "name": "python3"
  },
  "language_info": {
   "codemirror_mode": {
    "name": "ipython",
    "version": 3
   },
   "file_extension": ".py",
   "mimetype": "text/x-python",
   "name": "python",
   "nbconvert_exporter": "python",
   "pygments_lexer": "ipython3",
   "version": "3.7.7"
  }
 },
 "nbformat": 4,
 "nbformat_minor": 4
}
