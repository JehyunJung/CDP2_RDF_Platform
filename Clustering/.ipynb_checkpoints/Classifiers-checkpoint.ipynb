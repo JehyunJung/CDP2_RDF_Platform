{
 "cells": [
  {
   "cell_type": "code",
   "execution_count": 4,
   "metadata": {
    "scrolled": true
   },
   "outputs": [],
   "source": [
    "from sklearn.metrics import accuracy_score\n",
    "from sklearn.cluster import KMeans\n",
    "from sklearn.model_selection import train_test_split\n",
    "from collections import Counter\n",
    "import pandas as pd\n",
    "import matplotlib.pyplot as plt\n",
    "import datetime\n",
    "import numpy as np"
   ]
  },
  {
   "cell_type": "code",
   "execution_count": 5,
   "metadata": {},
   "outputs": [],
   "source": [
    "from sklearn.tree import DecisionTreeClassifier\n",
    "from sklearn.discriminant_analysis import LinearDiscriminantAnalysis, QuadraticDiscriminantAnalysis\n",
    "from sklearn.naive_bayes import GaussianNB\n",
    "from sklearn.gaussian_process import GaussianProcessClassifier\n",
    "from sklearn.gaussian_process.kernels import RBF\n",
    "from sklearn.ensemble import ExtraTreesClassifier\n",
    "from sklearn.linear_model import RidgeClassifier"
   ]
  },
  {
   "cell_type": "code",
   "execution_count": 6,
   "metadata": {},
   "outputs": [],
   "source": [
    "log_data=pd.read_csv('../Datas/log1.csv',header=None)"
   ]
  },
  {
   "cell_type": "code",
   "execution_count": 7,
   "metadata": {
    "scrolled": false
   },
   "outputs": [
    {
     "data": {
      "text/html": [
       "<div>\n",
       "<style scoped>\n",
       "    .dataframe tbody tr th:only-of-type {\n",
       "        vertical-align: middle;\n",
       "    }\n",
       "\n",
       "    .dataframe tbody tr th {\n",
       "        vertical-align: top;\n",
       "    }\n",
       "\n",
       "    .dataframe thead th {\n",
       "        text-align: right;\n",
       "    }\n",
       "</style>\n",
       "<table border=\"1\" class=\"dataframe\">\n",
       "  <thead>\n",
       "    <tr style=\"text-align: right;\">\n",
       "      <th></th>\n",
       "      <th>0</th>\n",
       "      <th>1</th>\n",
       "      <th>2</th>\n",
       "      <th>3</th>\n",
       "    </tr>\n",
       "  </thead>\n",
       "  <tbody>\n",
       "    <tr>\n",
       "      <th>0</th>\n",
       "      <td>busanmovie5</td>\n",
       "      <td>1591524325900</td>\n",
       "      <td>2445509700</td>\n",
       "      <td>...</td>\n",
       "    </tr>\n",
       "    <tr>\n",
       "      <th>1</th>\n",
       "      <td>busanmovie1</td>\n",
       "      <td>1591524329458</td>\n",
       "      <td>58600800</td>\n",
       "      <td>...</td>\n",
       "    </tr>\n",
       "    <tr>\n",
       "      <th>2</th>\n",
       "      <td>busanmovie6</td>\n",
       "      <td>1591524329683</td>\n",
       "      <td>54576500</td>\n",
       "      <td>...</td>\n",
       "    </tr>\n",
       "    <tr>\n",
       "      <th>3</th>\n",
       "      <td>busanmovie1</td>\n",
       "      <td>1591524329894</td>\n",
       "      <td>47667400</td>\n",
       "      <td>...</td>\n",
       "    </tr>\n",
       "    <tr>\n",
       "      <th>4</th>\n",
       "      <td>tourguide1</td>\n",
       "      <td>1591524330100</td>\n",
       "      <td>53428500</td>\n",
       "      <td>...</td>\n",
       "    </tr>\n",
       "    <tr>\n",
       "      <th>...</th>\n",
       "      <td>...</td>\n",
       "      <td>...</td>\n",
       "      <td>...</td>\n",
       "      <td>...</td>\n",
       "    </tr>\n",
       "    <tr>\n",
       "      <th>2828</th>\n",
       "      <td>nationalparkstatus</td>\n",
       "      <td>1591524811658</td>\n",
       "      <td>28219600</td>\n",
       "      <td>...</td>\n",
       "    </tr>\n",
       "    <tr>\n",
       "      <th>2829</th>\n",
       "      <td>roadkillstatus</td>\n",
       "      <td>1591524811830</td>\n",
       "      <td>28280000</td>\n",
       "      <td>...</td>\n",
       "    </tr>\n",
       "    <tr>\n",
       "      <th>2830</th>\n",
       "      <td>tourguide</td>\n",
       "      <td>1591524811993</td>\n",
       "      <td>49620900</td>\n",
       "      <td>...</td>\n",
       "    </tr>\n",
       "    <tr>\n",
       "      <th>2831</th>\n",
       "      <td>endangeredanimals1</td>\n",
       "      <td>1591524812193</td>\n",
       "      <td>25620100</td>\n",
       "      <td>...</td>\n",
       "    </tr>\n",
       "    <tr>\n",
       "      <th>2832</th>\n",
       "      <td>tourguide1</td>\n",
       "      <td>1591524812371</td>\n",
       "      <td>43877400</td>\n",
       "      <td>...</td>\n",
       "    </tr>\n",
       "  </tbody>\n",
       "</table>\n",
       "<p>2833 rows × 4 columns</p>\n",
       "</div>"
      ],
      "text/plain": [
       "                       0              1           2    3\n",
       "0            busanmovie5  1591524325900  2445509700  ...\n",
       "1            busanmovie1  1591524329458    58600800  ...\n",
       "2            busanmovie6  1591524329683    54576500  ...\n",
       "3            busanmovie1  1591524329894    47667400  ...\n",
       "4             tourguide1  1591524330100    53428500  ...\n",
       "...                  ...            ...         ...  ...\n",
       "2828  nationalparkstatus  1591524811658    28219600  ...\n",
       "2829      roadkillstatus  1591524811830    28280000  ...\n",
       "2830           tourguide  1591524811993    49620900  ...\n",
       "2831  endangeredanimals1  1591524812193    25620100  ...\n",
       "2832          tourguide1  1591524812371    43877400  ...\n",
       "\n",
       "[2833 rows x 4 columns]"
      ]
     },
     "execution_count": 7,
     "metadata": {},
     "output_type": "execute_result"
    }
   ],
   "source": [
    "log_data"
   ]
  },
  {
   "cell_type": "code",
   "execution_count": 8,
   "metadata": {},
   "outputs": [],
   "source": [
    "log_data.columns=['Dataset','Query Time','Execution Time','ManagerId']"
   ]
  },
  {
   "cell_type": "code",
   "execution_count": 9,
   "metadata": {},
   "outputs": [
    {
     "data": {
      "text/plain": [
       "<bound method DataFrame.info of                  Dataset     Query Time  Execution Time ManagerId\n",
       "0            busanmovie5  1591524325900      2445509700       ...\n",
       "1            busanmovie1  1591524329458        58600800       ...\n",
       "2            busanmovie6  1591524329683        54576500       ...\n",
       "3            busanmovie1  1591524329894        47667400       ...\n",
       "4             tourguide1  1591524330100        53428500       ...\n",
       "...                  ...            ...             ...       ...\n",
       "2828  nationalparkstatus  1591524811658        28219600       ...\n",
       "2829      roadkillstatus  1591524811830        28280000       ...\n",
       "2830           tourguide  1591524811993        49620900       ...\n",
       "2831  endangeredanimals1  1591524812193        25620100       ...\n",
       "2832          tourguide1  1591524812371        43877400       ...\n",
       "\n",
       "[2833 rows x 4 columns]>"
      ]
     },
     "execution_count": 9,
     "metadata": {},
     "output_type": "execute_result"
    }
   ],
   "source": [
    "log_data.info"
   ]
  },
  {
   "cell_type": "code",
   "execution_count": 10,
   "metadata": {
    "scrolled": true
   },
   "outputs": [
    {
     "data": {
      "text/html": [
       "<div>\n",
       "<style scoped>\n",
       "    .dataframe tbody tr th:only-of-type {\n",
       "        vertical-align: middle;\n",
       "    }\n",
       "\n",
       "    .dataframe tbody tr th {\n",
       "        vertical-align: top;\n",
       "    }\n",
       "\n",
       "    .dataframe thead th {\n",
       "        text-align: right;\n",
       "    }\n",
       "</style>\n",
       "<table border=\"1\" class=\"dataframe\">\n",
       "  <thead>\n",
       "    <tr style=\"text-align: right;\">\n",
       "      <th></th>\n",
       "      <th>Query Time</th>\n",
       "      <th>Execution Time</th>\n",
       "    </tr>\n",
       "  </thead>\n",
       "  <tbody>\n",
       "    <tr>\n",
       "      <th>count</th>\n",
       "      <td>2.833000e+03</td>\n",
       "      <td>2.833000e+03</td>\n",
       "    </tr>\n",
       "    <tr>\n",
       "      <th>mean</th>\n",
       "      <td>1.591525e+12</td>\n",
       "      <td>3.077180e+07</td>\n",
       "    </tr>\n",
       "    <tr>\n",
       "      <th>std</th>\n",
       "      <td>1.377986e+05</td>\n",
       "      <td>4.820137e+07</td>\n",
       "    </tr>\n",
       "    <tr>\n",
       "      <th>min</th>\n",
       "      <td>1.591524e+12</td>\n",
       "      <td>1.826380e+07</td>\n",
       "    </tr>\n",
       "    <tr>\n",
       "      <th>25%</th>\n",
       "      <td>1.591524e+12</td>\n",
       "      <td>2.528870e+07</td>\n",
       "    </tr>\n",
       "    <tr>\n",
       "      <th>50%</th>\n",
       "      <td>1.591525e+12</td>\n",
       "      <td>2.642720e+07</td>\n",
       "    </tr>\n",
       "    <tr>\n",
       "      <th>75%</th>\n",
       "      <td>1.591525e+12</td>\n",
       "      <td>2.856920e+07</td>\n",
       "    </tr>\n",
       "    <tr>\n",
       "      <th>max</th>\n",
       "      <td>1.591525e+12</td>\n",
       "      <td>2.445510e+09</td>\n",
       "    </tr>\n",
       "  </tbody>\n",
       "</table>\n",
       "</div>"
      ],
      "text/plain": [
       "         Query Time  Execution Time\n",
       "count  2.833000e+03    2.833000e+03\n",
       "mean   1.591525e+12    3.077180e+07\n",
       "std    1.377986e+05    4.820137e+07\n",
       "min    1.591524e+12    1.826380e+07\n",
       "25%    1.591524e+12    2.528870e+07\n",
       "50%    1.591525e+12    2.642720e+07\n",
       "75%    1.591525e+12    2.856920e+07\n",
       "max    1.591525e+12    2.445510e+09"
      ]
     },
     "execution_count": 10,
     "metadata": {},
     "output_type": "execute_result"
    }
   ],
   "source": [
    "log_data.describe()"
   ]
  },
  {
   "cell_type": "code",
   "execution_count": 11,
   "metadata": {},
   "outputs": [],
   "source": [
    "X=log_data[['Dataset','Query Time','Execution Time']]"
   ]
  },
  {
   "cell_type": "code",
   "execution_count": 12,
   "metadata": {
    "scrolled": true
   },
   "outputs": [
    {
     "data": {
      "text/html": [
       "<div>\n",
       "<style scoped>\n",
       "    .dataframe tbody tr th:only-of-type {\n",
       "        vertical-align: middle;\n",
       "    }\n",
       "\n",
       "    .dataframe tbody tr th {\n",
       "        vertical-align: top;\n",
       "    }\n",
       "\n",
       "    .dataframe thead th {\n",
       "        text-align: right;\n",
       "    }\n",
       "</style>\n",
       "<table border=\"1\" class=\"dataframe\">\n",
       "  <thead>\n",
       "    <tr style=\"text-align: right;\">\n",
       "      <th></th>\n",
       "      <th>Dataset</th>\n",
       "      <th>Query Time</th>\n",
       "      <th>Execution Time</th>\n",
       "    </tr>\n",
       "  </thead>\n",
       "  <tbody>\n",
       "    <tr>\n",
       "      <th>0</th>\n",
       "      <td>busanmovie5</td>\n",
       "      <td>1591524325900</td>\n",
       "      <td>2445509700</td>\n",
       "    </tr>\n",
       "    <tr>\n",
       "      <th>1</th>\n",
       "      <td>busanmovie1</td>\n",
       "      <td>1591524329458</td>\n",
       "      <td>58600800</td>\n",
       "    </tr>\n",
       "    <tr>\n",
       "      <th>2</th>\n",
       "      <td>busanmovie6</td>\n",
       "      <td>1591524329683</td>\n",
       "      <td>54576500</td>\n",
       "    </tr>\n",
       "    <tr>\n",
       "      <th>3</th>\n",
       "      <td>busanmovie1</td>\n",
       "      <td>1591524329894</td>\n",
       "      <td>47667400</td>\n",
       "    </tr>\n",
       "    <tr>\n",
       "      <th>4</th>\n",
       "      <td>tourguide1</td>\n",
       "      <td>1591524330100</td>\n",
       "      <td>53428500</td>\n",
       "    </tr>\n",
       "    <tr>\n",
       "      <th>...</th>\n",
       "      <td>...</td>\n",
       "      <td>...</td>\n",
       "      <td>...</td>\n",
       "    </tr>\n",
       "    <tr>\n",
       "      <th>2828</th>\n",
       "      <td>nationalparkstatus</td>\n",
       "      <td>1591524811658</td>\n",
       "      <td>28219600</td>\n",
       "    </tr>\n",
       "    <tr>\n",
       "      <th>2829</th>\n",
       "      <td>roadkillstatus</td>\n",
       "      <td>1591524811830</td>\n",
       "      <td>28280000</td>\n",
       "    </tr>\n",
       "    <tr>\n",
       "      <th>2830</th>\n",
       "      <td>tourguide</td>\n",
       "      <td>1591524811993</td>\n",
       "      <td>49620900</td>\n",
       "    </tr>\n",
       "    <tr>\n",
       "      <th>2831</th>\n",
       "      <td>endangeredanimals1</td>\n",
       "      <td>1591524812193</td>\n",
       "      <td>25620100</td>\n",
       "    </tr>\n",
       "    <tr>\n",
       "      <th>2832</th>\n",
       "      <td>tourguide1</td>\n",
       "      <td>1591524812371</td>\n",
       "      <td>43877400</td>\n",
       "    </tr>\n",
       "  </tbody>\n",
       "</table>\n",
       "<p>2833 rows × 3 columns</p>\n",
       "</div>"
      ],
      "text/plain": [
       "                 Dataset     Query Time  Execution Time\n",
       "0            busanmovie5  1591524325900      2445509700\n",
       "1            busanmovie1  1591524329458        58600800\n",
       "2            busanmovie6  1591524329683        54576500\n",
       "3            busanmovie1  1591524329894        47667400\n",
       "4             tourguide1  1591524330100        53428500\n",
       "...                  ...            ...             ...\n",
       "2828  nationalparkstatus  1591524811658        28219600\n",
       "2829      roadkillstatus  1591524811830        28280000\n",
       "2830           tourguide  1591524811993        49620900\n",
       "2831  endangeredanimals1  1591524812193        25620100\n",
       "2832          tourguide1  1591524812371        43877400\n",
       "\n",
       "[2833 rows x 3 columns]"
      ]
     },
     "execution_count": 12,
     "metadata": {},
     "output_type": "execute_result"
    }
   ],
   "source": [
    "X"
   ]
  },
  {
   "cell_type": "code",
   "execution_count": 13,
   "metadata": {
    "scrolled": true
   },
   "outputs": [
    {
     "data": {
      "text/html": [
       "<div>\n",
       "<style scoped>\n",
       "    .dataframe tbody tr th:only-of-type {\n",
       "        vertical-align: middle;\n",
       "    }\n",
       "\n",
       "    .dataframe tbody tr th {\n",
       "        vertical-align: top;\n",
       "    }\n",
       "\n",
       "    .dataframe thead th {\n",
       "        text-align: right;\n",
       "    }\n",
       "</style>\n",
       "<table border=\"1\" class=\"dataframe\">\n",
       "  <thead>\n",
       "    <tr style=\"text-align: right;\">\n",
       "      <th></th>\n",
       "      <th>Query Time</th>\n",
       "      <th>Execution Time</th>\n",
       "    </tr>\n",
       "  </thead>\n",
       "  <tbody>\n",
       "    <tr>\n",
       "      <th>count</th>\n",
       "      <td>2.833000e+03</td>\n",
       "      <td>2.833000e+03</td>\n",
       "    </tr>\n",
       "    <tr>\n",
       "      <th>mean</th>\n",
       "      <td>1.591525e+12</td>\n",
       "      <td>3.077180e+07</td>\n",
       "    </tr>\n",
       "    <tr>\n",
       "      <th>std</th>\n",
       "      <td>1.377986e+05</td>\n",
       "      <td>4.820137e+07</td>\n",
       "    </tr>\n",
       "    <tr>\n",
       "      <th>min</th>\n",
       "      <td>1.591524e+12</td>\n",
       "      <td>1.826380e+07</td>\n",
       "    </tr>\n",
       "    <tr>\n",
       "      <th>25%</th>\n",
       "      <td>1.591524e+12</td>\n",
       "      <td>2.528870e+07</td>\n",
       "    </tr>\n",
       "    <tr>\n",
       "      <th>50%</th>\n",
       "      <td>1.591525e+12</td>\n",
       "      <td>2.642720e+07</td>\n",
       "    </tr>\n",
       "    <tr>\n",
       "      <th>75%</th>\n",
       "      <td>1.591525e+12</td>\n",
       "      <td>2.856920e+07</td>\n",
       "    </tr>\n",
       "    <tr>\n",
       "      <th>max</th>\n",
       "      <td>1.591525e+12</td>\n",
       "      <td>2.445510e+09</td>\n",
       "    </tr>\n",
       "  </tbody>\n",
       "</table>\n",
       "</div>"
      ],
      "text/plain": [
       "         Query Time  Execution Time\n",
       "count  2.833000e+03    2.833000e+03\n",
       "mean   1.591525e+12    3.077180e+07\n",
       "std    1.377986e+05    4.820137e+07\n",
       "min    1.591524e+12    1.826380e+07\n",
       "25%    1.591524e+12    2.528870e+07\n",
       "50%    1.591525e+12    2.642720e+07\n",
       "75%    1.591525e+12    2.856920e+07\n",
       "max    1.591525e+12    2.445510e+09"
      ]
     },
     "execution_count": 13,
     "metadata": {},
     "output_type": "execute_result"
    }
   ],
   "source": [
    "X.describe()"
   ]
  },
  {
   "cell_type": "code",
   "execution_count": 14,
   "metadata": {
    "scrolled": true
   },
   "outputs": [
    {
     "name": "stderr",
     "output_type": "stream",
     "text": [
      "C:\\Users\\jhyun\\Anaconda3\\envs\\MLDL\\lib\\site-packages\\pandas\\core\\frame.py:2963: SettingWithCopyWarning: \n",
      "A value is trying to be set on a copy of a slice from a DataFrame.\n",
      "Try using .loc[row_indexer,col_indexer] = value instead\n",
      "\n",
      "See the caveats in the documentation: https://pandas.pydata.org/pandas-docs/stable/user_guide/indexing.html#returning-a-view-versus-a-copy\n",
      "  self[k1] = value[k2]\n"
     ]
    }
   ],
   "source": [
    "execute_mean=X[['Execution Time']].mean()\n",
    "execute_std=X[['Execution Time']].std()\n",
    "X[['Execution Time']]=(X[['Execution Time']]-execute_mean)/execute_std * 10"
   ]
  },
  {
   "cell_type": "code",
   "execution_count": 15,
   "metadata": {
    "scrolled": true
   },
   "outputs": [],
   "source": [
    "query_min=X[['Query Time']].min()\n",
    "X[['Query Time']]=(X[['Query Time']]-query_min)"
   ]
  },
  {
   "cell_type": "code",
   "execution_count": 16,
   "metadata": {},
   "outputs": [],
   "source": [
    "outliar_removed_index=X[X[['Execution Time']]<2]['Execution Time'].dropna().index\n",
    "X=X.iloc[outliar_removed_index]"
   ]
  },
  {
   "cell_type": "code",
   "execution_count": 17,
   "metadata": {
    "scrolled": false
   },
   "outputs": [],
   "source": [
    "Dataset_Query=X.groupby('Dataset')['Query Time'].sum().to_frame().reset_index()"
   ]
  },
  {
   "cell_type": "code",
   "execution_count": 18,
   "metadata": {
    "scrolled": true
   },
   "outputs": [],
   "source": [
    "Dataset_Execution=X.groupby('Dataset')['Execution Time'].mean().to_frame().reset_index()"
   ]
  },
  {
   "cell_type": "code",
   "execution_count": 19,
   "metadata": {},
   "outputs": [],
   "source": [
    "Dataset_Query_Frequency=X.groupby('Dataset')['Query Time'].count().to_frame().reset_index()\n",
    "Dataset_Query_Frequency.rename(columns = {'Query Time' : 'Query Count'}, inplace = True)"
   ]
  },
  {
   "cell_type": "code",
   "execution_count": 20,
   "metadata": {},
   "outputs": [],
   "source": [
    "X=pd.merge(Dataset_Query,Dataset_Execution,on='Dataset')\n",
    "X=pd.merge(X,Dataset_Query_Frequency,on='Dataset')"
   ]
  },
  {
   "cell_type": "code",
   "execution_count": 21,
   "metadata": {},
   "outputs": [],
   "source": [
    "count_mean=X[['Query Count']].mean()\n",
    "count_std=X[['Query Count']].std()\n",
    "X[['Query Count']]=(X[['Query Count']]-count_mean)/count_std"
   ]
  },
  {
   "cell_type": "code",
   "execution_count": 22,
   "metadata": {},
   "outputs": [],
   "source": [
    "query_mean=X[['Query Time']].mean()\n",
    "query_std=X[['Query Time']].std()\n",
    "X[['Query Time']]=(X[['Query Time']]-query_mean) / query_std"
   ]
  },
  {
   "cell_type": "code",
   "execution_count": 23,
   "metadata": {
    "scrolled": false
   },
   "outputs": [
    {
     "data": {
      "text/html": [
       "<div>\n",
       "<style scoped>\n",
       "    .dataframe tbody tr th:only-of-type {\n",
       "        vertical-align: middle;\n",
       "    }\n",
       "\n",
       "    .dataframe tbody tr th {\n",
       "        vertical-align: top;\n",
       "    }\n",
       "\n",
       "    .dataframe thead th {\n",
       "        text-align: right;\n",
       "    }\n",
       "</style>\n",
       "<table border=\"1\" class=\"dataframe\">\n",
       "  <thead>\n",
       "    <tr style=\"text-align: right;\">\n",
       "      <th></th>\n",
       "      <th>Dataset</th>\n",
       "      <th>Query Time</th>\n",
       "      <th>Execution Time</th>\n",
       "      <th>Query Count</th>\n",
       "    </tr>\n",
       "  </thead>\n",
       "  <tbody>\n",
       "    <tr>\n",
       "      <th>0</th>\n",
       "      <td>busanmovie1</td>\n",
       "      <td>0.674722</td>\n",
       "      <td>-0.857548</td>\n",
       "      <td>0.847707</td>\n",
       "    </tr>\n",
       "    <tr>\n",
       "      <th>1</th>\n",
       "      <td>busanmovie2</td>\n",
       "      <td>-1.065483</td>\n",
       "      <td>-0.739944</td>\n",
       "      <td>-0.512810</td>\n",
       "    </tr>\n",
       "    <tr>\n",
       "      <th>2</th>\n",
       "      <td>busanmovie3</td>\n",
       "      <td>-1.728874</td>\n",
       "      <td>-0.825591</td>\n",
       "      <td>-1.510523</td>\n",
       "    </tr>\n",
       "    <tr>\n",
       "      <th>3</th>\n",
       "      <td>busanmovie4</td>\n",
       "      <td>-1.196107</td>\n",
       "      <td>-0.604405</td>\n",
       "      <td>-1.057018</td>\n",
       "    </tr>\n",
       "    <tr>\n",
       "      <th>4</th>\n",
       "      <td>busanmovie5</td>\n",
       "      <td>-0.209938</td>\n",
       "      <td>-0.825927</td>\n",
       "      <td>-0.059305</td>\n",
       "    </tr>\n",
       "    <tr>\n",
       "      <th>5</th>\n",
       "      <td>busanmovie6</td>\n",
       "      <td>0.051797</td>\n",
       "      <td>-0.796543</td>\n",
       "      <td>-0.195356</td>\n",
       "    </tr>\n",
       "    <tr>\n",
       "      <th>6</th>\n",
       "      <td>endangeredanimals</td>\n",
       "      <td>-0.901212</td>\n",
       "      <td>-1.012544</td>\n",
       "      <td>-1.102368</td>\n",
       "    </tr>\n",
       "    <tr>\n",
       "      <th>7</th>\n",
       "      <td>endangeredanimals1</td>\n",
       "      <td>-0.433569</td>\n",
       "      <td>-0.917315</td>\n",
       "      <td>-0.059305</td>\n",
       "    </tr>\n",
       "    <tr>\n",
       "      <th>8</th>\n",
       "      <td>koreanhistory</td>\n",
       "      <td>1.408911</td>\n",
       "      <td>-0.286632</td>\n",
       "      <td>1.527966</td>\n",
       "    </tr>\n",
       "    <tr>\n",
       "      <th>9</th>\n",
       "      <td>koreanhistory1</td>\n",
       "      <td>-0.368807</td>\n",
       "      <td>-0.177881</td>\n",
       "      <td>-0.512810</td>\n",
       "    </tr>\n",
       "    <tr>\n",
       "      <th>10</th>\n",
       "      <td>nationalparkstatus</td>\n",
       "      <td>-0.115666</td>\n",
       "      <td>-0.738209</td>\n",
       "      <td>-0.467460</td>\n",
       "    </tr>\n",
       "    <tr>\n",
       "      <th>11</th>\n",
       "      <td>nationalparkstatus1</td>\n",
       "      <td>0.287335</td>\n",
       "      <td>-0.821214</td>\n",
       "      <td>0.212799</td>\n",
       "    </tr>\n",
       "    <tr>\n",
       "      <th>12</th>\n",
       "      <td>research1</td>\n",
       "      <td>0.769902</td>\n",
       "      <td>-0.966290</td>\n",
       "      <td>0.893058</td>\n",
       "    </tr>\n",
       "    <tr>\n",
       "      <th>13</th>\n",
       "      <td>research10</td>\n",
       "      <td>2.686636</td>\n",
       "      <td>-1.032205</td>\n",
       "      <td>2.979185</td>\n",
       "    </tr>\n",
       "    <tr>\n",
       "      <th>14</th>\n",
       "      <td>research2</td>\n",
       "      <td>0.199212</td>\n",
       "      <td>-0.991253</td>\n",
       "      <td>-0.059305</td>\n",
       "    </tr>\n",
       "    <tr>\n",
       "      <th>15</th>\n",
       "      <td>research3</td>\n",
       "      <td>-0.393258</td>\n",
       "      <td>-0.984140</td>\n",
       "      <td>-0.059305</td>\n",
       "    </tr>\n",
       "    <tr>\n",
       "      <th>16</th>\n",
       "      <td>research4</td>\n",
       "      <td>-0.057089</td>\n",
       "      <td>-1.031587</td>\n",
       "      <td>-0.104655</td>\n",
       "    </tr>\n",
       "    <tr>\n",
       "      <th>17</th>\n",
       "      <td>research5</td>\n",
       "      <td>0.811845</td>\n",
       "      <td>-1.015071</td>\n",
       "      <td>0.575604</td>\n",
       "    </tr>\n",
       "    <tr>\n",
       "      <th>18</th>\n",
       "      <td>research6</td>\n",
       "      <td>-0.055144</td>\n",
       "      <td>-0.970162</td>\n",
       "      <td>-0.376759</td>\n",
       "    </tr>\n",
       "    <tr>\n",
       "      <th>19</th>\n",
       "      <td>research7</td>\n",
       "      <td>0.219646</td>\n",
       "      <td>-0.999672</td>\n",
       "      <td>0.031397</td>\n",
       "    </tr>\n",
       "    <tr>\n",
       "      <th>20</th>\n",
       "      <td>research8</td>\n",
       "      <td>1.772774</td>\n",
       "      <td>-1.060098</td>\n",
       "      <td>1.709368</td>\n",
       "    </tr>\n",
       "    <tr>\n",
       "      <th>21</th>\n",
       "      <td>research9</td>\n",
       "      <td>0.146013</td>\n",
       "      <td>-1.058873</td>\n",
       "      <td>-0.013954</td>\n",
       "    </tr>\n",
       "    <tr>\n",
       "      <th>22</th>\n",
       "      <td>roadkillstatus</td>\n",
       "      <td>-1.057955</td>\n",
       "      <td>-0.667226</td>\n",
       "      <td>-1.057018</td>\n",
       "    </tr>\n",
       "    <tr>\n",
       "      <th>23</th>\n",
       "      <td>roadkillstatus1</td>\n",
       "      <td>0.086057</td>\n",
       "      <td>-0.617147</td>\n",
       "      <td>-0.013954</td>\n",
       "    </tr>\n",
       "    <tr>\n",
       "      <th>24</th>\n",
       "      <td>tourguide</td>\n",
       "      <td>-1.644317</td>\n",
       "      <td>-0.305742</td>\n",
       "      <td>-1.510523</td>\n",
       "    </tr>\n",
       "    <tr>\n",
       "      <th>25</th>\n",
       "      <td>tourguide1</td>\n",
       "      <td>0.112570</td>\n",
       "      <td>-0.262501</td>\n",
       "      <td>-0.104655</td>\n",
       "    </tr>\n",
       "  </tbody>\n",
       "</table>\n",
       "</div>"
      ],
      "text/plain": [
       "                Dataset  Query Time  Execution Time  Query Count\n",
       "0           busanmovie1    0.674722       -0.857548     0.847707\n",
       "1           busanmovie2   -1.065483       -0.739944    -0.512810\n",
       "2           busanmovie3   -1.728874       -0.825591    -1.510523\n",
       "3           busanmovie4   -1.196107       -0.604405    -1.057018\n",
       "4           busanmovie5   -0.209938       -0.825927    -0.059305\n",
       "5           busanmovie6    0.051797       -0.796543    -0.195356\n",
       "6     endangeredanimals   -0.901212       -1.012544    -1.102368\n",
       "7    endangeredanimals1   -0.433569       -0.917315    -0.059305\n",
       "8         koreanhistory    1.408911       -0.286632     1.527966\n",
       "9        koreanhistory1   -0.368807       -0.177881    -0.512810\n",
       "10   nationalparkstatus   -0.115666       -0.738209    -0.467460\n",
       "11  nationalparkstatus1    0.287335       -0.821214     0.212799\n",
       "12            research1    0.769902       -0.966290     0.893058\n",
       "13           research10    2.686636       -1.032205     2.979185\n",
       "14            research2    0.199212       -0.991253    -0.059305\n",
       "15            research3   -0.393258       -0.984140    -0.059305\n",
       "16            research4   -0.057089       -1.031587    -0.104655\n",
       "17            research5    0.811845       -1.015071     0.575604\n",
       "18            research6   -0.055144       -0.970162    -0.376759\n",
       "19            research7    0.219646       -0.999672     0.031397\n",
       "20            research8    1.772774       -1.060098     1.709368\n",
       "21            research9    0.146013       -1.058873    -0.013954\n",
       "22       roadkillstatus   -1.057955       -0.667226    -1.057018\n",
       "23      roadkillstatus1    0.086057       -0.617147    -0.013954\n",
       "24            tourguide   -1.644317       -0.305742    -1.510523\n",
       "25           tourguide1    0.112570       -0.262501    -0.104655"
      ]
     },
     "execution_count": 23,
     "metadata": {},
     "output_type": "execute_result"
    }
   ],
   "source": [
    "X"
   ]
  },
  {
   "cell_type": "code",
   "execution_count": 24,
   "metadata": {},
   "outputs": [],
   "source": [
    "query_hot=set(X[X['Query Time']>X['Query Time'].mean()].index)"
   ]
  },
  {
   "cell_type": "code",
   "execution_count": 25,
   "metadata": {},
   "outputs": [],
   "source": [
    "execution_hot=set(X[X['Execution Time']>X['Execution Time'].mean()].index)"
   ]
  },
  {
   "cell_type": "code",
   "execution_count": 26,
   "metadata": {},
   "outputs": [],
   "source": [
    "count_hot=set(X[X['Query Count']>X['Query Count'].mean()].index)"
   ]
  },
  {
   "cell_type": "code",
   "execution_count": 27,
   "metadata": {
    "scrolled": true
   },
   "outputs": [
    {
     "name": "stdout",
     "output_type": "stream",
     "text": [
      "{0, 5, 8, 11, 12, 13, 14, 17, 19, 20, 21, 23, 25}\n",
      "{1, 3, 8, 9, 10, 22, 23, 24, 25}\n",
      "{0, 8, 11, 12, 13, 17, 19, 20}\n"
     ]
    }
   ],
   "source": [
    "print(query_hot)\n",
    "print(execution_hot)\n",
    "print(count_hot)"
   ]
  },
  {
   "cell_type": "code",
   "execution_count": 28,
   "metadata": {},
   "outputs": [],
   "source": [
    "Hot_Dataset_Counts=round(len(X)*0.3)"
   ]
  },
  {
   "cell_type": "code",
   "execution_count": 29,
   "metadata": {},
   "outputs": [
    {
     "name": "stdout",
     "output_type": "stream",
     "text": [
      "[0, 8, 11, 12, 13, 17, 19, 20, 8, 8, 25, 23]\n"
     ]
    }
   ],
   "source": [
    "hot_index=[]\n",
    "\n",
    "# Query Time and Execution Time and Query Count\n",
    "intersect=query_hot.intersection(execution_hot).intersection(count_hot)\n",
    "hot_index=[data for data in intersect]\n",
    "\n",
    "intersects=[]\n",
    "#Query Time and Query Count\n",
    "intersects.extend(query_hot.intersection(count_hot))\n",
    "#Execution Time and Query Count\n",
    "intersects.extend(execution_hot.intersection(count_hot))\n",
    "#Query Time and Execution Time\n",
    "intersects.extend(query_hot.intersection(execution_hot))\n",
    "print(intersects)\n",
    "while len(hot_index) < Hot_Dataset_Counts:\n",
    "    data=intersects.pop(0)\n",
    "    if data in hot_index:\n",
    "        continue\n",
    "    hot_index.append(data)"
   ]
  },
  {
   "cell_type": "code",
   "execution_count": 30,
   "metadata": {},
   "outputs": [
    {
     "data": {
      "text/plain": [
       "[8, 0, 11, 12, 13, 17, 19, 20]"
      ]
     },
     "execution_count": 30,
     "metadata": {},
     "output_type": "execute_result"
    }
   ],
   "source": [
    "hot_index"
   ]
  },
  {
   "cell_type": "code",
   "execution_count": 31,
   "metadata": {},
   "outputs": [],
   "source": [
    "Y=pd.DataFrame(np.zeros(26))"
   ]
  },
  {
   "cell_type": "code",
   "execution_count": 32,
   "metadata": {},
   "outputs": [],
   "source": [
    "hots=list(hot_index)"
   ]
  },
  {
   "cell_type": "code",
   "execution_count": 33,
   "metadata": {},
   "outputs": [],
   "source": [
    "Y.loc[hots]=1.0"
   ]
  },
  {
   "cell_type": "code",
   "execution_count": 34,
   "metadata": {
    "scrolled": true
   },
   "outputs": [
    {
     "data": {
      "text/html": [
       "<div>\n",
       "<style scoped>\n",
       "    .dataframe tbody tr th:only-of-type {\n",
       "        vertical-align: middle;\n",
       "    }\n",
       "\n",
       "    .dataframe tbody tr th {\n",
       "        vertical-align: top;\n",
       "    }\n",
       "\n",
       "    .dataframe thead th {\n",
       "        text-align: right;\n",
       "    }\n",
       "</style>\n",
       "<table border=\"1\" class=\"dataframe\">\n",
       "  <thead>\n",
       "    <tr style=\"text-align: right;\">\n",
       "      <th></th>\n",
       "      <th>0</th>\n",
       "    </tr>\n",
       "  </thead>\n",
       "  <tbody>\n",
       "    <tr>\n",
       "      <th>0</th>\n",
       "      <td>1.0</td>\n",
       "    </tr>\n",
       "    <tr>\n",
       "      <th>1</th>\n",
       "      <td>0.0</td>\n",
       "    </tr>\n",
       "    <tr>\n",
       "      <th>2</th>\n",
       "      <td>0.0</td>\n",
       "    </tr>\n",
       "    <tr>\n",
       "      <th>3</th>\n",
       "      <td>0.0</td>\n",
       "    </tr>\n",
       "    <tr>\n",
       "      <th>4</th>\n",
       "      <td>0.0</td>\n",
       "    </tr>\n",
       "    <tr>\n",
       "      <th>5</th>\n",
       "      <td>0.0</td>\n",
       "    </tr>\n",
       "    <tr>\n",
       "      <th>6</th>\n",
       "      <td>0.0</td>\n",
       "    </tr>\n",
       "    <tr>\n",
       "      <th>7</th>\n",
       "      <td>0.0</td>\n",
       "    </tr>\n",
       "    <tr>\n",
       "      <th>8</th>\n",
       "      <td>1.0</td>\n",
       "    </tr>\n",
       "    <tr>\n",
       "      <th>9</th>\n",
       "      <td>0.0</td>\n",
       "    </tr>\n",
       "    <tr>\n",
       "      <th>10</th>\n",
       "      <td>0.0</td>\n",
       "    </tr>\n",
       "    <tr>\n",
       "      <th>11</th>\n",
       "      <td>1.0</td>\n",
       "    </tr>\n",
       "    <tr>\n",
       "      <th>12</th>\n",
       "      <td>1.0</td>\n",
       "    </tr>\n",
       "    <tr>\n",
       "      <th>13</th>\n",
       "      <td>1.0</td>\n",
       "    </tr>\n",
       "    <tr>\n",
       "      <th>14</th>\n",
       "      <td>0.0</td>\n",
       "    </tr>\n",
       "    <tr>\n",
       "      <th>15</th>\n",
       "      <td>0.0</td>\n",
       "    </tr>\n",
       "    <tr>\n",
       "      <th>16</th>\n",
       "      <td>0.0</td>\n",
       "    </tr>\n",
       "    <tr>\n",
       "      <th>17</th>\n",
       "      <td>1.0</td>\n",
       "    </tr>\n",
       "    <tr>\n",
       "      <th>18</th>\n",
       "      <td>0.0</td>\n",
       "    </tr>\n",
       "    <tr>\n",
       "      <th>19</th>\n",
       "      <td>1.0</td>\n",
       "    </tr>\n",
       "    <tr>\n",
       "      <th>20</th>\n",
       "      <td>1.0</td>\n",
       "    </tr>\n",
       "    <tr>\n",
       "      <th>21</th>\n",
       "      <td>0.0</td>\n",
       "    </tr>\n",
       "    <tr>\n",
       "      <th>22</th>\n",
       "      <td>0.0</td>\n",
       "    </tr>\n",
       "    <tr>\n",
       "      <th>23</th>\n",
       "      <td>0.0</td>\n",
       "    </tr>\n",
       "    <tr>\n",
       "      <th>24</th>\n",
       "      <td>0.0</td>\n",
       "    </tr>\n",
       "    <tr>\n",
       "      <th>25</th>\n",
       "      <td>0.0</td>\n",
       "    </tr>\n",
       "  </tbody>\n",
       "</table>\n",
       "</div>"
      ],
      "text/plain": [
       "      0\n",
       "0   1.0\n",
       "1   0.0\n",
       "2   0.0\n",
       "3   0.0\n",
       "4   0.0\n",
       "5   0.0\n",
       "6   0.0\n",
       "7   0.0\n",
       "8   1.0\n",
       "9   0.0\n",
       "10  0.0\n",
       "11  1.0\n",
       "12  1.0\n",
       "13  1.0\n",
       "14  0.0\n",
       "15  0.0\n",
       "16  0.0\n",
       "17  1.0\n",
       "18  0.0\n",
       "19  1.0\n",
       "20  1.0\n",
       "21  0.0\n",
       "22  0.0\n",
       "23  0.0\n",
       "24  0.0\n",
       "25  0.0"
      ]
     },
     "execution_count": 34,
     "metadata": {},
     "output_type": "execute_result"
    }
   ],
   "source": [
    "Y"
   ]
  },
  {
   "cell_type": "code",
   "execution_count": 35,
   "metadata": {},
   "outputs": [],
   "source": [
    "X=X[[\"Query Time\",\"Execution Time\",\"Query Count\"]]"
   ]
  },
  {
   "cell_type": "code",
   "execution_count": 36,
   "metadata": {
    "scrolled": false
   },
   "outputs": [
    {
     "data": {
      "text/html": [
       "<div>\n",
       "<style scoped>\n",
       "    .dataframe tbody tr th:only-of-type {\n",
       "        vertical-align: middle;\n",
       "    }\n",
       "\n",
       "    .dataframe tbody tr th {\n",
       "        vertical-align: top;\n",
       "    }\n",
       "\n",
       "    .dataframe thead th {\n",
       "        text-align: right;\n",
       "    }\n",
       "</style>\n",
       "<table border=\"1\" class=\"dataframe\">\n",
       "  <thead>\n",
       "    <tr style=\"text-align: right;\">\n",
       "      <th></th>\n",
       "      <th>Query Time</th>\n",
       "      <th>Execution Time</th>\n",
       "      <th>Query Count</th>\n",
       "    </tr>\n",
       "  </thead>\n",
       "  <tbody>\n",
       "    <tr>\n",
       "      <th>0</th>\n",
       "      <td>0.674722</td>\n",
       "      <td>-0.857548</td>\n",
       "      <td>0.847707</td>\n",
       "    </tr>\n",
       "    <tr>\n",
       "      <th>1</th>\n",
       "      <td>-1.065483</td>\n",
       "      <td>-0.739944</td>\n",
       "      <td>-0.512810</td>\n",
       "    </tr>\n",
       "    <tr>\n",
       "      <th>2</th>\n",
       "      <td>-1.728874</td>\n",
       "      <td>-0.825591</td>\n",
       "      <td>-1.510523</td>\n",
       "    </tr>\n",
       "    <tr>\n",
       "      <th>3</th>\n",
       "      <td>-1.196107</td>\n",
       "      <td>-0.604405</td>\n",
       "      <td>-1.057018</td>\n",
       "    </tr>\n",
       "    <tr>\n",
       "      <th>4</th>\n",
       "      <td>-0.209938</td>\n",
       "      <td>-0.825927</td>\n",
       "      <td>-0.059305</td>\n",
       "    </tr>\n",
       "    <tr>\n",
       "      <th>5</th>\n",
       "      <td>0.051797</td>\n",
       "      <td>-0.796543</td>\n",
       "      <td>-0.195356</td>\n",
       "    </tr>\n",
       "    <tr>\n",
       "      <th>6</th>\n",
       "      <td>-0.901212</td>\n",
       "      <td>-1.012544</td>\n",
       "      <td>-1.102368</td>\n",
       "    </tr>\n",
       "    <tr>\n",
       "      <th>7</th>\n",
       "      <td>-0.433569</td>\n",
       "      <td>-0.917315</td>\n",
       "      <td>-0.059305</td>\n",
       "    </tr>\n",
       "    <tr>\n",
       "      <th>8</th>\n",
       "      <td>1.408911</td>\n",
       "      <td>-0.286632</td>\n",
       "      <td>1.527966</td>\n",
       "    </tr>\n",
       "    <tr>\n",
       "      <th>9</th>\n",
       "      <td>-0.368807</td>\n",
       "      <td>-0.177881</td>\n",
       "      <td>-0.512810</td>\n",
       "    </tr>\n",
       "    <tr>\n",
       "      <th>10</th>\n",
       "      <td>-0.115666</td>\n",
       "      <td>-0.738209</td>\n",
       "      <td>-0.467460</td>\n",
       "    </tr>\n",
       "    <tr>\n",
       "      <th>11</th>\n",
       "      <td>0.287335</td>\n",
       "      <td>-0.821214</td>\n",
       "      <td>0.212799</td>\n",
       "    </tr>\n",
       "    <tr>\n",
       "      <th>12</th>\n",
       "      <td>0.769902</td>\n",
       "      <td>-0.966290</td>\n",
       "      <td>0.893058</td>\n",
       "    </tr>\n",
       "    <tr>\n",
       "      <th>13</th>\n",
       "      <td>2.686636</td>\n",
       "      <td>-1.032205</td>\n",
       "      <td>2.979185</td>\n",
       "    </tr>\n",
       "    <tr>\n",
       "      <th>14</th>\n",
       "      <td>0.199212</td>\n",
       "      <td>-0.991253</td>\n",
       "      <td>-0.059305</td>\n",
       "    </tr>\n",
       "    <tr>\n",
       "      <th>15</th>\n",
       "      <td>-0.393258</td>\n",
       "      <td>-0.984140</td>\n",
       "      <td>-0.059305</td>\n",
       "    </tr>\n",
       "    <tr>\n",
       "      <th>16</th>\n",
       "      <td>-0.057089</td>\n",
       "      <td>-1.031587</td>\n",
       "      <td>-0.104655</td>\n",
       "    </tr>\n",
       "    <tr>\n",
       "      <th>17</th>\n",
       "      <td>0.811845</td>\n",
       "      <td>-1.015071</td>\n",
       "      <td>0.575604</td>\n",
       "    </tr>\n",
       "    <tr>\n",
       "      <th>18</th>\n",
       "      <td>-0.055144</td>\n",
       "      <td>-0.970162</td>\n",
       "      <td>-0.376759</td>\n",
       "    </tr>\n",
       "    <tr>\n",
       "      <th>19</th>\n",
       "      <td>0.219646</td>\n",
       "      <td>-0.999672</td>\n",
       "      <td>0.031397</td>\n",
       "    </tr>\n",
       "    <tr>\n",
       "      <th>20</th>\n",
       "      <td>1.772774</td>\n",
       "      <td>-1.060098</td>\n",
       "      <td>1.709368</td>\n",
       "    </tr>\n",
       "    <tr>\n",
       "      <th>21</th>\n",
       "      <td>0.146013</td>\n",
       "      <td>-1.058873</td>\n",
       "      <td>-0.013954</td>\n",
       "    </tr>\n",
       "    <tr>\n",
       "      <th>22</th>\n",
       "      <td>-1.057955</td>\n",
       "      <td>-0.667226</td>\n",
       "      <td>-1.057018</td>\n",
       "    </tr>\n",
       "    <tr>\n",
       "      <th>23</th>\n",
       "      <td>0.086057</td>\n",
       "      <td>-0.617147</td>\n",
       "      <td>-0.013954</td>\n",
       "    </tr>\n",
       "    <tr>\n",
       "      <th>24</th>\n",
       "      <td>-1.644317</td>\n",
       "      <td>-0.305742</td>\n",
       "      <td>-1.510523</td>\n",
       "    </tr>\n",
       "    <tr>\n",
       "      <th>25</th>\n",
       "      <td>0.112570</td>\n",
       "      <td>-0.262501</td>\n",
       "      <td>-0.104655</td>\n",
       "    </tr>\n",
       "  </tbody>\n",
       "</table>\n",
       "</div>"
      ],
      "text/plain": [
       "    Query Time  Execution Time  Query Count\n",
       "0     0.674722       -0.857548     0.847707\n",
       "1    -1.065483       -0.739944    -0.512810\n",
       "2    -1.728874       -0.825591    -1.510523\n",
       "3    -1.196107       -0.604405    -1.057018\n",
       "4    -0.209938       -0.825927    -0.059305\n",
       "5     0.051797       -0.796543    -0.195356\n",
       "6    -0.901212       -1.012544    -1.102368\n",
       "7    -0.433569       -0.917315    -0.059305\n",
       "8     1.408911       -0.286632     1.527966\n",
       "9    -0.368807       -0.177881    -0.512810\n",
       "10   -0.115666       -0.738209    -0.467460\n",
       "11    0.287335       -0.821214     0.212799\n",
       "12    0.769902       -0.966290     0.893058\n",
       "13    2.686636       -1.032205     2.979185\n",
       "14    0.199212       -0.991253    -0.059305\n",
       "15   -0.393258       -0.984140    -0.059305\n",
       "16   -0.057089       -1.031587    -0.104655\n",
       "17    0.811845       -1.015071     0.575604\n",
       "18   -0.055144       -0.970162    -0.376759\n",
       "19    0.219646       -0.999672     0.031397\n",
       "20    1.772774       -1.060098     1.709368\n",
       "21    0.146013       -1.058873    -0.013954\n",
       "22   -1.057955       -0.667226    -1.057018\n",
       "23    0.086057       -0.617147    -0.013954\n",
       "24   -1.644317       -0.305742    -1.510523\n",
       "25    0.112570       -0.262501    -0.104655"
      ]
     },
     "execution_count": 36,
     "metadata": {},
     "output_type": "execute_result"
    }
   ],
   "source": [
    "X"
   ]
  },
  {
   "cell_type": "code",
   "execution_count": 38,
   "metadata": {},
   "outputs": [],
   "source": [
    "X_train, X_test, y_train, y_test = train_test_split(X, Y, test_size=0.33, random_state=42)"
   ]
  },
  {
   "cell_type": "code",
   "execution_count": 39,
   "metadata": {},
   "outputs": [],
   "source": [
    "Names=[\"Decision Tree\",\n",
    "       \"Linear Discriminant Analysis\",\n",
    "       \"Quadratic Discriminant Analysis\",\n",
    "       \"Gaussian NB\",\n",
    "       \"Gaussian ProcessClassifier\",\n",
    "       \"ExtraTreeClassifier\",\n",
    "       \"RidgeClassifier\"]"
   ]
  },
  {
   "cell_type": "code",
   "execution_count": 40,
   "metadata": {},
   "outputs": [],
   "source": [
    "Classifiers=[\n",
    "    DecisionTreeClassifier(),\n",
    "    LinearDiscriminantAnalysis(),\n",
    "    QuadraticDiscriminantAnalysis(),\n",
    "    GaussianNB(),\n",
    "    GaussianProcessClassifier(kernel=1.0*RBF(1.0)),\n",
    "    ExtraTreesClassifier(),\n",
    "    RidgeClassifier()\n",
    "]"
   ]
  },
  {
   "cell_type": "code",
   "execution_count": 82,
   "metadata": {
    "scrolled": true
   },
   "outputs": [
    {
     "name": "stderr",
     "output_type": "stream",
     "text": [
      "C:\\Users\\jhyun\\Anaconda3\\envs\\MLDL\\lib\\site-packages\\sklearn\\utils\\validation.py:760: DataConversionWarning: A column-vector y was passed when a 1d array was expected. Please change the shape of y to (n_samples, ), for example using ravel().\n",
      "  y = column_or_1d(y, warn=True)\n",
      "C:\\Users\\jhyun\\Anaconda3\\envs\\MLDL\\lib\\site-packages\\sklearn\\utils\\validation.py:760: DataConversionWarning: A column-vector y was passed when a 1d array was expected. Please change the shape of y to (n_samples, ), for example using ravel().\n",
      "  y = column_or_1d(y, warn=True)\n",
      "C:\\Users\\jhyun\\Anaconda3\\envs\\MLDL\\lib\\site-packages\\sklearn\\naive_bayes.py:206: DataConversionWarning: A column-vector y was passed when a 1d array was expected. Please change the shape of y to (n_samples, ), for example using ravel().\n",
      "  y = column_or_1d(y, warn=True)\n",
      "C:\\Users\\jhyun\\Anaconda3\\envs\\MLDL\\lib\\site-packages\\sklearn\\utils\\validation.py:760: DataConversionWarning: A column-vector y was passed when a 1d array was expected. Please change the shape of y to (n_samples, ), for example using ravel().\n",
      "  y = column_or_1d(y, warn=True)\n",
      "C:\\Users\\jhyun\\Anaconda3\\envs\\MLDL\\lib\\site-packages\\ipykernel_launcher.py:3: DataConversionWarning: A column-vector y was passed when a 1d array was expected. Please change the shape of y to (n_samples,), for example using ravel().\n",
      "  This is separate from the ipykernel package so we can avoid doing imports until\n",
      "C:\\Users\\jhyun\\Anaconda3\\envs\\MLDL\\lib\\site-packages\\sklearn\\linear_model\\_ridge.py:940: DataConversionWarning: A column-vector y was passed when a 1d array was expected. Please change the shape of y to (n_samples, ), for example using ravel().\n",
      "  y = column_or_1d(y, warn=True)\n"
     ]
    }
   ],
   "source": [
    "results=[]\n",
    "for model in Classifiers:\n",
    "    model=model.fit(X_train,y_train)\n",
    "    predict=model.predict(X_test)\n",
    "    results.append(round(accuracy_score(y_test,predict)*100))\n",
    "#print(\"Model Name: %s \\t\\t\\tAccuracy: %.2f\" % (name, (accuracy_score(y_test, predict) * 100)),\"%\") # 정확도 % 계산"
   ]
  },
  {
   "cell_type": "code",
   "execution_count": 83,
   "metadata": {},
   "outputs": [
    {
     "data": {
      "text/plain": [
       "[100.0, 89.0, 67.0, 67.0, 100.0, 89.0, 89.0]"
      ]
     },
     "execution_count": 83,
     "metadata": {},
     "output_type": "execute_result"
    }
   ],
   "source": [
    "results"
   ]
  },
  {
   "cell_type": "code",
   "execution_count": 88,
   "metadata": {},
   "outputs": [
    {
     "data": {
      "text/plain": [
       "<Figure size 864x576 with 0 Axes>"
      ]
     },
     "metadata": {},
     "output_type": "display_data"
    },
    {
     "data": {
      "image/png": "[encoded data removed]",
      "text/plain": [
       "<Figure size 432x288 with 1 Axes>"
      ]
     },
     "metadata": {
      "needs_background": "light"
     },
     "output_type": "display_data"
    }
   ],
   "source": [
    "plt.figure(figsize=(12,8))\n",
    "fig,ax=plt.subplots()\n",
    "barplot=plt.bar(Names,results)\n",
    "for idx,rect in enumerate(barplot):\n",
    "    height = rect.get_height()\n",
    "    ax.text(rect.get_x() + rect.get_width()/2., 1.02*height,\n",
    "            results[idx],\n",
    "            ha='center', va='bottom', rotation=0)\n",
    "plt.title('Accuracy_scores on models')\n",
    "plt.ylim(0,110)\n",
    "plt.ylabel('Accuracy(%)')\n",
    "plt.xticks(Names,rotation=90)\n",
    "plt.show()"
   ]
  },
  {
   "cell_type": "code",
   "execution_count": null,
   "metadata": {},
   "outputs": [],
   "source": []
  }
 ],
 "metadata": {
  "kernelspec": {
   "display_name": "Python 3",
   "language": "python",
   "name": "python3"
  },
  "language_info": {
   "codemirror_mode": {
    "name": "ipython",
    "version": 3
   },
   "file_extension": ".py",
   "mimetype": "text/x-python",
   "name": "python",
   "nbconvert_exporter": "python",
   "pygments_lexer": "ipython3",
   "version": "3.7.7"
  }
 },
 "nbformat": 4,
 "nbformat_minor": 4
}
