{
 "cells": [
  {
   "cell_type": "code",
   "execution_count": 1,
   "metadata": {
    "scrolled": true
   },
   "outputs": [],
   "source": [
    "from sklearn.metrics import accuracy_score\n",
    "from sklearn.cluster import KMeans\n",
    "from sklearn.model_selection import train_test_split\n",
    "from collections import Counter\n",
    "import pandas as pd\n",
    "import matplotlib.pyplot as plt\n",
    "import datetime\n",
    "import numpy as np"
   ]
  },
  {
   "cell_type": "code",
   "execution_count": 2,
   "metadata": {},
   "outputs": [],
   "source": [
    "from sklearn.tree import DecisionTreeClassifier\n",
    "from sklearn.discriminant_analysis import LinearDiscriminantAnalysis, QuadraticDiscriminantAnalysis\n",
    "from sklearn.naive_bayes import GaussianNB\n",
    "from sklearn.gaussian_process import GaussianProcessClassifier\n",
    "from sklearn.gaussian_process.kernels import RBF\n",
    "from sklearn.ensemble import ExtraTreesClassifier\n",
    "from sklearn.linear_model import RidgeClassifier\n",
    "from sklearn.neighbors import KNeighborsClassifier"
   ]
  },
  {
   "cell_type": "code",
   "execution_count": 3,
   "metadata": {},
   "outputs": [],
   "source": [
    "log_data=pd.read_csv('../Datas/log2.csv',header=None)"
   ]
  },
  {
   "cell_type": "code",
   "execution_count": 4,
   "metadata": {
    "scrolled": false
   },
   "outputs": [
    {
     "data": {
      "text/html": [
       "<div>\n",
       "<style scoped>\n",
       "    .dataframe tbody tr th:only-of-type {\n",
       "        vertical-align: middle;\n",
       "    }\n",
       "\n",
       "    .dataframe tbody tr th {\n",
       "        vertical-align: top;\n",
       "    }\n",
       "\n",
       "    .dataframe thead th {\n",
       "        text-align: right;\n",
       "    }\n",
       "</style>\n",
       "<table border=\"1\" class=\"dataframe\">\n",
       "  <thead>\n",
       "    <tr style=\"text-align: right;\">\n",
       "      <th></th>\n",
       "      <th>0</th>\n",
       "      <th>1</th>\n",
       "      <th>2</th>\n",
       "      <th>3</th>\n",
       "    </tr>\n",
       "  </thead>\n",
       "  <tbody>\n",
       "    <tr>\n",
       "      <th>0</th>\n",
       "      <td>busanmovie3</td>\n",
       "      <td>1592324702997</td>\n",
       "      <td>2091580300</td>\n",
       "      <td>...</td>\n",
       "    </tr>\n",
       "    <tr>\n",
       "      <th>1</th>\n",
       "      <td>busanmovie6</td>\n",
       "      <td>1592324706150</td>\n",
       "      <td>57137300</td>\n",
       "      <td>...</td>\n",
       "    </tr>\n",
       "    <tr>\n",
       "      <th>2</th>\n",
       "      <td>busanmovie2</td>\n",
       "      <td>1592324706460</td>\n",
       "      <td>88587200</td>\n",
       "      <td>...</td>\n",
       "    </tr>\n",
       "    <tr>\n",
       "      <th>3</th>\n",
       "      <td>busanmovie5</td>\n",
       "      <td>1592324706787</td>\n",
       "      <td>63388800</td>\n",
       "      <td>...</td>\n",
       "    </tr>\n",
       "    <tr>\n",
       "      <th>4</th>\n",
       "      <td>busanmovie9</td>\n",
       "      <td>1592324707150</td>\n",
       "      <td>74762900</td>\n",
       "      <td>...</td>\n",
       "    </tr>\n",
       "    <tr>\n",
       "      <th>...</th>\n",
       "      <td>...</td>\n",
       "      <td>...</td>\n",
       "      <td>...</td>\n",
       "      <td>...</td>\n",
       "    </tr>\n",
       "    <tr>\n",
       "      <th>995</th>\n",
       "      <td>busanmovie4</td>\n",
       "      <td>1592324882832</td>\n",
       "      <td>31088400</td>\n",
       "      <td>...</td>\n",
       "    </tr>\n",
       "    <tr>\n",
       "      <th>996</th>\n",
       "      <td>busanmovie2</td>\n",
       "      <td>1592324883024</td>\n",
       "      <td>33342600</td>\n",
       "      <td>...</td>\n",
       "    </tr>\n",
       "    <tr>\n",
       "      <th>997</th>\n",
       "      <td>research10</td>\n",
       "      <td>1592324883185</td>\n",
       "      <td>31458300</td>\n",
       "      <td>...</td>\n",
       "    </tr>\n",
       "    <tr>\n",
       "      <th>998</th>\n",
       "      <td>busanmovie5</td>\n",
       "      <td>1592324883350</td>\n",
       "      <td>31817900</td>\n",
       "      <td>...</td>\n",
       "    </tr>\n",
       "    <tr>\n",
       "      <th>999</th>\n",
       "      <td>busanmovie8</td>\n",
       "      <td>1592324883508</td>\n",
       "      <td>106942700</td>\n",
       "      <td>...</td>\n",
       "    </tr>\n",
       "  </tbody>\n",
       "</table>\n",
       "<p>1000 rows × 4 columns</p>\n",
       "</div>"
      ],
      "text/plain": [
       "               0              1           2    3\n",
       "0    busanmovie3  1592324702997  2091580300  ...\n",
       "1    busanmovie6  1592324706150    57137300  ...\n",
       "2    busanmovie2  1592324706460    88587200  ...\n",
       "3    busanmovie5  1592324706787    63388800  ...\n",
       "4    busanmovie9  1592324707150    74762900  ...\n",
       "..           ...            ...         ...  ...\n",
       "995  busanmovie4  1592324882832    31088400  ...\n",
       "996  busanmovie2  1592324883024    33342600  ...\n",
       "997   research10  1592324883185    31458300  ...\n",
       "998  busanmovie5  1592324883350    31817900  ...\n",
       "999  busanmovie8  1592324883508   106942700  ...\n",
       "\n",
       "[1000 rows x 4 columns]"
      ]
     },
     "execution_count": 4,
     "metadata": {},
     "output_type": "execute_result"
    }
   ],
   "source": [
    "log_data"
   ]
  },
  {
   "cell_type": "code",
   "execution_count": 5,
   "metadata": {},
   "outputs": [],
   "source": [
    "log_data.columns=['Dataset','Query Time','Execution Time','ManagerId']"
   ]
  },
  {
   "cell_type": "code",
   "execution_count": 6,
   "metadata": {},
   "outputs": [
    {
     "data": {
      "text/plain": [
       "<bound method DataFrame.info of          Dataset     Query Time  Execution Time ManagerId\n",
       "0    busanmovie3  1592324702997      2091580300       ...\n",
       "1    busanmovie6  1592324706150        57137300       ...\n",
       "2    busanmovie2  1592324706460        88587200       ...\n",
       "3    busanmovie5  1592324706787        63388800       ...\n",
       "4    busanmovie9  1592324707150        74762900       ...\n",
       "..           ...            ...             ...       ...\n",
       "995  busanmovie4  1592324882832        31088400       ...\n",
       "996  busanmovie2  1592324883024        33342600       ...\n",
       "997   research10  1592324883185        31458300       ...\n",
       "998  busanmovie5  1592324883350        31817900       ...\n",
       "999  busanmovie8  1592324883508       106942700       ...\n",
       "\n",
       "[1000 rows x 4 columns]>"
      ]
     },
     "execution_count": 6,
     "metadata": {},
     "output_type": "execute_result"
    }
   ],
   "source": [
    "log_data.info"
   ]
  },
  {
   "cell_type": "code",
   "execution_count": 7,
   "metadata": {
    "scrolled": true
   },
   "outputs": [
    {
     "data": {
      "text/html": [
       "<div>\n",
       "<style scoped>\n",
       "    .dataframe tbody tr th:only-of-type {\n",
       "        vertical-align: middle;\n",
       "    }\n",
       "\n",
       "    .dataframe tbody tr th {\n",
       "        vertical-align: top;\n",
       "    }\n",
       "\n",
       "    .dataframe thead th {\n",
       "        text-align: right;\n",
       "    }\n",
       "</style>\n",
       "<table border=\"1\" class=\"dataframe\">\n",
       "  <thead>\n",
       "    <tr style=\"text-align: right;\">\n",
       "      <th></th>\n",
       "      <th>Query Time</th>\n",
       "      <th>Execution Time</th>\n",
       "    </tr>\n",
       "  </thead>\n",
       "  <tbody>\n",
       "    <tr>\n",
       "      <th>count</th>\n",
       "      <td>1.000000e+03</td>\n",
       "      <td>1.000000e+03</td>\n",
       "    </tr>\n",
       "    <tr>\n",
       "      <th>mean</th>\n",
       "      <td>1.592325e+12</td>\n",
       "      <td>4.045961e+07</td>\n",
       "    </tr>\n",
       "    <tr>\n",
       "      <th>std</th>\n",
       "      <td>5.073051e+04</td>\n",
       "      <td>6.967336e+07</td>\n",
       "    </tr>\n",
       "    <tr>\n",
       "      <th>min</th>\n",
       "      <td>1.592325e+12</td>\n",
       "      <td>2.285590e+07</td>\n",
       "    </tr>\n",
       "    <tr>\n",
       "      <th>25%</th>\n",
       "      <td>1.592325e+12</td>\n",
       "      <td>2.896428e+07</td>\n",
       "    </tr>\n",
       "    <tr>\n",
       "      <th>50%</th>\n",
       "      <td>1.592325e+12</td>\n",
       "      <td>3.103100e+07</td>\n",
       "    </tr>\n",
       "    <tr>\n",
       "      <th>75%</th>\n",
       "      <td>1.592325e+12</td>\n",
       "      <td>3.291652e+07</td>\n",
       "    </tr>\n",
       "    <tr>\n",
       "      <th>max</th>\n",
       "      <td>1.592325e+12</td>\n",
       "      <td>2.091580e+09</td>\n",
       "    </tr>\n",
       "  </tbody>\n",
       "</table>\n",
       "</div>"
      ],
      "text/plain": [
       "         Query Time  Execution Time\n",
       "count  1.000000e+03    1.000000e+03\n",
       "mean   1.592325e+12    4.045961e+07\n",
       "std    5.073051e+04    6.967336e+07\n",
       "min    1.592325e+12    2.285590e+07\n",
       "25%    1.592325e+12    2.896428e+07\n",
       "50%    1.592325e+12    3.103100e+07\n",
       "75%    1.592325e+12    3.291652e+07\n",
       "max    1.592325e+12    2.091580e+09"
      ]
     },
     "execution_count": 7,
     "metadata": {},
     "output_type": "execute_result"
    }
   ],
   "source": [
    "log_data.describe()"
   ]
  },
  {
   "cell_type": "code",
   "execution_count": 31,
   "metadata": {},
   "outputs": [],
   "source": [
    "X=log_data[['Dataset','Query Time','Execution Time']][:800]"
   ]
  },
  {
   "cell_type": "code",
   "execution_count": 33,
   "metadata": {
    "scrolled": true
   },
   "outputs": [
    {
     "data": {
      "text/html": [
       "<div>\n",
       "<style scoped>\n",
       "    .dataframe tbody tr th:only-of-type {\n",
       "        vertical-align: middle;\n",
       "    }\n",
       "\n",
       "    .dataframe tbody tr th {\n",
       "        vertical-align: top;\n",
       "    }\n",
       "\n",
       "    .dataframe thead th {\n",
       "        text-align: right;\n",
       "    }\n",
       "</style>\n",
       "<table border=\"1\" class=\"dataframe\">\n",
       "  <thead>\n",
       "    <tr style=\"text-align: right;\">\n",
       "      <th></th>\n",
       "      <th>Dataset</th>\n",
       "      <th>Query Time</th>\n",
       "      <th>Execution Time</th>\n",
       "    </tr>\n",
       "  </thead>\n",
       "  <tbody>\n",
       "    <tr>\n",
       "      <th>0</th>\n",
       "      <td>busanmovie3</td>\n",
       "      <td>1592324702997</td>\n",
       "      <td>2091580300</td>\n",
       "    </tr>\n",
       "    <tr>\n",
       "      <th>1</th>\n",
       "      <td>busanmovie6</td>\n",
       "      <td>1592324706150</td>\n",
       "      <td>57137300</td>\n",
       "    </tr>\n",
       "    <tr>\n",
       "      <th>2</th>\n",
       "      <td>busanmovie2</td>\n",
       "      <td>1592324706460</td>\n",
       "      <td>88587200</td>\n",
       "    </tr>\n",
       "    <tr>\n",
       "      <th>3</th>\n",
       "      <td>busanmovie5</td>\n",
       "      <td>1592324706787</td>\n",
       "      <td>63388800</td>\n",
       "    </tr>\n",
       "    <tr>\n",
       "      <th>4</th>\n",
       "      <td>busanmovie9</td>\n",
       "      <td>1592324707150</td>\n",
       "      <td>74762900</td>\n",
       "    </tr>\n",
       "    <tr>\n",
       "      <th>...</th>\n",
       "      <td>...</td>\n",
       "      <td>...</td>\n",
       "      <td>...</td>\n",
       "    </tr>\n",
       "    <tr>\n",
       "      <th>795</th>\n",
       "      <td>busanmovie3</td>\n",
       "      <td>1592324848226</td>\n",
       "      <td>27697700</td>\n",
       "    </tr>\n",
       "    <tr>\n",
       "      <th>796</th>\n",
       "      <td>busanmovie2</td>\n",
       "      <td>1592324848398</td>\n",
       "      <td>30516200</td>\n",
       "    </tr>\n",
       "    <tr>\n",
       "      <th>797</th>\n",
       "      <td>busanmovie5</td>\n",
       "      <td>1592324848562</td>\n",
       "      <td>31186700</td>\n",
       "    </tr>\n",
       "    <tr>\n",
       "      <th>798</th>\n",
       "      <td>busanmovie3</td>\n",
       "      <td>1592324848744</td>\n",
       "      <td>74708000</td>\n",
       "    </tr>\n",
       "    <tr>\n",
       "      <th>799</th>\n",
       "      <td>busanmovie5</td>\n",
       "      <td>1592324848953</td>\n",
       "      <td>29400000</td>\n",
       "    </tr>\n",
       "  </tbody>\n",
       "</table>\n",
       "<p>800 rows × 3 columns</p>\n",
       "</div>"
      ],
      "text/plain": [
       "         Dataset     Query Time  Execution Time\n",
       "0    busanmovie3  1592324702997      2091580300\n",
       "1    busanmovie6  1592324706150        57137300\n",
       "2    busanmovie2  1592324706460        88587200\n",
       "3    busanmovie5  1592324706787        63388800\n",
       "4    busanmovie9  1592324707150        74762900\n",
       "..           ...            ...             ...\n",
       "795  busanmovie3  1592324848226        27697700\n",
       "796  busanmovie2  1592324848398        30516200\n",
       "797  busanmovie5  1592324848562        31186700\n",
       "798  busanmovie3  1592324848744        74708000\n",
       "799  busanmovie5  1592324848953        29400000\n",
       "\n",
       "[800 rows x 3 columns]"
      ]
     },
     "execution_count": 33,
     "metadata": {},
     "output_type": "execute_result"
    }
   ],
   "source": [
    "X"
   ]
  },
  {
   "cell_type": "code",
   "execution_count": 34,
   "metadata": {
    "scrolled": true
   },
   "outputs": [
    {
     "data": {
      "text/html": [
       "<div>\n",
       "<style scoped>\n",
       "    .dataframe tbody tr th:only-of-type {\n",
       "        vertical-align: middle;\n",
       "    }\n",
       "\n",
       "    .dataframe tbody tr th {\n",
       "        vertical-align: top;\n",
       "    }\n",
       "\n",
       "    .dataframe thead th {\n",
       "        text-align: right;\n",
       "    }\n",
       "</style>\n",
       "<table border=\"1\" class=\"dataframe\">\n",
       "  <thead>\n",
       "    <tr style=\"text-align: right;\">\n",
       "      <th></th>\n",
       "      <th>Query Time</th>\n",
       "      <th>Execution Time</th>\n",
       "    </tr>\n",
       "  </thead>\n",
       "  <tbody>\n",
       "    <tr>\n",
       "      <th>count</th>\n",
       "      <td>8.000000e+02</td>\n",
       "      <td>8.000000e+02</td>\n",
       "    </tr>\n",
       "    <tr>\n",
       "      <th>mean</th>\n",
       "      <td>1.592325e+12</td>\n",
       "      <td>4.148188e+07</td>\n",
       "    </tr>\n",
       "    <tr>\n",
       "      <th>std</th>\n",
       "      <td>4.063815e+04</td>\n",
       "      <td>7.702926e+07</td>\n",
       "    </tr>\n",
       "    <tr>\n",
       "      <th>min</th>\n",
       "      <td>1.592325e+12</td>\n",
       "      <td>2.285590e+07</td>\n",
       "    </tr>\n",
       "    <tr>\n",
       "      <th>25%</th>\n",
       "      <td>1.592325e+12</td>\n",
       "      <td>2.946925e+07</td>\n",
       "    </tr>\n",
       "    <tr>\n",
       "      <th>50%</th>\n",
       "      <td>1.592325e+12</td>\n",
       "      <td>3.131250e+07</td>\n",
       "    </tr>\n",
       "    <tr>\n",
       "      <th>75%</th>\n",
       "      <td>1.592325e+12</td>\n",
       "      <td>3.301062e+07</td>\n",
       "    </tr>\n",
       "    <tr>\n",
       "      <th>max</th>\n",
       "      <td>1.592325e+12</td>\n",
       "      <td>2.091580e+09</td>\n",
       "    </tr>\n",
       "  </tbody>\n",
       "</table>\n",
       "</div>"
      ],
      "text/plain": [
       "         Query Time  Execution Time\n",
       "count  8.000000e+02    8.000000e+02\n",
       "mean   1.592325e+12    4.148188e+07\n",
       "std    4.063815e+04    7.702926e+07\n",
       "min    1.592325e+12    2.285590e+07\n",
       "25%    1.592325e+12    2.946925e+07\n",
       "50%    1.592325e+12    3.131250e+07\n",
       "75%    1.592325e+12    3.301062e+07\n",
       "max    1.592325e+12    2.091580e+09"
      ]
     },
     "execution_count": 34,
     "metadata": {},
     "output_type": "execute_result"
    }
   ],
   "source": [
    "X.describe()"
   ]
  },
  {
   "cell_type": "code",
   "execution_count": 35,
   "metadata": {
    "scrolled": true
   },
   "outputs": [],
   "source": [
    "execute_mean=X[['Execution Time']].mean()\n",
    "execute_std=X[['Execution Time']].std()\n",
    "X[['Execution Time']]=(X[['Execution Time']]-execute_mean)/execute_std"
   ]
  },
  {
   "cell_type": "code",
   "execution_count": 36,
   "metadata": {
    "scrolled": true
   },
   "outputs": [],
   "source": [
    "query_min=X[['Query Time']].min()\n",
    "X[['Query Time']]=(X[['Query Time']]-query_min)"
   ]
  },
  {
   "cell_type": "code",
   "execution_count": 37,
   "metadata": {
    "scrolled": false
   },
   "outputs": [],
   "source": [
    "Dataset_Query=X.groupby('Dataset')['Query Time'].sum().to_frame().reset_index()"
   ]
  },
  {
   "cell_type": "code",
   "execution_count": 38,
   "metadata": {
    "scrolled": true
   },
   "outputs": [],
   "source": [
    "Dataset_Execution=X.groupby('Dataset')['Execution Time'].mean().to_frame().reset_index()"
   ]
  },
  {
   "cell_type": "code",
   "execution_count": 39,
   "metadata": {},
   "outputs": [],
   "source": [
    "Dataset_Query_Frequency=X.groupby('Dataset')['Query Time'].count().to_frame().reset_index()\n",
    "Dataset_Query_Frequency.rename(columns = {'Query Time' : 'Query Count'}, inplace = True)"
   ]
  },
  {
   "cell_type": "code",
   "execution_count": 40,
   "metadata": {},
   "outputs": [],
   "source": [
    "X=pd.merge(Dataset_Query,Dataset_Execution,on='Dataset')\n",
    "X=pd.merge(X,Dataset_Query_Frequency,on='Dataset')"
   ]
  },
  {
   "cell_type": "code",
   "execution_count": 41,
   "metadata": {},
   "outputs": [
    {
     "data": {
      "text/html": [
       "<div>\n",
       "<style scoped>\n",
       "    .dataframe tbody tr th:only-of-type {\n",
       "        vertical-align: middle;\n",
       "    }\n",
       "\n",
       "    .dataframe tbody tr th {\n",
       "        vertical-align: top;\n",
       "    }\n",
       "\n",
       "    .dataframe thead th {\n",
       "        text-align: right;\n",
       "    }\n",
       "</style>\n",
       "<table border=\"1\" class=\"dataframe\">\n",
       "  <thead>\n",
       "    <tr style=\"text-align: right;\">\n",
       "      <th></th>\n",
       "      <th>Dataset</th>\n",
       "      <th>Query Time</th>\n",
       "      <th>Execution Time</th>\n",
       "      <th>Query Count</th>\n",
       "    </tr>\n",
       "  </thead>\n",
       "  <tbody>\n",
       "    <tr>\n",
       "      <th>0</th>\n",
       "      <td>MusicDance1</td>\n",
       "      <td>354415</td>\n",
       "      <td>1.101344</td>\n",
       "      <td>4</td>\n",
       "    </tr>\n",
       "    <tr>\n",
       "      <th>1</th>\n",
       "      <td>RecommendTour1</td>\n",
       "      <td>611344</td>\n",
       "      <td>-0.070906</td>\n",
       "      <td>8</td>\n",
       "    </tr>\n",
       "    <tr>\n",
       "      <th>2</th>\n",
       "      <td>TouristAtt</td>\n",
       "      <td>257014</td>\n",
       "      <td>-0.034421</td>\n",
       "      <td>5</td>\n",
       "    </tr>\n",
       "    <tr>\n",
       "      <th>3</th>\n",
       "      <td>busanfestival</td>\n",
       "      <td>603219</td>\n",
       "      <td>0.031184</td>\n",
       "      <td>9</td>\n",
       "    </tr>\n",
       "    <tr>\n",
       "      <th>4</th>\n",
       "      <td>busanmovie1</td>\n",
       "      <td>7523216</td>\n",
       "      <td>-0.136356</td>\n",
       "      <td>102</td>\n",
       "    </tr>\n",
       "    <tr>\n",
       "      <th>5</th>\n",
       "      <td>busanmovie2</td>\n",
       "      <td>11999793</td>\n",
       "      <td>-0.126661</td>\n",
       "      <td>162</td>\n",
       "    </tr>\n",
       "    <tr>\n",
       "      <th>6</th>\n",
       "      <td>busanmovie3</td>\n",
       "      <td>8588730</td>\n",
       "      <td>0.319009</td>\n",
       "      <td>101</td>\n",
       "    </tr>\n",
       "    <tr>\n",
       "      <th>7</th>\n",
       "      <td>busanmovie4</td>\n",
       "      <td>6664671</td>\n",
       "      <td>-0.061344</td>\n",
       "      <td>83</td>\n",
       "    </tr>\n",
       "    <tr>\n",
       "      <th>8</th>\n",
       "      <td>busanmovie5</td>\n",
       "      <td>10090104</td>\n",
       "      <td>-0.135247</td>\n",
       "      <td>140</td>\n",
       "    </tr>\n",
       "    <tr>\n",
       "      <th>9</th>\n",
       "      <td>busanmovie6</td>\n",
       "      <td>4197519</td>\n",
       "      <td>0.177119</td>\n",
       "      <td>56</td>\n",
       "    </tr>\n",
       "    <tr>\n",
       "      <th>10</th>\n",
       "      <td>busanmovie7</td>\n",
       "      <td>3665009</td>\n",
       "      <td>0.304732</td>\n",
       "      <td>49</td>\n",
       "    </tr>\n",
       "    <tr>\n",
       "      <th>11</th>\n",
       "      <td>busanmovie8</td>\n",
       "      <td>1546949</td>\n",
       "      <td>0.027820</td>\n",
       "      <td>21</td>\n",
       "    </tr>\n",
       "    <tr>\n",
       "      <th>12</th>\n",
       "      <td>busanmovie9</td>\n",
       "      <td>870809</td>\n",
       "      <td>-0.046883</td>\n",
       "      <td>15</td>\n",
       "    </tr>\n",
       "    <tr>\n",
       "      <th>13</th>\n",
       "      <td>busanplace</td>\n",
       "      <td>621281</td>\n",
       "      <td>0.376344</td>\n",
       "      <td>8</td>\n",
       "    </tr>\n",
       "    <tr>\n",
       "      <th>14</th>\n",
       "      <td>research10</td>\n",
       "      <td>2875261</td>\n",
       "      <td>-0.147443</td>\n",
       "      <td>37</td>\n",
       "    </tr>\n",
       "  </tbody>\n",
       "</table>\n",
       "</div>"
      ],
      "text/plain": [
       "           Dataset  Query Time  Execution Time  Query Count\n",
       "0      MusicDance1      354415        1.101344            4\n",
       "1   RecommendTour1      611344       -0.070906            8\n",
       "2       TouristAtt      257014       -0.034421            5\n",
       "3    busanfestival      603219        0.031184            9\n",
       "4      busanmovie1     7523216       -0.136356          102\n",
       "5      busanmovie2    11999793       -0.126661          162\n",
       "6      busanmovie3     8588730        0.319009          101\n",
       "7      busanmovie4     6664671       -0.061344           83\n",
       "8      busanmovie5    10090104       -0.135247          140\n",
       "9      busanmovie6     4197519        0.177119           56\n",
       "10     busanmovie7     3665009        0.304732           49\n",
       "11     busanmovie8     1546949        0.027820           21\n",
       "12     busanmovie9      870809       -0.046883           15\n",
       "13      busanplace      621281        0.376344            8\n",
       "14      research10     2875261       -0.147443           37"
      ]
     },
     "execution_count": 41,
     "metadata": {},
     "output_type": "execute_result"
    }
   ],
   "source": [
    "X"
   ]
  },
  {
   "cell_type": "code",
   "execution_count": 42,
   "metadata": {},
   "outputs": [],
   "source": [
    "count_mean=X[['Query Count']].mean()\n",
    "count_std=X[['Query Count']].std()\n",
    "X[['Query Count']]=(X[['Query Count']]-count_mean)/count_std"
   ]
  },
  {
   "cell_type": "code",
   "execution_count": 43,
   "metadata": {},
   "outputs": [],
   "source": [
    "query_mean=X[['Query Time']].mean()\n",
    "query_std=X[['Query Time']].std()\n",
    "X[['Query Time']]=(X[['Query Time']]-query_mean) / query_std"
   ]
  },
  {
   "cell_type": "code",
   "execution_count": 44,
   "metadata": {
    "scrolled": true
   },
   "outputs": [
    {
     "data": {
      "text/html": [
       "<div>\n",
       "<style scoped>\n",
       "    .dataframe tbody tr th:only-of-type {\n",
       "        vertical-align: middle;\n",
       "    }\n",
       "\n",
       "    .dataframe tbody tr th {\n",
       "        vertical-align: top;\n",
       "    }\n",
       "\n",
       "    .dataframe thead th {\n",
       "        text-align: right;\n",
       "    }\n",
       "</style>\n",
       "<table border=\"1\" class=\"dataframe\">\n",
       "  <thead>\n",
       "    <tr style=\"text-align: right;\">\n",
       "      <th></th>\n",
       "      <th>Dataset</th>\n",
       "      <th>Query Time</th>\n",
       "      <th>Execution Time</th>\n",
       "      <th>Query Count</th>\n",
       "    </tr>\n",
       "  </thead>\n",
       "  <tbody>\n",
       "    <tr>\n",
       "      <th>0</th>\n",
       "      <td>MusicDance1</td>\n",
       "      <td>-0.926267</td>\n",
       "      <td>1.101344</td>\n",
       "      <td>-0.940831</td>\n",
       "    </tr>\n",
       "    <tr>\n",
       "      <th>1</th>\n",
       "      <td>RecommendTour1</td>\n",
       "      <td>-0.861542</td>\n",
       "      <td>-0.070906</td>\n",
       "      <td>-0.864548</td>\n",
       "    </tr>\n",
       "    <tr>\n",
       "      <th>2</th>\n",
       "      <td>TouristAtt</td>\n",
       "      <td>-0.950804</td>\n",
       "      <td>-0.034421</td>\n",
       "      <td>-0.921760</td>\n",
       "    </tr>\n",
       "    <tr>\n",
       "      <th>3</th>\n",
       "      <td>busanfestival</td>\n",
       "      <td>-0.863589</td>\n",
       "      <td>0.031184</td>\n",
       "      <td>-0.845477</td>\n",
       "    </tr>\n",
       "    <tr>\n",
       "      <th>4</th>\n",
       "      <td>busanmovie1</td>\n",
       "      <td>0.879676</td>\n",
       "      <td>-0.136356</td>\n",
       "      <td>0.928117</td>\n",
       "    </tr>\n",
       "    <tr>\n",
       "      <th>5</th>\n",
       "      <td>busanmovie2</td>\n",
       "      <td>2.007401</td>\n",
       "      <td>-0.126661</td>\n",
       "      <td>2.072371</td>\n",
       "    </tr>\n",
       "    <tr>\n",
       "      <th>6</th>\n",
       "      <td>busanmovie3</td>\n",
       "      <td>1.148097</td>\n",
       "      <td>0.319009</td>\n",
       "      <td>0.909046</td>\n",
       "    </tr>\n",
       "    <tr>\n",
       "      <th>7</th>\n",
       "      <td>busanmovie4</td>\n",
       "      <td>0.663393</td>\n",
       "      <td>-0.061344</td>\n",
       "      <td>0.565770</td>\n",
       "    </tr>\n",
       "    <tr>\n",
       "      <th>8</th>\n",
       "      <td>busanmovie5</td>\n",
       "      <td>1.526318</td>\n",
       "      <td>-0.135247</td>\n",
       "      <td>1.652812</td>\n",
       "    </tr>\n",
       "    <tr>\n",
       "      <th>9</th>\n",
       "      <td>busanmovie6</td>\n",
       "      <td>0.041876</td>\n",
       "      <td>0.177119</td>\n",
       "      <td>0.050856</td>\n",
       "    </tr>\n",
       "    <tr>\n",
       "      <th>10</th>\n",
       "      <td>busanmovie7</td>\n",
       "      <td>-0.092272</td>\n",
       "      <td>0.304732</td>\n",
       "      <td>-0.082641</td>\n",
       "    </tr>\n",
       "    <tr>\n",
       "      <th>11</th>\n",
       "      <td>busanmovie8</td>\n",
       "      <td>-0.625847</td>\n",
       "      <td>0.027820</td>\n",
       "      <td>-0.616626</td>\n",
       "    </tr>\n",
       "    <tr>\n",
       "      <th>12</th>\n",
       "      <td>busanmovie9</td>\n",
       "      <td>-0.796178</td>\n",
       "      <td>-0.046883</td>\n",
       "      <td>-0.731051</td>\n",
       "    </tr>\n",
       "    <tr>\n",
       "      <th>13</th>\n",
       "      <td>busanplace</td>\n",
       "      <td>-0.859039</td>\n",
       "      <td>0.376344</td>\n",
       "      <td>-0.864548</td>\n",
       "    </tr>\n",
       "    <tr>\n",
       "      <th>14</th>\n",
       "      <td>research10</td>\n",
       "      <td>-0.291223</td>\n",
       "      <td>-0.147443</td>\n",
       "      <td>-0.311491</td>\n",
       "    </tr>\n",
       "  </tbody>\n",
       "</table>\n",
       "</div>"
      ],
      "text/plain": [
       "           Dataset  Query Time  Execution Time  Query Count\n",
       "0      MusicDance1   -0.926267        1.101344    -0.940831\n",
       "1   RecommendTour1   -0.861542       -0.070906    -0.864548\n",
       "2       TouristAtt   -0.950804       -0.034421    -0.921760\n",
       "3    busanfestival   -0.863589        0.031184    -0.845477\n",
       "4      busanmovie1    0.879676       -0.136356     0.928117\n",
       "5      busanmovie2    2.007401       -0.126661     2.072371\n",
       "6      busanmovie3    1.148097        0.319009     0.909046\n",
       "7      busanmovie4    0.663393       -0.061344     0.565770\n",
       "8      busanmovie5    1.526318       -0.135247     1.652812\n",
       "9      busanmovie6    0.041876        0.177119     0.050856\n",
       "10     busanmovie7   -0.092272        0.304732    -0.082641\n",
       "11     busanmovie8   -0.625847        0.027820    -0.616626\n",
       "12     busanmovie9   -0.796178       -0.046883    -0.731051\n",
       "13      busanplace   -0.859039        0.376344    -0.864548\n",
       "14      research10   -0.291223       -0.147443    -0.311491"
      ]
     },
     "execution_count": 44,
     "metadata": {},
     "output_type": "execute_result"
    }
   ],
   "source": [
    "X"
   ]
  },
  {
   "cell_type": "code",
   "execution_count": 45,
   "metadata": {},
   "outputs": [
    {
     "data": {
      "text/plain": [
       "array([[<matplotlib.axes._subplots.AxesSubplot object at 0x000001EB291D4D88>,\n",
       "        <matplotlib.axes._subplots.AxesSubplot object at 0x000001EB291E8F48>],\n",
       "       [<matplotlib.axes._subplots.AxesSubplot object at 0x000001EB29226308>,\n",
       "        <matplotlib.axes._subplots.AxesSubplot object at 0x000001EB2925F148>]],\n",
       "      dtype=object)"
      ]
     },
     "execution_count": 45,
     "metadata": {},
     "output_type": "execute_result"
    },
    {
     "data": {
      "image/png": "[encoded data removed]",
      "text/plain": [
       "<Figure size 432x288 with 4 Axes>"
      ]
     },
     "metadata": {
      "needs_background": "light"
     },
     "output_type": "display_data"
    }
   ],
   "source": [
    "X.hist()"
   ]
  },
  {
   "cell_type": "code",
   "execution_count": 46,
   "metadata": {},
   "outputs": [],
   "source": [
    "query_hot=set(X[X['Query Time']>X['Query Time'].mean()].index)"
   ]
  },
  {
   "cell_type": "code",
   "execution_count": 47,
   "metadata": {},
   "outputs": [],
   "source": [
    "execution_hot=set(X[X['Execution Time']>X['Execution Time'].mean()].index)"
   ]
  },
  {
   "cell_type": "code",
   "execution_count": 48,
   "metadata": {},
   "outputs": [],
   "source": [
    "count_hot=set(X[X['Query Count']>X['Query Count'].mean()].index)"
   ]
  },
  {
   "cell_type": "code",
   "execution_count": 49,
   "metadata": {
    "scrolled": true
   },
   "outputs": [
    {
     "name": "stdout",
     "output_type": "stream",
     "text": [
      "{4, 5, 6, 7, 8, 9}\n",
      "{0, 6, 9, 10, 13}\n",
      "{4, 5, 6, 7, 8, 9}\n"
     ]
    }
   ],
   "source": [
    "print(query_hot)\n",
    "print(execution_hot)\n",
    "print(count_hot)"
   ]
  },
  {
   "cell_type": "code",
   "execution_count": 50,
   "metadata": {},
   "outputs": [],
   "source": [
    "Hot_Dataset_Counts=round(len(X)*0.3)"
   ]
  },
  {
   "cell_type": "code",
   "execution_count": 51,
   "metadata": {},
   "outputs": [
    {
     "name": "stdout",
     "output_type": "stream",
     "text": [
      "[4, 5, 6, 7, 8, 9, 9, 6, 9, 6]\n"
     ]
    }
   ],
   "source": [
    "hot_index=[]\n",
    "\n",
    "# Query Time and Execution Time and Query Count\n",
    "intersect=query_hot.intersection(execution_hot).intersection(count_hot)\n",
    "hot_index=[data for data in intersect]\n",
    "\n",
    "intersects=[]\n",
    "#Query Time and Query Count\n",
    "intersects.extend(query_hot.intersection(count_hot))\n",
    "#Execution Time and Query Count\n",
    "intersects.extend(execution_hot.intersection(count_hot))\n",
    "#Query Time and Execution Time\n",
    "intersects.extend(query_hot.intersection(execution_hot))\n",
    "print(intersects)\n",
    "while len(hot_index) < Hot_Dataset_Counts:\n",
    "    data=intersects.pop(0)\n",
    "    if data in hot_index:\n",
    "        continue\n",
    "    hot_index.append(data)"
   ]
  },
  {
   "cell_type": "code",
   "execution_count": 52,
   "metadata": {},
   "outputs": [
    {
     "data": {
      "text/plain": [
       "[9, 6, 4, 5]"
      ]
     },
     "execution_count": 52,
     "metadata": {},
     "output_type": "execute_result"
    }
   ],
   "source": [
    "hot_index"
   ]
  },
  {
   "cell_type": "code",
   "execution_count": 53,
   "metadata": {},
   "outputs": [],
   "source": [
    "Y=pd.DataFrame(np.zeros(len(X)))"
   ]
  },
  {
   "cell_type": "code",
   "execution_count": 54,
   "metadata": {},
   "outputs": [],
   "source": [
    "hots=list(hot_index)"
   ]
  },
  {
   "cell_type": "code",
   "execution_count": 55,
   "metadata": {},
   "outputs": [],
   "source": [
    "Y.loc[hots]=1.0"
   ]
  },
  {
   "cell_type": "code",
   "execution_count": 56,
   "metadata": {
    "scrolled": true
   },
   "outputs": [
    {
     "data": {
      "text/html": [
       "<div>\n",
       "<style scoped>\n",
       "    .dataframe tbody tr th:only-of-type {\n",
       "        vertical-align: middle;\n",
       "    }\n",
       "\n",
       "    .dataframe tbody tr th {\n",
       "        vertical-align: top;\n",
       "    }\n",
       "\n",
       "    .dataframe thead th {\n",
       "        text-align: right;\n",
       "    }\n",
       "</style>\n",
       "<table border=\"1\" class=\"dataframe\">\n",
       "  <thead>\n",
       "    <tr style=\"text-align: right;\">\n",
       "      <th></th>\n",
       "      <th>0</th>\n",
       "    </tr>\n",
       "  </thead>\n",
       "  <tbody>\n",
       "    <tr>\n",
       "      <th>0</th>\n",
       "      <td>0.0</td>\n",
       "    </tr>\n",
       "    <tr>\n",
       "      <th>1</th>\n",
       "      <td>0.0</td>\n",
       "    </tr>\n",
       "    <tr>\n",
       "      <th>2</th>\n",
       "      <td>0.0</td>\n",
       "    </tr>\n",
       "    <tr>\n",
       "      <th>3</th>\n",
       "      <td>0.0</td>\n",
       "    </tr>\n",
       "    <tr>\n",
       "      <th>4</th>\n",
       "      <td>1.0</td>\n",
       "    </tr>\n",
       "    <tr>\n",
       "      <th>5</th>\n",
       "      <td>1.0</td>\n",
       "    </tr>\n",
       "    <tr>\n",
       "      <th>6</th>\n",
       "      <td>1.0</td>\n",
       "    </tr>\n",
       "    <tr>\n",
       "      <th>7</th>\n",
       "      <td>0.0</td>\n",
       "    </tr>\n",
       "    <tr>\n",
       "      <th>8</th>\n",
       "      <td>0.0</td>\n",
       "    </tr>\n",
       "    <tr>\n",
       "      <th>9</th>\n",
       "      <td>1.0</td>\n",
       "    </tr>\n",
       "    <tr>\n",
       "      <th>10</th>\n",
       "      <td>0.0</td>\n",
       "    </tr>\n",
       "    <tr>\n",
       "      <th>11</th>\n",
       "      <td>0.0</td>\n",
       "    </tr>\n",
       "    <tr>\n",
       "      <th>12</th>\n",
       "      <td>0.0</td>\n",
       "    </tr>\n",
       "    <tr>\n",
       "      <th>13</th>\n",
       "      <td>0.0</td>\n",
       "    </tr>\n",
       "    <tr>\n",
       "      <th>14</th>\n",
       "      <td>0.0</td>\n",
       "    </tr>\n",
       "  </tbody>\n",
       "</table>\n",
       "</div>"
      ],
      "text/plain": [
       "      0\n",
       "0   0.0\n",
       "1   0.0\n",
       "2   0.0\n",
       "3   0.0\n",
       "4   1.0\n",
       "5   1.0\n",
       "6   1.0\n",
       "7   0.0\n",
       "8   0.0\n",
       "9   1.0\n",
       "10  0.0\n",
       "11  0.0\n",
       "12  0.0\n",
       "13  0.0\n",
       "14  0.0"
      ]
     },
     "execution_count": 56,
     "metadata": {},
     "output_type": "execute_result"
    }
   ],
   "source": [
    "Y"
   ]
  },
  {
   "cell_type": "code",
   "execution_count": 57,
   "metadata": {},
   "outputs": [],
   "source": [
    "X=X[[\"Query Time\",\"Execution Time\",\"Query Count\"]]"
   ]
  },
  {
   "cell_type": "code",
   "execution_count": 58,
   "metadata": {
    "scrolled": false
   },
   "outputs": [
    {
     "data": {
      "text/html": [
       "<div>\n",
       "<style scoped>\n",
       "    .dataframe tbody tr th:only-of-type {\n",
       "        vertical-align: middle;\n",
       "    }\n",
       "\n",
       "    .dataframe tbody tr th {\n",
       "        vertical-align: top;\n",
       "    }\n",
       "\n",
       "    .dataframe thead th {\n",
       "        text-align: right;\n",
       "    }\n",
       "</style>\n",
       "<table border=\"1\" class=\"dataframe\">\n",
       "  <thead>\n",
       "    <tr style=\"text-align: right;\">\n",
       "      <th></th>\n",
       "      <th>Query Time</th>\n",
       "      <th>Execution Time</th>\n",
       "      <th>Query Count</th>\n",
       "    </tr>\n",
       "  </thead>\n",
       "  <tbody>\n",
       "    <tr>\n",
       "      <th>0</th>\n",
       "      <td>-0.926267</td>\n",
       "      <td>1.101344</td>\n",
       "      <td>-0.940831</td>\n",
       "    </tr>\n",
       "    <tr>\n",
       "      <th>1</th>\n",
       "      <td>-0.861542</td>\n",
       "      <td>-0.070906</td>\n",
       "      <td>-0.864548</td>\n",
       "    </tr>\n",
       "    <tr>\n",
       "      <th>2</th>\n",
       "      <td>-0.950804</td>\n",
       "      <td>-0.034421</td>\n",
       "      <td>-0.921760</td>\n",
       "    </tr>\n",
       "    <tr>\n",
       "      <th>3</th>\n",
       "      <td>-0.863589</td>\n",
       "      <td>0.031184</td>\n",
       "      <td>-0.845477</td>\n",
       "    </tr>\n",
       "    <tr>\n",
       "      <th>4</th>\n",
       "      <td>0.879676</td>\n",
       "      <td>-0.136356</td>\n",
       "      <td>0.928117</td>\n",
       "    </tr>\n",
       "    <tr>\n",
       "      <th>5</th>\n",
       "      <td>2.007401</td>\n",
       "      <td>-0.126661</td>\n",
       "      <td>2.072371</td>\n",
       "    </tr>\n",
       "    <tr>\n",
       "      <th>6</th>\n",
       "      <td>1.148097</td>\n",
       "      <td>0.319009</td>\n",
       "      <td>0.909046</td>\n",
       "    </tr>\n",
       "    <tr>\n",
       "      <th>7</th>\n",
       "      <td>0.663393</td>\n",
       "      <td>-0.061344</td>\n",
       "      <td>0.565770</td>\n",
       "    </tr>\n",
       "    <tr>\n",
       "      <th>8</th>\n",
       "      <td>1.526318</td>\n",
       "      <td>-0.135247</td>\n",
       "      <td>1.652812</td>\n",
       "    </tr>\n",
       "    <tr>\n",
       "      <th>9</th>\n",
       "      <td>0.041876</td>\n",
       "      <td>0.177119</td>\n",
       "      <td>0.050856</td>\n",
       "    </tr>\n",
       "    <tr>\n",
       "      <th>10</th>\n",
       "      <td>-0.092272</td>\n",
       "      <td>0.304732</td>\n",
       "      <td>-0.082641</td>\n",
       "    </tr>\n",
       "    <tr>\n",
       "      <th>11</th>\n",
       "      <td>-0.625847</td>\n",
       "      <td>0.027820</td>\n",
       "      <td>-0.616626</td>\n",
       "    </tr>\n",
       "    <tr>\n",
       "      <th>12</th>\n",
       "      <td>-0.796178</td>\n",
       "      <td>-0.046883</td>\n",
       "      <td>-0.731051</td>\n",
       "    </tr>\n",
       "    <tr>\n",
       "      <th>13</th>\n",
       "      <td>-0.859039</td>\n",
       "      <td>0.376344</td>\n",
       "      <td>-0.864548</td>\n",
       "    </tr>\n",
       "    <tr>\n",
       "      <th>14</th>\n",
       "      <td>-0.291223</td>\n",
       "      <td>-0.147443</td>\n",
       "      <td>-0.311491</td>\n",
       "    </tr>\n",
       "  </tbody>\n",
       "</table>\n",
       "</div>"
      ],
      "text/plain": [
       "    Query Time  Execution Time  Query Count\n",
       "0    -0.926267        1.101344    -0.940831\n",
       "1    -0.861542       -0.070906    -0.864548\n",
       "2    -0.950804       -0.034421    -0.921760\n",
       "3    -0.863589        0.031184    -0.845477\n",
       "4     0.879676       -0.136356     0.928117\n",
       "5     2.007401       -0.126661     2.072371\n",
       "6     1.148097        0.319009     0.909046\n",
       "7     0.663393       -0.061344     0.565770\n",
       "8     1.526318       -0.135247     1.652812\n",
       "9     0.041876        0.177119     0.050856\n",
       "10   -0.092272        0.304732    -0.082641\n",
       "11   -0.625847        0.027820    -0.616626\n",
       "12   -0.796178       -0.046883    -0.731051\n",
       "13   -0.859039        0.376344    -0.864548\n",
       "14   -0.291223       -0.147443    -0.311491"
      ]
     },
     "execution_count": 58,
     "metadata": {},
     "output_type": "execute_result"
    }
   ],
   "source": [
    "X"
   ]
  },
  {
   "cell_type": "code",
   "execution_count": 59,
   "metadata": {},
   "outputs": [],
   "source": [
    "X_train, X_test, y_train, y_test = train_test_split(X, Y, test_size=0.33, random_state=42)"
   ]
  },
  {
   "cell_type": "code",
   "execution_count": 60,
   "metadata": {},
   "outputs": [],
   "source": [
    "Names=[\"Decision Tree\",\n",
    "       \"Linear Discriminant Analysis\",\n",
    "       \"Quadratic Discriminant Analysis\",\n",
    "       \"Gaussian NB\",\n",
    "       \"Gaussian ProcessClassifier\",\n",
    "       \"ExtraTreeClassifier\",\n",
    "       \"RidgeClassifier\",\n",
    "       \"KNN Classifier\"]"
   ]
  },
  {
   "cell_type": "code",
   "execution_count": 61,
   "metadata": {},
   "outputs": [],
   "source": [
    "Classifiers=[\n",
    "    DecisionTreeClassifier(),\n",
    "    LinearDiscriminantAnalysis(),\n",
    "    QuadraticDiscriminantAnalysis(),\n",
    "    GaussianNB(),\n",
    "    GaussianProcessClassifier(kernel=1.0*RBF(1.0)),\n",
    "    ExtraTreesClassifier(),\n",
    "    RidgeClassifier(),\n",
    "    KNeighborsClassifier(n_neighbors = 5)\n",
    "]"
   ]
  },
  {
   "cell_type": "code",
   "execution_count": 62,
   "metadata": {
    "scrolled": true
   },
   "outputs": [
    {
     "name": "stderr",
     "output_type": "stream",
     "text": [
      "C:\\Users\\jhyun\\Anaconda3\\envs\\MLDL\\lib\\site-packages\\sklearn\\utils\\validation.py:760: DataConversionWarning: A column-vector y was passed when a 1d array was expected. Please change the shape of y to (n_samples, ), for example using ravel().\n",
      "  y = column_or_1d(y, warn=True)\n",
      "C:\\Users\\jhyun\\Anaconda3\\envs\\MLDL\\lib\\site-packages\\sklearn\\utils\\validation.py:760: DataConversionWarning: A column-vector y was passed when a 1d array was expected. Please change the shape of y to (n_samples, ), for example using ravel().\n",
      "  y = column_or_1d(y, warn=True)\n",
      "C:\\Users\\jhyun\\Anaconda3\\envs\\MLDL\\lib\\site-packages\\sklearn\\discriminant_analysis.py:691: UserWarning: Variables are collinear\n",
      "  warnings.warn(\"Variables are collinear\")\n",
      "C:\\Users\\jhyun\\Anaconda3\\envs\\MLDL\\lib\\site-packages\\sklearn\\naive_bayes.py:206: DataConversionWarning: A column-vector y was passed when a 1d array was expected. Please change the shape of y to (n_samples, ), for example using ravel().\n",
      "  y = column_or_1d(y, warn=True)\n",
      "C:\\Users\\jhyun\\Anaconda3\\envs\\MLDL\\lib\\site-packages\\sklearn\\utils\\validation.py:760: DataConversionWarning: A column-vector y was passed when a 1d array was expected. Please change the shape of y to (n_samples, ), for example using ravel().\n",
      "  y = column_or_1d(y, warn=True)\n",
      "C:\\Users\\jhyun\\Anaconda3\\envs\\MLDL\\lib\\site-packages\\ipykernel_launcher.py:3: DataConversionWarning: A column-vector y was passed when a 1d array was expected. Please change the shape of y to (n_samples,), for example using ravel().\n",
      "  This is separate from the ipykernel package so we can avoid doing imports until\n",
      "C:\\Users\\jhyun\\Anaconda3\\envs\\MLDL\\lib\\site-packages\\sklearn\\linear_model\\_ridge.py:940: DataConversionWarning: A column-vector y was passed when a 1d array was expected. Please change the shape of y to (n_samples, ), for example using ravel().\n",
      "  y = column_or_1d(y, warn=True)\n",
      "C:\\Users\\jhyun\\Anaconda3\\envs\\MLDL\\lib\\site-packages\\ipykernel_launcher.py:3: DataConversionWarning: A column-vector y was passed when a 1d array was expected. Please change the shape of y to (n_samples, ), for example using ravel().\n",
      "  This is separate from the ipykernel package so we can avoid doing imports until\n"
     ]
    }
   ],
   "source": [
    "results=[]\n",
    "for model in Classifiers:\n",
    "    model=model.fit(X_train,y_train)\n",
    "    predict=model.predict(X_test)\n",
    "    results.append(round(accuracy_score(y_test,predict)*100))\n",
    "#print(\"Model Name: %s \\t\\t\\tAccuracy: %.2f\" % (name, (accuracy_score(y_test, predict) * 100)),\"%\") # 정확도 % 계산"
   ]
  },
  {
   "cell_type": "code",
   "execution_count": 63,
   "metadata": {},
   "outputs": [
    {
     "data": {
      "text/plain": [
       "[60.0, 80.0, 60.0, 60.0, 60.0, 60.0, 80.0, 60.0]"
      ]
     },
     "execution_count": 63,
     "metadata": {},
     "output_type": "execute_result"
    }
   ],
   "source": [
    "results"
   ]
  },
  {
   "cell_type": "code",
   "execution_count": 64,
   "metadata": {
    "scrolled": true
   },
   "outputs": [
    {
     "data": {
      "text/plain": [
       "<Figure size 864x576 with 0 Axes>"
      ]
     },
     "metadata": {},
     "output_type": "display_data"
    },
    {
     "data": {
      "image/png": "[encoded data removed]",
      "text/plain": [
       "<Figure size 432x288 with 1 Axes>"
      ]
     },
     "metadata": {
      "needs_background": "light"
     },
     "output_type": "display_data"
    }
   ],
   "source": [
    "plt.figure(figsize=(12,8))\n",
    "fig,ax=plt.subplots()\n",
    "barplot=plt.bar(Names,results)\n",
    "for idx,rect in enumerate(barplot):\n",
    "    height = rect.get_height()\n",
    "    ax.text(rect.get_x() + rect.get_width()/2., 1.02*height,\n",
    "            results[idx],\n",
    "            ha='center', va='bottom', rotation=0)\n",
    "plt.title('Accuracy_scores on models')\n",
    "plt.ylim(0,110)\n",
    "plt.ylabel('Accuracy(%)')\n",
    "plt.xticks(Names,rotation=90)\n",
    "plt.show()"
   ]
  },
  {
   "cell_type": "code",
   "execution_count": null,
   "metadata": {},
   "outputs": [],
   "source": []
  }
 ],
 "metadata": {
  "kernelspec": {
   "display_name": "Python 3",
   "language": "python",
   "name": "python3"
  },
  "language_info": {
   "codemirror_mode": {
    "name": "ipython",
    "version": 3
   },
   "file_extension": ".py",
   "mimetype": "text/x-python",
   "name": "python",
   "nbconvert_exporter": "python",
   "pygments_lexer": "ipython3",
   "version": "3.7.7"
  }
 },
 "nbformat": 4,
 "nbformat_minor": 4
}
